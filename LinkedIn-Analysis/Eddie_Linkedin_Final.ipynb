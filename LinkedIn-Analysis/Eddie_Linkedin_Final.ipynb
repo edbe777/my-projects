{
 "cells": [
  {
   "cell_type": "code",
   "execution_count": 1,
   "metadata": {},
   "outputs": [],
   "source": [
    "#webscraping\n",
    "from selenium import webdriver\n",
    "from bs4 import BeautifulSoup\n",
    "import re\n",
    "import time\n",
    "# graphing\n",
    "import matplotlib.pyplot as plt\n",
    "import pandas as pd\n",
    "import numpy as np"
   ]
  },
  {
   "cell_type": "code",
   "execution_count": 2,
   "metadata": {},
   "outputs": [
    {
     "name": "stdout",
     "output_type": "stream",
     "text": [
      "Please enter the exact LinkedIn Username you use to login (email/phone?):\n",
      "\n",
      "Please enter your exact LinkedIn Password:\n",
      "\n",
      "Please enter your exact profile Username as it appears in your profile link (everything after '/in/') :\n",
      "\n",
      "Please enter the exact Number (as a number) of the last posts you want to analyse:\n"
     ]
    }
   ],
   "source": [
    "#request user LinkedIn username password profile and number of posts:\n",
    "print(\"Please enter the exact LinkedIn Username you use to login (email/phone?):\")\n",
    "username = str(input()) \n",
    "print()\n",
    "print(\"Please enter your exact LinkedIn Password:\")\n",
    "password = str(input())\n",
    "print()\n",
    "print(\"Please enter your exact profile Username as it appears in your profile link (everything after '/in/') :\")\n",
    "link = str(input())\n",
    "print()\n",
    "print(\"Please enter the exact Number (as a number) of the last posts you want to analyse:\")\n",
    "posts = int(input())"
   ]
  },
  {
   "cell_type": "code",
   "execution_count": 3,
   "metadata": {},
   "outputs": [
    {
     "name": "stderr",
     "output_type": "stream",
     "text": [
      "C:\\Users\\eddie\\AppData\\Local\\Temp/ipykernel_17620/705993214.py:2: DeprecationWarning: executable_path has been deprecated, please pass in a Service object\n",
      "  browser = webdriver.Chrome(\"C:/Users/eddie/Documents/Eddie_Data_Job/Chrome_Driver/chromedriver.exe.\")\n"
     ]
    }
   ],
   "source": [
    "# (Google Chrome) webdriver \n",
    "browser = webdriver.Chrome(\"C:/Users/eddie/Desktop/Ironhack/MY PROJECTS/LinkedIn-Analysis/chrome_driver/chromedriver.exe.\")"
   ]
  },
  {
   "cell_type": "code",
   "execution_count": 4,
   "metadata": {},
   "outputs": [
    {
     "name": "stderr",
     "output_type": "stream",
     "text": [
      "C:\\Users\\eddie\\AppData\\Local\\Temp/ipykernel_17620/2564341591.py:3: DeprecationWarning: find_element_by_* commands are deprecated. Please use find_element() instead\n",
      "  elementID = browser.find_element_by_id('username')\n",
      "C:\\Users\\eddie\\AppData\\Local\\Temp/ipykernel_17620/2564341591.py:5: DeprecationWarning: find_element_by_* commands are deprecated. Please use find_element() instead\n",
      "  elementID = browser.find_element_by_id('password')\n"
     ]
    }
   ],
   "source": [
    "# LinkedIn login username and password\n",
    "browser.get('https://www.linkedin.com/login')\n",
    "elementID = browser.find_element_by_id('username')\n",
    "elementID.send_keys(username)\n",
    "elementID = browser.find_element_by_id('password')\n",
    "elementID.send_keys(password)\n",
    "elementID.submit()"
   ]
  },
  {
   "cell_type": "code",
   "execution_count": 5,
   "metadata": {},
   "outputs": [],
   "source": [
    "recent_linkedin = \"https://www.linkedin.com/in/\" + link + \"/detail/recent-activity/shares/\"\n",
    "browser.get(recent_linkedin)"
   ]
  },
  {
   "cell_type": "code",
   "execution_count": 6,
   "metadata": {},
   "outputs": [],
   "source": [
    "scrolls = -(-posts // 5)  "
   ]
  },
  {
   "cell_type": "code",
   "execution_count": 7,
   "metadata": {},
   "outputs": [],
   "source": [
    "likes = []\n",
    "comments = []\n",
    "views = []\n",
    "scroll_timer = 5"
   ]
  },
  {
   "cell_type": "code",
   "execution_count": 8,
   "metadata": {},
   "outputs": [],
   "source": [
    "old_height = browser.execute_script(\"return document.body.scrollHeight\")\n",
    "for scroll in range(scrolls) : \n",
    "    browser.execute_script(\"window.scrollTo(0, document.body.scrollHeight);\")\n",
    "    time.sleep(scroll_timer)\n",
    "    new_height = browser.execute_script(\"return document.body.scrollHeight\")\n",
    "    if new_height == old_height:\n",
    "        break\n",
    "    old_height = new_height    "
   ]
  },
  {
   "cell_type": "code",
   "execution_count": 9,
   "metadata": {},
   "outputs": [],
   "source": [
    "src = browser.page_source\n",
    "soup = BeautifulSoup(src, features=\"lxml\") "
   ]
  },
  {
   "cell_type": "code",
   "execution_count": 10,
   "metadata": {},
   "outputs": [],
   "source": [
    "#LIKES section\n",
    "likes_bs4tags = soup.find_all(\"span\", attrs = {\"class\" : \"social-details-social-counts__social-proof-fallback-number\"})\n",
    "for tag in likes_bs4tags:\n",
    "    strtag = str(tag)\n",
    "    matches_list = re.findall('[,0-9]+',strtag)\n",
    "    old_string = matches_list.pop()\n",
    "    no_comma = old_string.replace(',','')\n",
    "    likes_integer = int(no_comma)\n",
    "    likes.append(likes_integer)"
   ]
  },
  {
   "cell_type": "code",
   "execution_count": 11,
   "metadata": {},
   "outputs": [],
   "source": [
    "# COMMENTS section\n",
    "comments_bs4tags = soup.find_all(\"li\", attrs = {\"class\" : \"social-details-social-counts__comments social-details-social-counts__item social-details-social-counts__item--with-social-proof\"})\n",
    "for tag in comments_bs4tags:\n",
    "    strtag = str(tag)\n",
    "    matches_list = re.findall('[,0-9]+',strtag)\n",
    "    old_string = matches_list.pop()\n",
    "    no_comma = old_string.replace(',','')\n",
    "    comments_integer = int(no_comma)\n",
    "    comments.append(comments_integer)"
   ]
  },
  {
   "cell_type": "code",
   "execution_count": 12,
   "metadata": {},
   "outputs": [],
   "source": [
    "# VIEWS section\n",
    "views_bs4tags = soup.find_all(\"span\", attrs = {\"class\" : \"icon-and-text-container t-14 t-black--light t-normal\"})\n",
    "for tag in views_bs4tags:\n",
    "    strtag = str(tag)\n",
    "    matches_list = re.findall('[,0-9]+',strtag)\n",
    "    old_string = matches_list.pop()\n",
    "    no_comma = old_string.replace(',','')\n",
    "    views_integer = int(no_comma)\n",
    "    views.append(views_integer)  "
   ]
  },
  {
   "cell_type": "code",
   "execution_count": 13,
   "metadata": {},
   "outputs": [
    {
     "name": "stdout",
     "output_type": "stream",
     "text": [
      "[7, 14, 14]\n",
      "[2, 7, 1]\n",
      "[825, 32, 944]\n"
     ]
    }
   ],
   "source": [
    "#Print\n",
    "print(likes) \n",
    "print(comments)\n",
    "print(views)"
   ]
  },
  {
   "cell_type": "code",
   "execution_count": 14,
   "metadata": {},
   "outputs": [],
   "source": [
    "# Reverse lists\n",
    "likes.reverse()\n",
    "comments.reverse()\n",
    "views.reverse()"
   ]
  },
  {
   "cell_type": "code",
   "execution_count": 15,
   "metadata": {},
   "outputs": [],
   "source": [
    "# Convert lists into DataFrames\n",
    "likes_df = pd.DataFrame(likes, columns = ['Likes'])\n",
    "comments_df = pd.DataFrame(comments, columns =['Comments'])\n",
    "views_df = pd.DataFrame(views, columns =['Views'])"
   ]
  },
  {
   "cell_type": "code",
   "execution_count": 16,
   "metadata": {},
   "outputs": [],
   "source": [
    "# Get rid of outliers\n",
    "likes_df_no_outliers = likes_df[np.abs(likes_df-likes_df.median()) <= (3*likes_df.std())]\n",
    "comments_df_no_outliers = comments_df[np.abs(comments_df-comments_df.median()) <= (3*comments_df.std())]\n",
    "views_df_no_outliers = views_df[np.abs(views_df-views_df.median()) <= (3*views_df.std())]"
   ]
  },
  {
   "cell_type": "code",
   "execution_count": 17,
   "metadata": {},
   "outputs": [],
   "source": [
    "# Replace NaNs with median values\n",
    "likes_df_no_outliers['Likes'].fillna((likes_df_no_outliers['Likes'].median()), inplace=True)\n",
    "comments_df_no_outliers['Comments'].fillna((comments_df_no_outliers['Comments'].median()), inplace=True)\n",
    "views_df_no_outliers['Views'].fillna((views_df_no_outliers['Views'].median()), inplace=True)"
   ]
  },
  {
   "cell_type": "code",
   "execution_count": 18,
   "metadata": {},
   "outputs": [
    {
     "name": "stdout",
     "output_type": "stream",
     "text": [
      "   \n",
      "   LIKES SECTION  \n",
      "   \n"
     ]
    }
   ],
   "source": [
    "print('LIKES SECTION')"
   ]
  },
  {
   "cell_type": "code",
   "execution_count": 19,
   "metadata": {},
   "outputs": [
    {
     "name": "stdout",
     "output_type": "stream",
     "text": [
      "Slope: [-3.5]\n",
      "NRMSE Error: Likes    0.235702\n",
      "dtype: float64\n"
     ]
    },
    {
     "data": {
      "image/png": "[encoded data removed]",
      "text/plain": [
       "<Figure size 432x288 with 1 Axes>"
      ]
     },
     "metadata": {
      "needs_background": "light"
     },
     "output_type": "display_data"
    },
    {
     "data": {
      "text/plain": [
       "<Figure size 432x288 with 0 Axes>"
      ]
     },
     "metadata": {},
     "output_type": "display_data"
    }
   ],
   "source": [
    "coefficients_likes, residuals_likes, _, _, _ = np.polyfit(range(len(likes_df_no_outliers)),likes_df_no_outliers,1,full=True)\n",
    "mse_likes = (residuals_likes[0])/(len(likes_df_no_outliers))\n",
    "nrmse_likes = (np.sqrt(mse_likes))/(likes_df_no_outliers.max() - likes_df_no_outliers.min())\n",
    "slope_likes = coefficients_likes[0]\n",
    "print('Slope: ' + str(slope_likes))\n",
    "print('NRMSE Error: ' + str(nrmse_likes))\n",
    "plt.plot(likes_df_no_outliers)\n",
    "plt.plot([slope_likes*x + coefficients_likes[1] for x in range(len(likes_df_no_outliers))])\n",
    "plt.title('Linkedin Post LIKES for ' + link)\n",
    "plt.xlabel('Posts')\n",
    "plt.ylabel('Likes')\n",
    "# save image\n",
    "plt.savefig(link + '-linkedin-likes-last-' + str(posts) + '-posts_GRAPH.png', dpi=600)\n",
    "plt.show()\n",
    "plt.clf()"
   ]
  },
  {
   "cell_type": "code",
   "execution_count": 20,
   "metadata": {},
   "outputs": [
    {
     "name": "stdout",
     "output_type": "stream",
     "text": [
      "   \n",
      "   COMMENTS SECTION   \n",
      "   \n"
     ]
    }
   ],
   "source": [
    "print('COMMENTS SECTION')"
   ]
  },
  {
   "cell_type": "code",
   "execution_count": 21,
   "metadata": {},
   "outputs": [
    {
     "name": "stdout",
     "output_type": "stream",
     "text": [
      "Slope: [0.5]\n",
      "NRMSE Error: Comments    0.432121\n",
      "dtype: float64\n"
     ]
    },
    {
     "data": {
      "image/png": "[encoded data removed]",
      "text/plain": [
       "<Figure size 432x288 with 1 Axes>"
      ]
     },
     "metadata": {
      "needs_background": "light"
     },
     "output_type": "display_data"
    },
    {
     "data": {
      "text/plain": [
       "<Figure size 432x288 with 0 Axes>"
      ]
     },
     "metadata": {},
     "output_type": "display_data"
    }
   ],
   "source": [
    "coefficients_comments, residuals_comments, _, _, _ = np.polyfit(range(len(comments_df_no_outliers)),comments_df_no_outliers,1,full=True)\n",
    "mse_comments = (residuals_comments[0])/(len(comments_df_no_outliers))\n",
    "nrmse_comments = (np.sqrt(mse_comments))/(comments_df_no_outliers.max() - comments_df_no_outliers.min())\n",
    "slope_comments = coefficients_comments[0]\n",
    "print('Slope: ' + str(slope_comments))\n",
    "print('NRMSE Error: ' + str(nrmse_comments))\n",
    "plt.plot(comments_df_no_outliers)\n",
    "plt.plot([slope_comments*x + coefficients_comments[1] for x in range(len(comments_df_no_outliers))])\n",
    "plt.title('LinkedIn Post COMMENTS for ' + link)\n",
    "plt.xlabel('Posts')\n",
    "plt.ylabel('Comments')\n",
    "# save image\n",
    "plt.savefig(link + '-linkedin-comments-last-' + str(posts) + '-posts_GRAPH.png', dpi=600)\n",
    "plt.show()\n",
    "plt.clf()"
   ]
  },
  {
   "cell_type": "code",
   "execution_count": 22,
   "metadata": {},
   "outputs": [
    {
     "name": "stdout",
     "output_type": "stream",
     "text": [
      "   \n",
      "   VIEWS SECTION   \n",
      "   \n"
     ]
    }
   ],
   "source": [
    "print('VIEWS SECTION')"
   ]
  },
  {
   "cell_type": "code",
   "execution_count": 23,
   "metadata": {},
   "outputs": [
    {
     "name": "stdout",
     "output_type": "stream",
     "text": [
      "Slope: [-59.5]\n",
      "NRMSE Error: Views    0.44065\n",
      "dtype: float64\n"
     ]
    },
    {
     "data": {
      "image/png": "[encoded data removed]",
      "text/plain": [
       "<Figure size 432x288 with 1 Axes>"
      ]
     },
     "metadata": {
      "needs_background": "light"
     },
     "output_type": "display_data"
    },
    {
     "data": {
      "text/plain": [
       "<Figure size 432x288 with 0 Axes>"
      ]
     },
     "metadata": {},
     "output_type": "display_data"
    }
   ],
   "source": [
    "coefficients_views, residuals_views, _, _, _ = np.polyfit(range(len(views_df_no_outliers)),views_df_no_outliers,1,full=True)\n",
    "mse_views = (residuals_views[0])/(len(views_df_no_outliers))\n",
    "nrmse_views = (np.sqrt(mse_views))/(views_df_no_outliers.max() - views_df_no_outliers.min())\n",
    "slope_views = coefficients_views[0]\n",
    "print('Slope: ' + str(slope_views))\n",
    "print('NRMSE Error: ' + str(nrmse_views))\n",
    "plt.plot(views_df_no_outliers)\n",
    "plt.plot([slope_views*x + coefficients_views[1] for x in range(len(views_df_no_outliers))])\n",
    "plt.title('LinkedIn Post VIEWS for ' + link)\n",
    "plt.xlabel('Posts')\n",
    "plt.ylabel('Views')\n",
    "# save image\n",
    "plt.savefig(link + '-linkedin-views-last-' + str(posts) + '-posts_GRAPH.png', dpi=600)\n",
    "plt.show()\n",
    "plt.clf()"
   ]
  },
  {
   "cell_type": "code",
   "execution_count": 24,
   "metadata": {},
   "outputs": [],
   "source": [
    "# Save DataFrames to CSV \n",
    "likes_df_no_outliers.to_csv(link + '-linkedin-likes-last-' + str(posts) + '-posts_CSV.csv') \n",
    "comments_df_no_outliers.to_csv(link + '-linkedin-comments-last-' + str(posts) + '-posts_CSV.csv') \n",
    "views_df_no_outliers.to_csv(link + '-linkedin-views-last-' + str(posts) + '-posts_CSV.csv') "
   ]
  },
  {
   "cell_type": "code",
   "execution_count": 25,
   "metadata": {},
   "outputs": [
    {
     "name": "stdout",
     "output_type": "stream",
     "text": [
      "   \n",
      "   Finished!   \n",
      "   \n"
     ]
    }
   ],
   "source": [
    "print('Finished!')"
   ]
  },
  {
   "cell_type": "code",
   "execution_count": null,
   "metadata": {},
   "outputs": [],
   "source": []
  }
 ],
 "metadata": {
  "kernelspec": {
   "display_name": "Python 3",
   "language": "python",
   "name": "python3"
  },
  "language_info": {
   "codemirror_mode": {
    "name": "ipython",
    "version": 3
   },
   "file_extension": ".py",
   "mimetype": "text/x-python",
   "name": "python",
   "nbconvert_exporter": "python",
   "pygments_lexer": "ipython3",
   "version": "3.9.9"
  }
 },
 "nbformat": 4,
 "nbformat_minor": 2
}
