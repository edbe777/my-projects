{
 "cells": [
  {
   "cell_type": "code",
   "execution_count": 1,
   "metadata": {},
   "outputs": [],
   "source": [
    "import pandas as pd \n",
    "from pytrends.request import TrendReq\n",
    "pytrend = TrendReq()"
   ]
  },
  {
   "cell_type": "markdown",
   "metadata": {},
   "source": [
    "# Let's get the trending searches in Germany"
   ]
  },
  {
   "cell_type": "code",
   "execution_count": 2,
   "metadata": {},
   "outputs": [
    {
     "name": "stdout",
     "output_type": "stream",
     "text": [
      "                         0\n",
      "0              Tina Ruland\n",
      "1  Chelsea gegen Liverpool\n",
      "2            Antonio Brown\n",
      "3             Sophia Thiel\n",
      "4                Rick Okon\n",
      "5         Alexander Zverev\n",
      "6              Real Madrid\n",
      "7        The Biggest Loser\n",
      "8                Barcelona\n",
      "9                Südafrika\n"
     ]
    }
   ],
   "source": [
    "trending_searches_df = pytrend.trending_searches(pn='germany')\n",
    "print(trending_searches_df.head(10))"
   ]
  },
  {
   "cell_type": "markdown",
   "metadata": {},
   "source": [
    "# Top searches for Austria"
   ]
  },
  {
   "cell_type": "code",
   "execution_count": 4,
   "metadata": {},
   "outputs": [
    {
     "name": "stdout",
     "output_type": "stream",
     "text": [
      "                        0\n",
      "0         Marcel Hirscher\n",
      "1            Kylie Jenner\n",
      "2    Desperate Housewives\n",
      "3                Vignette\n",
      "4           G.G. Anderson\n",
      "5                 Neujahr\n",
      "6                 La Liga\n",
      "7           Antonio Brown\n",
      "8  Impfpflicht Österreich\n",
      "9               Barcelona\n"
     ]
    }
   ],
   "source": [
    "trending_searches_df = pytrend.trending_searches(pn='austria')\n",
    "print(trending_searches_df.head(10))"
   ]
  },
  {
   "cell_type": "markdown",
   "metadata": {},
   "source": [
    "# Top Charts for Germany"
   ]
  },
  {
   "cell_type": "code",
   "execution_count": 11,
   "metadata": {},
   "outputs": [
    {
     "name": "stdout",
     "output_type": "stream",
     "text": [
      "                title exploreQuery\n",
      "0      Rebecca Reusch             \n",
      "1          Notre Dame             \n",
      "2         Handball WM             \n",
      "3      Karl Lagerfeld             \n",
      "4               Julen             \n",
      "5          Europawahl             \n",
      "6           Frauen WM             \n",
      "7  30 Jahre Mauerfall             \n",
      "8         Thomas Cook             \n",
      "9      Greta Thunberg             \n"
     ]
    }
   ],
   "source": [
    "top_charts_df = pytrend.top_charts(2019, hl='en-US', tz=300, geo='DE')\n",
    "print(top_charts_df)"
   ]
  },
  {
   "cell_type": "markdown",
   "metadata": {},
   "source": [
    "# Let's try keyword Suggestions (camper van)"
   ]
  },
  {
   "cell_type": "code",
   "execution_count": 12,
   "metadata": {},
   "outputs": [
    {
     "name": "stdout",
     "output_type": "stream",
     "text": [
      "                                         title       type\n",
      "0  LEGO 10220 Creator Volkswagen T1 Camper Van      Topic\n",
      "1                  Volkswagen Westfalia Camper      Topic\n",
      "2                         Camper Van Beethoven  Rock band\n"
     ]
    }
   ],
   "source": [
    "suggestions_dict = pytrend.suggestions(keyword='camper van')\n",
    "print(pd.DataFrame(suggestions_dict).drop('mid', axis=1))"
   ]
  },
  {
   "cell_type": "markdown",
   "metadata": {},
   "source": [
    "# Keyword Suggestion (travel)"
   ]
  },
  {
   "cell_type": "code",
   "execution_count": 13,
   "metadata": {},
   "outputs": [
    {
     "name": "stdout",
     "output_type": "stream",
     "text": [
      "         title           type\n",
      "0       Travel          Topic\n",
      "1  Booking.com        Website\n",
      "2    Traveloka          Topic\n",
      "3        KAYAK  Travel agency\n",
      "4   Travelodge  Hotel company\n"
     ]
    }
   ],
   "source": [
    "suggestions_dict = pytrend.suggestions(keyword='travel')\n",
    "print(pd.DataFrame(suggestions_dict).drop('mid', axis=1))"
   ]
  },
  {
   "cell_type": "markdown",
   "metadata": {},
   "source": [
    "# Let's see the interest over time for travel"
   ]
  },
  {
   "cell_type": "code",
   "execution_count": 14,
   "metadata": {},
   "outputs": [
    {
     "name": "stdout",
     "output_type": "stream",
     "text": [
      "            travel isPartial\n",
      "date                        \n",
      "2021-10-24      39     False\n",
      "2021-10-31      37     False\n",
      "2021-11-07      41     False\n",
      "2021-11-14      38     False\n",
      "2021-11-21      40     False\n",
      "2021-11-28      49     False\n",
      "2021-12-05      44     False\n",
      "2021-12-12      46     False\n",
      "2021-12-19      41     False\n",
      "2021-12-26      41      True\n"
     ]
    }
   ],
   "source": [
    "# create a payload and capture API tokens. Only needed for interest_over_time(), interest_by_region() &amp; related_queries()\n",
    "pytrend.build_payload(kw_list=['travel'])\n",
    " \n",
    "# Interest Over Time\n",
    "interest_over_time_df = pytrend.interest_over_time()\n",
    "print(interest_over_time_df.tail(10))"
   ]
  },
  {
   "cell_type": "markdown",
   "metadata": {},
   "source": [
    "# Not much interest in travel nowadays... Let's see the interest by region for travel"
   ]
  },
  {
   "cell_type": "code",
   "execution_count": 15,
   "metadata": {},
   "outputs": [
    {
     "name": "stdout",
     "output_type": "stream",
     "text": [
      "                      travel\n",
      "geoName                     \n",
      "United Kingdom           100\n",
      "Singapore                 94\n",
      "Ireland                   88\n",
      "Australia                 85\n",
      "New Zealand               83\n",
      "United Arab Emirates      67\n",
      "Canada                    67\n",
      "St. Helena                66\n",
      "Serbia                    61\n",
      "Philippines               58\n",
      "Qatar                     55\n",
      "United States             52\n",
      "South Africa              44\n",
      "Hong Kong                 41\n",
      "Malaysia                  39\n",
      "Lebanon                   37\n",
      "Greece                    32\n",
      "Sri Lanka                 28\n",
      "Indonesia                 26\n",
      "Switzerland               24\n"
     ]
    }
   ],
   "source": [
    "# Interest by Region\n",
    "interest_by_region_df = pytrend.interest_by_region()\n",
    "print(interest_by_region_df.sort_values(['travel'], ascending=False).head(20))"
   ]
  },
  {
   "cell_type": "markdown",
   "metadata": {},
   "source": [
    "# Let's get the related queries for travel "
   ]
  },
  {
   "cell_type": "code",
   "execution_count": 16,
   "metadata": {},
   "outputs": [
    {
     "name": "stdout",
     "output_type": "stream",
     "text": [
      "                        query  value\n",
      "0            travel insurance    100\n",
      "1                 best travel     83\n",
      "2                 time travel     74\n",
      "3         travel restrictions     58\n",
      "4                 travel card     38\n",
      "5                  air travel     32\n",
      "6               travel agency     31\n",
      "7              travel trailer     31\n",
      "8                  travel ban     27\n",
      "9                 visa travel     26\n",
      "10               travel to uk     24\n",
      "11              google travel     23\n",
      "12                 travel bag     23\n",
      "13               travel agent     22\n",
      "14                travel news     21\n",
      "15                 one travel     19\n",
      "16               travel money     18\n",
      "17            travel trailers     16\n",
      "18              costco travel     13\n",
      "19  covid travel restrictions     13\n",
      "                           query  value\n",
      "0      covid travel restrictions  75800\n",
      "1            pcr test for travel  29150\n",
      "2            hawaii covid travel  12850\n",
      "3     hawaii travel restrictions  10200\n",
      "4               trump travel ban   9350\n",
      "5     canada travel restrictions   6950\n",
      "6         uk travel restrictions   6550\n",
      "7                  us travel ban   6400\n",
      "8         ny travel restrictions   4600\n",
      "9                 travel ban usa   4550\n",
      "10  new york travel restrictions   4200\n",
      "11     spain travel restrictions   3900\n",
      "12     italy travel restrictions   3800\n",
      "13     india travel restrictions   3650\n",
      "14        bc travel restrictions   3500\n",
      "15     maine travel restrictions   3300\n",
      "16    greece travel restrictions   3250\n",
      "17           travel restrictions   3200\n",
      "18    france travel restrictions   2850\n",
      "19    mexico travel restrictions   2750\n"
     ]
    }
   ],
   "source": [
    "# Related Queries, returns a dictionary of dataframes\n",
    "related_queries_dict = pytrend.related_queries()\n",
    "print(related_queries_dict['travel']['top'].head(20))\n",
    "print(related_queries_dict['travel']['rising'].head(20))"
   ]
  },
  {
   "cell_type": "markdown",
   "metadata": {},
   "source": [
    "# Let's get the related topics for travel as well"
   ]
  },
  {
   "cell_type": "code",
   "execution_count": 17,
   "metadata": {},
   "outputs": [
    {
     "data": {
      "text/html": [
       "<div>\n",
       "<style scoped>\n",
       "    .dataframe tbody tr th:only-of-type {\n",
       "        vertical-align: middle;\n",
       "    }\n",
       "\n",
       "    .dataframe tbody tr th {\n",
       "        vertical-align: top;\n",
       "    }\n",
       "\n",
       "    .dataframe thead th {\n",
       "        text-align: right;\n",
       "    }\n",
       "</style>\n",
       "<table border=\"1\" class=\"dataframe\">\n",
       "  <thead>\n",
       "    <tr style=\"text-align: right;\">\n",
       "      <th></th>\n",
       "      <th>value</th>\n",
       "      <th>formattedValue</th>\n",
       "      <th>topic_title</th>\n",
       "      <th>topic_type</th>\n",
       "    </tr>\n",
       "  </thead>\n",
       "  <tbody>\n",
       "    <tr>\n",
       "      <th>0</th>\n",
       "      <td>108150</td>\n",
       "      <td>Breakout</td>\n",
       "      <td>COVID-19 testing</td>\n",
       "      <td>Topic</td>\n",
       "    </tr>\n",
       "    <tr>\n",
       "      <th>1</th>\n",
       "      <td>21450</td>\n",
       "      <td>Breakout</td>\n",
       "      <td>Polymerase chain reaction</td>\n",
       "      <td>Medical test</td>\n",
       "    </tr>\n",
       "    <tr>\n",
       "      <th>2</th>\n",
       "      <td>17500</td>\n",
       "      <td>Breakout</td>\n",
       "      <td>Lockdown</td>\n",
       "      <td>Topic</td>\n",
       "    </tr>\n",
       "    <tr>\n",
       "      <th>3</th>\n",
       "      <td>9900</td>\n",
       "      <td>Breakout</td>\n",
       "      <td>Quarantine</td>\n",
       "      <td>Topic</td>\n",
       "    </tr>\n",
       "    <tr>\n",
       "      <th>4</th>\n",
       "      <td>1750</td>\n",
       "      <td>+1,750%</td>\n",
       "      <td>Travel ban</td>\n",
       "      <td>Topic</td>\n",
       "    </tr>\n",
       "    <tr>\n",
       "      <th>5</th>\n",
       "      <td>450</td>\n",
       "      <td>+450%</td>\n",
       "      <td>Border</td>\n",
       "      <td>Topic</td>\n",
       "    </tr>\n",
       "    <tr>\n",
       "      <th>6</th>\n",
       "      <td>190</td>\n",
       "      <td>+190%</td>\n",
       "      <td>Centers for Disease Control and Prevention</td>\n",
       "      <td>Government agency</td>\n",
       "    </tr>\n",
       "    <tr>\n",
       "      <th>7</th>\n",
       "      <td>100</td>\n",
       "      <td>+100%</td>\n",
       "      <td>Hawaii</td>\n",
       "      <td>US State</td>\n",
       "    </tr>\n",
       "    <tr>\n",
       "      <th>8</th>\n",
       "      <td>100</td>\n",
       "      <td>+100%</td>\n",
       "      <td>Travel Backpack</td>\n",
       "      <td>Topic</td>\n",
       "    </tr>\n",
       "    <tr>\n",
       "      <th>9</th>\n",
       "      <td>90</td>\n",
       "      <td>+90%</td>\n",
       "      <td>Travel nursing</td>\n",
       "      <td>Topic</td>\n",
       "    </tr>\n",
       "    <tr>\n",
       "      <th>10</th>\n",
       "      <td>70</td>\n",
       "      <td>+70%</td>\n",
       "      <td>Jamaica</td>\n",
       "      <td>Country in the Caribbean</td>\n",
       "    </tr>\n",
       "  </tbody>\n",
       "</table>\n",
       "</div>"
      ],
      "text/plain": [
       "     value formattedValue                                 topic_title  \\\n",
       "0   108150       Breakout                            COVID-19 testing   \n",
       "1    21450       Breakout                   Polymerase chain reaction   \n",
       "2    17500       Breakout                                    Lockdown   \n",
       "3     9900       Breakout                                  Quarantine   \n",
       "4     1750        +1,750%                                  Travel ban   \n",
       "5      450          +450%                                      Border   \n",
       "6      190          +190%  Centers for Disease Control and Prevention   \n",
       "7      100          +100%                                      Hawaii   \n",
       "8      100          +100%                             Travel Backpack   \n",
       "9       90           +90%                              Travel nursing   \n",
       "10      70           +70%                                     Jamaica   \n",
       "\n",
       "                  topic_type  \n",
       "0                      Topic  \n",
       "1               Medical test  \n",
       "2                      Topic  \n",
       "3                      Topic  \n",
       "4                      Topic  \n",
       "5                      Topic  \n",
       "6          Government agency  \n",
       "7                   US State  \n",
       "8                      Topic  \n",
       "9                      Topic  \n",
       "10  Country in the Caribbean  "
      ]
     },
     "execution_count": 17,
     "metadata": {},
     "output_type": "execute_result"
    }
   ],
   "source": [
    "related_topic = pytrend.related_topics()\n",
    "related_topic['travel']['rising'].drop(['link','topic_mid'], axis=1).head(20)"
   ]
  },
  {
   "cell_type": "code",
   "execution_count": null,
   "metadata": {},
   "outputs": [],
   "source": []
  },
  {
   "cell_type": "code",
   "execution_count": null,
   "metadata": {},
   "outputs": [],
   "source": []
  }
 ],
 "metadata": {
  "interpreter": {
   "hash": "b4ae3f830fabd9f6d0be2bfdf736c723070752cf5dc82cce9d3e82472cb111d1"
  },
  "kernelspec": {
   "display_name": "Python 3.9.9 64-bit (windows store)",
   "language": "python",
   "name": "python3"
  },
  "language_info": {
   "codemirror_mode": {
    "name": "ipython",
    "version": 3
   },
   "file_extension": ".py",
   "mimetype": "text/x-python",
   "name": "python",
   "nbconvert_exporter": "python",
   "pygments_lexer": "ipython3",
   "version": "3.9.9"
  },
  "orig_nbformat": 4
 },
 "nbformat": 4,
 "nbformat_minor": 2
}
