{
 "cells": [
  {
   "cell_type": "code",
   "execution_count": 33,
   "metadata": {},
   "outputs": [],
   "source": [
    "import matplotlib.pyplot as plt\n",
    "%matplotlib inline\n",
    "import plotly as py\n",
    "import plotly.graph_objs as go\n",
    "\n",
    "import seaborn as sns \n",
    "from scipy.stats import multivariate_normal\n",
    "import random as rnd\n",
    "from plotly.offline import download_plotlyjs,init_notebook_mode,plot,iplot\n",
    "from sklearn.metrics import confusion_matrix\n",
    "\n",
    "import matplotlib.gridspec as gridspec\n",
    "from sklearn.preprocessing import StandardScaler\n",
    "from sklearn.metrics import f1_score\n",
    "from sklearn.metrics import recall_score , average_precision_score\n",
    "from sklearn.metrics import precision_score, precision_recall_curve\n",
    "\n",
    "import pandas as pd\n",
    "import numpy as np\n",
    "from numpy import genfromtxt\n",
    "pd.set_option('display.max_columns', None)\n",
    "\n",
    "import warnings\n",
    "warnings.filterwarnings(\"ignore\")\n",
    "\n"
   ]
  },
  {
   "cell_type": "code",
   "execution_count": 3,
   "metadata": {},
   "outputs": [],
   "source": [
    "df_insurance = pd.read_csv(\"C://Users//eddie//Desktop//Ironhack//MY PROJECTS//health insurance comparisons//BenefitsCostSharing.csv\")"
   ]
  },
  {
   "cell_type": "code",
   "execution_count": 4,
   "metadata": {},
   "outputs": [
    {
     "data": {
      "text/html": [
       "<div>\n",
       "<style scoped>\n",
       "    .dataframe tbody tr th:only-of-type {\n",
       "        vertical-align: middle;\n",
       "    }\n",
       "\n",
       "    .dataframe tbody tr th {\n",
       "        vertical-align: top;\n",
       "    }\n",
       "\n",
       "    .dataframe thead th {\n",
       "        text-align: right;\n",
       "    }\n",
       "</style>\n",
       "<table border=\"1\" class=\"dataframe\">\n",
       "  <thead>\n",
       "    <tr style=\"text-align: right;\">\n",
       "      <th></th>\n",
       "      <th>BenefitName</th>\n",
       "      <th>BusinessYear</th>\n",
       "      <th>CoinsInnTier1</th>\n",
       "      <th>CoinsInnTier2</th>\n",
       "      <th>CoinsOutofNet</th>\n",
       "      <th>CopayInnTier1</th>\n",
       "      <th>CopayInnTier2</th>\n",
       "      <th>CopayOutofNet</th>\n",
       "      <th>EHBVarReason</th>\n",
       "      <th>Exclusions</th>\n",
       "      <th>Explanation</th>\n",
       "      <th>ImportDate</th>\n",
       "      <th>IsCovered</th>\n",
       "      <th>IsEHB</th>\n",
       "      <th>IsExclFromInnMOOP</th>\n",
       "      <th>IsExclFromOonMOOP</th>\n",
       "      <th>IsStateMandate</th>\n",
       "      <th>IsSubjToDedTier1</th>\n",
       "      <th>IsSubjToDedTier2</th>\n",
       "      <th>IssuerId</th>\n",
       "      <th>IssuerId2</th>\n",
       "      <th>LimitQty</th>\n",
       "      <th>LimitUnit</th>\n",
       "      <th>MinimumStay</th>\n",
       "      <th>PlanId</th>\n",
       "      <th>QuantLimitOnSvc</th>\n",
       "      <th>RowNumber</th>\n",
       "      <th>SourceName</th>\n",
       "      <th>StandardComponentId</th>\n",
       "      <th>StateCode</th>\n",
       "      <th>StateCode2</th>\n",
       "      <th>VersionNum</th>\n",
       "    </tr>\n",
       "  </thead>\n",
       "  <tbody>\n",
       "    <tr>\n",
       "      <th>0</th>\n",
       "      <td>Routine Dental Services (Adult)</td>\n",
       "      <td>2014</td>\n",
       "      <td>20%</td>\n",
       "      <td>NaN</td>\n",
       "      <td>20%</td>\n",
       "      <td>No Charge</td>\n",
       "      <td>NaN</td>\n",
       "      <td>No Charge</td>\n",
       "      <td>Above EHB</td>\n",
       "      <td>NaN</td>\n",
       "      <td>Combined annual benefit maximum of $1000 per y...</td>\n",
       "      <td>2014-03-19 07:06:49</td>\n",
       "      <td>Covered</td>\n",
       "      <td>NaN</td>\n",
       "      <td>No</td>\n",
       "      <td>No</td>\n",
       "      <td>NaN</td>\n",
       "      <td>No</td>\n",
       "      <td>No</td>\n",
       "      <td>21989</td>\n",
       "      <td>21989</td>\n",
       "      <td>1000.0</td>\n",
       "      <td>Dollars per Year</td>\n",
       "      <td>NaN</td>\n",
       "      <td>21989AK0010001-00</td>\n",
       "      <td>Yes</td>\n",
       "      <td>68</td>\n",
       "      <td>HIOS</td>\n",
       "      <td>21989AK0010001</td>\n",
       "      <td>AK</td>\n",
       "      <td>AK</td>\n",
       "      <td>6</td>\n",
       "    </tr>\n",
       "    <tr>\n",
       "      <th>1</th>\n",
       "      <td>Dental Check-Up for Children</td>\n",
       "      <td>2014</td>\n",
       "      <td>20%</td>\n",
       "      <td>NaN</td>\n",
       "      <td>20%</td>\n",
       "      <td>No Charge</td>\n",
       "      <td>NaN</td>\n",
       "      <td>No Charge</td>\n",
       "      <td>Substantially Equal</td>\n",
       "      <td>NaN</td>\n",
       "      <td>See policy for additional limitations</td>\n",
       "      <td>2014-03-19 07:06:49</td>\n",
       "      <td>Covered</td>\n",
       "      <td>Yes</td>\n",
       "      <td>No</td>\n",
       "      <td>No</td>\n",
       "      <td>NaN</td>\n",
       "      <td>No</td>\n",
       "      <td>No</td>\n",
       "      <td>21989</td>\n",
       "      <td>21989</td>\n",
       "      <td>1.0</td>\n",
       "      <td>Visit(s) per 6 Months</td>\n",
       "      <td>NaN</td>\n",
       "      <td>21989AK0010001-00</td>\n",
       "      <td>Yes</td>\n",
       "      <td>104</td>\n",
       "      <td>HIOS</td>\n",
       "      <td>21989AK0010001</td>\n",
       "      <td>AK</td>\n",
       "      <td>AK</td>\n",
       "      <td>6</td>\n",
       "    </tr>\n",
       "    <tr>\n",
       "      <th>2</th>\n",
       "      <td>Basic Dental Care - Child</td>\n",
       "      <td>2014</td>\n",
       "      <td>40%</td>\n",
       "      <td>NaN</td>\n",
       "      <td>40%</td>\n",
       "      <td>No Charge</td>\n",
       "      <td>NaN</td>\n",
       "      <td>No Charge</td>\n",
       "      <td>Substantially Equal</td>\n",
       "      <td>NaN</td>\n",
       "      <td>See policy for additional limitations</td>\n",
       "      <td>2014-03-19 07:06:49</td>\n",
       "      <td>Covered</td>\n",
       "      <td>Yes</td>\n",
       "      <td>No</td>\n",
       "      <td>No</td>\n",
       "      <td>NaN</td>\n",
       "      <td>Yes</td>\n",
       "      <td>Yes</td>\n",
       "      <td>21989</td>\n",
       "      <td>21989</td>\n",
       "      <td>NaN</td>\n",
       "      <td>NaN</td>\n",
       "      <td>NaN</td>\n",
       "      <td>21989AK0010001-00</td>\n",
       "      <td>NaN</td>\n",
       "      <td>110</td>\n",
       "      <td>HIOS</td>\n",
       "      <td>21989AK0010001</td>\n",
       "      <td>AK</td>\n",
       "      <td>AK</td>\n",
       "      <td>6</td>\n",
       "    </tr>\n",
       "    <tr>\n",
       "      <th>3</th>\n",
       "      <td>Orthodontia - Child</td>\n",
       "      <td>2014</td>\n",
       "      <td>50%</td>\n",
       "      <td>NaN</td>\n",
       "      <td>50%</td>\n",
       "      <td>No Charge</td>\n",
       "      <td>NaN</td>\n",
       "      <td>No Charge</td>\n",
       "      <td>Additional EHB Benefit</td>\n",
       "      <td>NaN</td>\n",
       "      <td>24 month waiting period, See policy for additi...</td>\n",
       "      <td>2014-03-19 07:06:49</td>\n",
       "      <td>Covered</td>\n",
       "      <td>NaN</td>\n",
       "      <td>No</td>\n",
       "      <td>No</td>\n",
       "      <td>NaN</td>\n",
       "      <td>Yes</td>\n",
       "      <td>Yes</td>\n",
       "      <td>21989</td>\n",
       "      <td>21989</td>\n",
       "      <td>NaN</td>\n",
       "      <td>NaN</td>\n",
       "      <td>NaN</td>\n",
       "      <td>21989AK0010001-00</td>\n",
       "      <td>NaN</td>\n",
       "      <td>111</td>\n",
       "      <td>HIOS</td>\n",
       "      <td>21989AK0010001</td>\n",
       "      <td>AK</td>\n",
       "      <td>AK</td>\n",
       "      <td>6</td>\n",
       "    </tr>\n",
       "    <tr>\n",
       "      <th>4</th>\n",
       "      <td>Major Dental Care - Child</td>\n",
       "      <td>2014</td>\n",
       "      <td>50%</td>\n",
       "      <td>NaN</td>\n",
       "      <td>50%</td>\n",
       "      <td>No Charge</td>\n",
       "      <td>NaN</td>\n",
       "      <td>No Charge</td>\n",
       "      <td>Substantially Equal</td>\n",
       "      <td>NaN</td>\n",
       "      <td>See policy for additional limitations</td>\n",
       "      <td>2014-03-19 07:06:49</td>\n",
       "      <td>Covered</td>\n",
       "      <td>Yes</td>\n",
       "      <td>No</td>\n",
       "      <td>No</td>\n",
       "      <td>NaN</td>\n",
       "      <td>Yes</td>\n",
       "      <td>Yes</td>\n",
       "      <td>21989</td>\n",
       "      <td>21989</td>\n",
       "      <td>NaN</td>\n",
       "      <td>NaN</td>\n",
       "      <td>NaN</td>\n",
       "      <td>21989AK0010001-00</td>\n",
       "      <td>NaN</td>\n",
       "      <td>112</td>\n",
       "      <td>HIOS</td>\n",
       "      <td>21989AK0010001</td>\n",
       "      <td>AK</td>\n",
       "      <td>AK</td>\n",
       "      <td>6</td>\n",
       "    </tr>\n",
       "  </tbody>\n",
       "</table>\n",
       "</div>"
      ],
      "text/plain": [
       "                       BenefitName  BusinessYear CoinsInnTier1 CoinsInnTier2  \\\n",
       "0  Routine Dental Services (Adult)          2014           20%           NaN   \n",
       "1     Dental Check-Up for Children          2014           20%           NaN   \n",
       "2        Basic Dental Care - Child          2014           40%           NaN   \n",
       "3              Orthodontia - Child          2014           50%           NaN   \n",
       "4        Major Dental Care - Child          2014           50%           NaN   \n",
       "\n",
       "  CoinsOutofNet CopayInnTier1 CopayInnTier2 CopayOutofNet  \\\n",
       "0           20%     No Charge           NaN     No Charge   \n",
       "1           20%     No Charge           NaN     No Charge   \n",
       "2           40%     No Charge           NaN     No Charge   \n",
       "3           50%     No Charge           NaN     No Charge   \n",
       "4           50%     No Charge           NaN     No Charge   \n",
       "\n",
       "             EHBVarReason Exclusions  \\\n",
       "0               Above EHB        NaN   \n",
       "1     Substantially Equal        NaN   \n",
       "2     Substantially Equal        NaN   \n",
       "3  Additional EHB Benefit        NaN   \n",
       "4     Substantially Equal        NaN   \n",
       "\n",
       "                                         Explanation           ImportDate  \\\n",
       "0  Combined annual benefit maximum of $1000 per y...  2014-03-19 07:06:49   \n",
       "1              See policy for additional limitations  2014-03-19 07:06:49   \n",
       "2              See policy for additional limitations  2014-03-19 07:06:49   \n",
       "3  24 month waiting period, See policy for additi...  2014-03-19 07:06:49   \n",
       "4              See policy for additional limitations  2014-03-19 07:06:49   \n",
       "\n",
       "  IsCovered IsEHB IsExclFromInnMOOP IsExclFromOonMOOP IsStateMandate  \\\n",
       "0   Covered   NaN                No                No            NaN   \n",
       "1   Covered   Yes                No                No            NaN   \n",
       "2   Covered   Yes                No                No            NaN   \n",
       "3   Covered   NaN                No                No            NaN   \n",
       "4   Covered   Yes                No                No            NaN   \n",
       "\n",
       "  IsSubjToDedTier1 IsSubjToDedTier2  IssuerId  IssuerId2  LimitQty  \\\n",
       "0               No               No     21989      21989    1000.0   \n",
       "1               No               No     21989      21989       1.0   \n",
       "2              Yes              Yes     21989      21989       NaN   \n",
       "3              Yes              Yes     21989      21989       NaN   \n",
       "4              Yes              Yes     21989      21989       NaN   \n",
       "\n",
       "               LimitUnit  MinimumStay             PlanId QuantLimitOnSvc  \\\n",
       "0       Dollars per Year          NaN  21989AK0010001-00             Yes   \n",
       "1  Visit(s) per 6 Months          NaN  21989AK0010001-00             Yes   \n",
       "2                    NaN          NaN  21989AK0010001-00             NaN   \n",
       "3                    NaN          NaN  21989AK0010001-00             NaN   \n",
       "4                    NaN          NaN  21989AK0010001-00             NaN   \n",
       "\n",
       "   RowNumber SourceName StandardComponentId StateCode StateCode2  VersionNum  \n",
       "0         68       HIOS      21989AK0010001        AK         AK           6  \n",
       "1        104       HIOS      21989AK0010001        AK         AK           6  \n",
       "2        110       HIOS      21989AK0010001        AK         AK           6  \n",
       "3        111       HIOS      21989AK0010001        AK         AK           6  \n",
       "4        112       HIOS      21989AK0010001        AK         AK           6  "
      ]
     },
     "execution_count": 4,
     "metadata": {},
     "output_type": "execute_result"
    }
   ],
   "source": [
    "df_insurance.head()"
   ]
  },
  {
   "cell_type": "code",
   "execution_count": 6,
   "metadata": {},
   "outputs": [
    {
     "data": {
      "text/plain": [
       "(5048408, 32)"
      ]
     },
     "execution_count": 6,
     "metadata": {},
     "output_type": "execute_result"
    }
   ],
   "source": [
    "df_insurance.shape"
   ]
  },
  {
   "cell_type": "markdown",
   "metadata": {},
   "source": [
    "# how many nulls"
   ]
  },
  {
   "cell_type": "code",
   "execution_count": 5,
   "metadata": {},
   "outputs": [
    {
     "data": {
      "text/plain": [
       "BenefitName                  0\n",
       "BusinessYear                 0\n",
       "CoinsInnTier1          1113847\n",
       "CoinsInnTier2          4571587\n",
       "CoinsOutofNet          1113847\n",
       "CopayInnTier1          1113847\n",
       "CopayInnTier2          4571587\n",
       "CopayOutofNet          1113849\n",
       "EHBVarReason           3020737\n",
       "Exclusions             4572247\n",
       "Explanation            4075700\n",
       "ImportDate                   0\n",
       "IsCovered               215980\n",
       "IsEHB                  1817362\n",
       "IsExclFromInnMOOP       983986\n",
       "IsExclFromOonMOOP       982626\n",
       "IsStateMandate         4250463\n",
       "IsSubjToDedTier1       2465877\n",
       "IsSubjToDedTier2       2466054\n",
       "IssuerId                     0\n",
       "IssuerId2                    0\n",
       "LimitQty               4360725\n",
       "LimitUnit              4360539\n",
       "MinimumStay            5031681\n",
       "PlanId                       0\n",
       "QuantLimitOnSvc        3264532\n",
       "RowNumber                    0\n",
       "SourceName                   0\n",
       "StandardComponentId          0\n",
       "StateCode                    0\n",
       "StateCode2                   0\n",
       "VersionNum                   0\n",
       "dtype: int64"
      ]
     },
     "execution_count": 5,
     "metadata": {},
     "output_type": "execute_result"
    }
   ],
   "source": [
    "df_insurance.isnull().sum()"
   ]
  },
  {
   "cell_type": "markdown",
   "metadata": {},
   "source": [
    "# column names"
   ]
  },
  {
   "cell_type": "code",
   "execution_count": 8,
   "metadata": {},
   "outputs": [
    {
     "data": {
      "text/plain": [
       "Index(['BenefitName', 'BusinessYear', 'CoinsInnTier1', 'CoinsInnTier2',\n",
       "       'CoinsOutofNet', 'CopayInnTier1', 'CopayInnTier2', 'CopayOutofNet',\n",
       "       'EHBVarReason', 'Exclusions', 'Explanation', 'ImportDate', 'IsCovered',\n",
       "       'IsEHB', 'IsExclFromInnMOOP', 'IsExclFromOonMOOP', 'IsStateMandate',\n",
       "       'IsSubjToDedTier1', 'IsSubjToDedTier2', 'IssuerId', 'IssuerId2',\n",
       "       'LimitQty', 'LimitUnit', 'MinimumStay', 'PlanId', 'QuantLimitOnSvc',\n",
       "       'RowNumber', 'SourceName', 'StandardComponentId', 'StateCode',\n",
       "       'StateCode2', 'VersionNum'],\n",
       "      dtype='object')"
      ]
     },
     "execution_count": 8,
     "metadata": {},
     "output_type": "execute_result"
    }
   ],
   "source": [
    "df_insurance.columns"
   ]
  },
  {
   "cell_type": "code",
   "execution_count": 9,
   "metadata": {},
   "outputs": [
    {
     "name": "stdout",
     "output_type": "stream",
     "text": [
      "<class 'pandas.core.frame.DataFrame'>\n",
      "RangeIndex: 5048408 entries, 0 to 5048407\n",
      "Data columns (total 32 columns):\n",
      " #   Column               Dtype  \n",
      "---  ------               -----  \n",
      " 0   BenefitName          object \n",
      " 1   BusinessYear         int64  \n",
      " 2   CoinsInnTier1        object \n",
      " 3   CoinsInnTier2        object \n",
      " 4   CoinsOutofNet        object \n",
      " 5   CopayInnTier1        object \n",
      " 6   CopayInnTier2        object \n",
      " 7   CopayOutofNet        object \n",
      " 8   EHBVarReason         object \n",
      " 9   Exclusions           object \n",
      " 10  Explanation          object \n",
      " 11  ImportDate           object \n",
      " 12  IsCovered            object \n",
      " 13  IsEHB                object \n",
      " 14  IsExclFromInnMOOP    object \n",
      " 15  IsExclFromOonMOOP    object \n",
      " 16  IsStateMandate       object \n",
      " 17  IsSubjToDedTier1     object \n",
      " 18  IsSubjToDedTier2     object \n",
      " 19  IssuerId             int64  \n",
      " 20  IssuerId2            int64  \n",
      " 21  LimitQty             float64\n",
      " 22  LimitUnit            object \n",
      " 23  MinimumStay          float64\n",
      " 24  PlanId               object \n",
      " 25  QuantLimitOnSvc      object \n",
      " 26  RowNumber            int64  \n",
      " 27  SourceName           object \n",
      " 28  StandardComponentId  object \n",
      " 29  StateCode            object \n",
      " 30  StateCode2           object \n",
      " 31  VersionNum           int64  \n",
      "dtypes: float64(2), int64(5), object(25)\n",
      "memory usage: 1.2+ GB\n"
     ]
    }
   ],
   "source": [
    "df_insurance.info()"
   ]
  },
  {
   "cell_type": "markdown",
   "metadata": {},
   "source": [
    "# change columns to lowercase"
   ]
  },
  {
   "cell_type": "code",
   "execution_count": 10,
   "metadata": {},
   "outputs": [
    {
     "data": {
      "text/plain": [
       "Index(['benefitname', 'businessyear', 'coinsinntier1', 'coinsinntier2',\n",
       "       'coinsoutofnet', 'copayinntier1', 'copayinntier2', 'copayoutofnet',\n",
       "       'ehbvarreason', 'exclusions', 'explanation', 'importdate', 'iscovered',\n",
       "       'isehb', 'isexclfrominnmoop', 'isexclfromoonmoop', 'isstatemandate',\n",
       "       'issubjtodedtier1', 'issubjtodedtier2', 'issuerid', 'issuerid2',\n",
       "       'limitqty', 'limitunit', 'minimumstay', 'planid', 'quantlimitonsvc',\n",
       "       'rownumber', 'sourcename', 'standardcomponentid', 'statecode',\n",
       "       'statecode2', 'versionnum'],\n",
       "      dtype='object')"
      ]
     },
     "execution_count": 10,
     "metadata": {},
     "output_type": "execute_result"
    }
   ],
   "source": [
    "df_insurance.columns = [columns.lower().replace(' ', '_') for columns in df_insurance.columns]  \n",
    "df_insurance.columns"
   ]
  },
  {
   "cell_type": "markdown",
   "metadata": {},
   "source": [
    "# how much data is filled in each column "
   ]
  },
  {
   "cell_type": "code",
   "execution_count": 11,
   "metadata": {},
   "outputs": [
    {
     "data": {
      "text/plain": [
       "benefitname            100.000000\n",
       "businessyear           100.000000\n",
       "coinsinntier1           77.936668\n",
       "coinsinntier2            9.444978\n",
       "coinsoutofnet           77.936668\n",
       "copayinntier1           77.936668\n",
       "copayinntier2            9.444978\n",
       "copayoutofnet           77.936629\n",
       "ehbvarreason            40.164563\n",
       "exclusions               9.431904\n",
       "explanation             19.267619\n",
       "importdate             100.000000\n",
       "iscovered               95.721820\n",
       "isehb                   64.001285\n",
       "isexclfrominnmoop       80.508984\n",
       "isexclfromoonmoop       80.535923\n",
       "isstatemandate          15.805874\n",
       "issubjtodedtier1        51.155354\n",
       "issubjtodedtier2        51.151848\n",
       "issuerid               100.000000\n",
       "issuerid2              100.000000\n",
       "limitqty                13.621779\n",
       "limitunit               13.625464\n",
       "minimumstay              0.331332\n",
       "planid                 100.000000\n",
       "quantlimitonsvc         35.335417\n",
       "rownumber              100.000000\n",
       "sourcename             100.000000\n",
       "standardcomponentid    100.000000\n",
       "statecode              100.000000\n",
       "statecode2             100.000000\n",
       "versionnum             100.000000\n",
       "dtype: float64"
      ]
     },
     "execution_count": 11,
     "metadata": {},
     "output_type": "execute_result"
    }
   ],
   "source": [
    "(df_insurance.count()/len(df_insurance))*100"
   ]
  },
  {
   "cell_type": "markdown",
   "metadata": {},
   "source": [
    "# describing the data "
   ]
  },
  {
   "cell_type": "code",
   "execution_count": 12,
   "metadata": {},
   "outputs": [
    {
     "name": "stdout",
     "output_type": "stream",
     "text": [
      "---------- benefitname ---------\n",
      "Orthodontia - Adult                   77377\n",
      "Routine Dental Services (Adult)       77353\n",
      "Basic Dental Care - Adult             77353\n",
      "Accidental Dental                     77353\n",
      "Major Dental Care - Adult             77353\n",
      "                                      ...  \n",
      "Posterior Composites - Child              1\n",
      "Implant Adult                             1\n",
      "Prefab Resin Crown                        1\n",
      "Vital pulpotomy                           1\n",
      "root Canal Therapy and Retreatment        1\n",
      "Name: benefitname, Length: 861, dtype: int64\n",
      "---------- benefitname ---------- \n",
      "\n",
      "---------- businessyear ---------\n",
      "2015    2079286\n",
      "2016    1804253\n",
      "2014    1164869\n",
      "Name: businessyear, dtype: int64\n",
      "---------- businessyear ---------- \n",
      "\n",
      "---------- coinsinntier1 ---------\n",
      "20% Coinsurance after deductible    673204\n",
      "No Charge                           665749\n",
      "0%                                  624803\n",
      "No Charge after deductible          392355\n",
      "30% Coinsurance after deductible    335056\n",
      "                                     ...  \n",
      "42% Coinsurance after deductible         2\n",
      "6% Coinsurance after deductible          1\n",
      "110%                                     1\n",
      "16%                                      1\n",
      "28% Coinsurance after deductible         1\n",
      "Name: coinsinntier1, Length: 115, dtype: int64\n",
      "---------- coinsinntier1 ---------- \n",
      "\n",
      "---------- coinsinntier2 ---------\n",
      "Not Applicable                       185524\n",
      "0%                                    78390\n",
      "No Charge                             67105\n",
      "No Charge after deductible            25538\n",
      "40% Coinsurance after deductible      24824\n",
      "50% Coinsurance after deductible      23837\n",
      "30% Coinsurance after deductible      18352\n",
      "20% Coinsurance after deductible      11539\n",
      "0% Coinsurance after deductible        8343\n",
      "10% Coinsurance after deductible       6584\n",
      "50%                                    5216\n",
      "45% Coinsurance after deductible       4116\n",
      "25% Coinsurance after deductible       3454\n",
      "20%                                    2798\n",
      "$0                                     1794\n",
      "15% Coinsurance after deductible       1522\n",
      "30%                                    1206\n",
      "35% Coinsurance after deductible       1172\n",
      "100%                                    931\n",
      "60% Coinsurance after deductible        834\n",
      "25%                                     755\n",
      "8%                                      676\n",
      "49%                                     516\n",
      "5% Coinsurance after deductible         450\n",
      "70% Coinsurance after deductible        419\n",
      "40%                                     390\n",
      "10%                                     323\n",
      "75% Coinsurance after deductible        152\n",
      "55% Coinsurance after deductible         15\n",
      "35%                                       9\n",
      "9% Coinsurance after deductible           9\n",
      "80% Coinsurance after deductible          8\n",
      "60%                                       7\n",
      "19% Coinsurance after deductible          6\n",
      "29% Coinsurance after deductible          3\n",
      "100% Coinsurance after deductible         3\n",
      "15%                                       1\n",
      "Name: coinsinntier2, dtype: int64\n",
      "---------- coinsinntier2 ---------- \n",
      "\n",
      "---------- coinsoutofnet ---------\n",
      "100%                                 1864875\n",
      "50% Coinsurance after deductible      779150\n",
      "0%                                    346921\n",
      "40% Coinsurance after deductible      214133\n",
      "No Charge                             120478\n",
      "30% Coinsurance after deductible      120102\n",
      "20% Coinsurance after deductible       86722\n",
      "No Charge after deductible             66562\n",
      "0% Coinsurance after deductible        63568\n",
      "60% Coinsurance after deductible       54201\n",
      "50%                                    36900\n",
      "70% Coinsurance after deductible       30176\n",
      "25% Coinsurance after deductible       29910\n",
      "Not Applicable                         21541\n",
      "45% Coinsurance after deductible       19588\n",
      "10% Coinsurance after deductible       12315\n",
      "20%                                     7653\n",
      "80% Coinsurance after deductible        7441\n",
      "100% Coinsurance after deductible       7149\n",
      "35% Coinsurance after deductible        6208\n",
      "75% Coinsurance after deductible        5140\n",
      "65% Coinsurance after deductible        4923\n",
      "40%                                     4741\n",
      "30%                                     3726\n",
      "55% Coinsurance after deductible        3559\n",
      "70%                                     3112\n",
      "25%                                     2044\n",
      "15% Coinsurance after deductible        1856\n",
      "$0                                      1824\n",
      "5% Coinsurance after deductible         1805\n",
      "10%                                     1616\n",
      "90% Coinsurance after deductible        1543\n",
      "60%                                      610\n",
      "35%                                      516\n",
      "75%                                      495\n",
      "45%                                      445\n",
      "15%                                      318\n",
      "65%                                      186\n",
      "85% Coinsurance after deductible          98\n",
      "5%                                        67\n",
      "80%                                       52\n",
      "8%                                        51\n",
      "58% Coinsurance after deductible          45\n",
      "49%                                       39\n",
      "55%                                       28\n",
      "33%                                       24\n",
      "28% Coinsurance after deductible          18\n",
      "2% Coinsurance after deductible           16\n",
      "19%                                       16\n",
      "90%                                       15\n",
      "37% Coinsurance after deductible          12\n",
      "3% Coinsurance after deductible            7\n",
      "46% Coinsurance after deductible           6\n",
      "33% Coinsurance after deductible           4\n",
      "21% Coinsurance after deductible           3\n",
      "95%                                        2\n",
      "37%                                        2\n",
      "28%                                        2\n",
      "2%                                         1\n",
      "1%                                         1\n",
      "Name: coinsoutofnet, dtype: int64\n",
      "---------- coinsoutofnet ---------- \n",
      "\n",
      "---------- copayinntier1 ---------\n",
      "No Charge                              1534500\n",
      "Not Applicable                          769512\n",
      "$0                                      680278\n",
      "No Charge after deductible              216676\n",
      "$50                                      52908\n",
      "                                        ...   \n",
      "$50 Copay per Stay after deductible          1\n",
      "$1,000 Copay per Day                         1\n",
      "$245                                         1\n",
      "$302                                         1\n",
      "$165                                         1\n",
      "Name: copayinntier1, Length: 516, dtype: int64\n",
      "---------- copayinntier1 ---------- \n",
      "\n",
      "---------- copayinntier2 ---------\n",
      "Not Applicable                           199578\n",
      "No Charge                                 98016\n",
      "$0                                        85690\n",
      "No Charge after deductible                21924\n",
      "$50                                        4627\n",
      "                                          ...  \n",
      "$350 Copay per Day before deductible          1\n",
      "$1000 Copay per Stay after deductible         1\n",
      "$225 Copay after deductible                   1\n",
      "$300 Copay per Stay                           1\n",
      "$80 Copay per Day                             1\n",
      "Name: copayinntier2, Length: 278, dtype: int64\n",
      "---------- copayinntier2 ---------- \n",
      "\n",
      "---------- copayoutofnet ---------\n",
      "No Charge                       1371646\n",
      "Not Applicable                  1150725\n",
      "$0                              1119929\n",
      "No Charge after deductible       110485\n",
      "$0 Copay per Day                  44397\n",
      "                                 ...   \n",
      "$35 Copay before deductible           1\n",
      "$30 Copay before deductible           1\n",
      "$260 Copay before deductible          1\n",
      "$200 Copay per Stay                   1\n",
      "$11                                   1\n",
      "Name: copayoutofnet, Length: 232, dtype: int64\n",
      "---------- copayoutofnet ---------- \n",
      "\n",
      "---------- ehbvarreason ---------\n",
      "Substantially Equal           776295\n",
      "Additional EHB Benefit        699464\n",
      "Above EHB                     265938\n",
      "Dental Only Plan Available    167731\n",
      "Other Law/Regulation          114117\n",
      "Substituted                     3978\n",
      "Using Alternate Benchmark         63\n",
      "\\nAdditional EHB Benefit          60\n",
      "Substantially equal               12\n",
      "above EHB                          8\n",
      "additional EHB Benefit             4\n",
      "Above Ehb                          1\n",
      "Name: ehbvarreason, dtype: int64\n",
      "---------- ehbvarreason ---------- \n",
      "\n",
      "---------- exclusions ---------\n",
      "Member cost share based on place and type of service.                                                                                                                                                                                                                 31531\n",
      "Coverage for certain agents or medication categories may also be excluded. These include, but are not limited to: Weight Loss, Impotency, OTC Equivalents and Compounds. See benefit book for further details. Any drug not found on the drug list is not covered.    13112\n",
      "Coverage for certain agents or medication categories may also be excluded. These include, but are not limited to: Weight Loss, Impotency, OTC Equivalents and Compounds. See benefit book for further details.                                                         9240\n",
      "None; Refer to the Policy Exclusions and Limitations.                                                                                                                                                                                                                  8222\n",
      "Cost sharing could vary based on drug and pharmacy selected. Please see SBC for full plan details.                                                                                                                                                                     7498\n",
      "                                                                                                                                                                                                                                                                      ...  \n",
      "No charge for Out-of-Network for immunizations through age 6, thereafter deductible and coinsurance apply.                                                                                                                                                                1\n",
      "Coverage is limited to 1 pair (lenses and frames) OR glasses per year                                                                                                                                                                                                     1\n",
      "Sealants are not available to anyone 18 years of age or older.                                                                                                                                                                                                            1\n",
      "Separate charge for alveolectomy performed in conjunction with tooth removal. Full mouth debridement not covered if performed on the same date as prophylaxis                                                                                                             1\n",
      "Topical Fluoride are not available to anyone 18 years of age or older.                                                                                                                                                                                                    1\n",
      "Name: exclusions, Length: 1720, dtype: int64\n",
      "---------- exclusions ---------- \n",
      "\n",
      "---------- explanation ---------\n",
      "Quantitative limit units apply, see EHB benchmark.                                                                                                                                                                                                                                                                                                                                                                                                                                                                                                                                                                                                                                                                                                                                                                                                                                                                                                                                              21571\n",
      "Quantitative limit units apply, see EHB benchmark                                                                                                                                                                                                                                                                                                                                                                                                                                                                                                                                                                                                                                                                                                                                                                                                                                                                                                                                               15714\n",
      "Rehabilitation, Habilitation, and Chiropractic Care visit limit is 35 total combined visits between these services per Benefit period                                                                                                                                                                                                                                                                                                                                                                                                                                                                                                                                                                                                                                                                                                                                                                                                                                                           11004\n",
      "Prior Authorization Required                                                                                                                                                                                                                                                                                                                                                                                                                                                                                                                                                                                                                                                                                                                                                                                                                                                                                                                                                                     8858\n",
      "High Cost Imaging services (MRI/PET/CT Scans), Laboratory Services, and X-rays and Diagnostic Imaging will be an exception to the Office Visit Copay.  These services will not be covered under the Office Visit copay, even when performed during an Office Visit.  If the plan design does not have an OV copay, the High Cost Imaging services (MRI/PET/CT Scans), Laboratory Services, and X-rays and Diagnostic Imaging services will be subject to Deductible and Coinsurance, unless otherwise stated in the plan design.  New list of services that are exceptions to the Office Visit Copay are High Cost Imaging (MRI/PET/CT Scans), Lab services, X-rays and Diagnostic Imaging, Surgery, Physical/ Occupational/Speech Therapy, Chiropractic and Osteopathic Manipulation.                                                                                                                                                                                                           6823\n",
      "                                                                                                                                                                                                                                                                                                                                                                                                                                                                                                                                                                                                                                                                                                                                                                                                                                                                                                                                                                                                ...  \n",
      "Benefits for all adult services limited to a combined maximum of $750 per year. Class III services have 12 month waiting period and are limited as follows Crowns and other restorations 1 per tooth per 10 years. Replacement of existing prosthetic only when unserviceable and in place at least 10 years. Cast partial, full, and immediate dentures, or overdenture limited to cost of standard full or cast partial denture. Benefits for relines provided once per 12 months. Initial placement only covered if natural tooth lost or extracted while coverage is in effect or after at least 36 consecutive months. Surgical placement and removal of implants 1 per tooth space per lifetime.                                                                                                                                                                                                                                                                                              1\n",
      "Other x-rays included on plan are panoramic and complete series 1 per 5 years                                                                                                                                                                                                                                                                                                                                                                                                                                                                                                                                                                                                                                                                                                                                                                                                                                                                                                                       1\n",
      "Benefits for all adult services limited to a combined maximum of $750 per year. Member cost share illustrated is for restorative services. Member cost share for complicated services is 50%.   Class II - Restorative Services have 6 month waiting period and are limited as follows: 1 composite, resin, or similar restoration per tooth surface per year, 3 or more surface fillings limited to 1 per surface every 5 years. 1 periodontal scaling and root planing or curettage per quadrant (8 or fewer teeth in one arch) per 24 months. 1 full mouth debridement every 36 month only if no prophylaxis in the prior 36 months and an exam cannot be performed due to obstruction.   Class II - Complicated Services have 12 month waiting period and are limited as follows: Complicated oral and periodontal surgery must be approved. Pulp capping only payable when pulp is exposed. Pulppotomy only for deciduous teeth. 1 charge for root canal therapy per tooth per 3 years.        1\n",
      "Member cost share illustrated is for restorative services. Member cost share for complicated services is 50%.  Class II Restorative services are limited as follows: 1 composite, resin, or similar restoration per tooth surface per year, 3 or more surface fillings limited to 1 per surface every 5 years. 1 periodontal scaling and root planing or curettage per quadrant (8 or fewer teeth in one arch) per 24 months. 1 full mouth debridement every 36 month only if no prophylaxis in the prior 36 months and an exam cannot be performed due to obstruction.   Class II - Complicated Services are limited as follows: Complicated oral and periodontal surgery must be approved. Pulp capping only payable when pulp is exposed. Pulppotomy only for deciduous teeth. 1 charge for root canal therapy per tooth per 3 years.                                                                                                                                                            1\n",
      "Under this policy the following services are covered at the indicated limits and percentages: Crowns/inlays/onlays (1 per 60 Months 50%), Prosthetics i.e. Complete or Fixed Partial Dentures (50%- Limitations apply), Adjustments/Repairs of Prosthetics (50%- Limitations apply), Other Prosthetic Services (50% -Limitations apply) and Implant Services (50%- Limitations apply). Please visit our website for further details on our plans.                                                                                                                                                                                                                                                                                                                                                                                                                                                                                                                                                   1\n",
      "Name: explanation, Length: 6227, dtype: int64\n",
      "---------- explanation ---------- \n",
      "\n",
      "---------- importdate ---------\n",
      "2015-08-26 09:56:12    368148\n",
      "2/19/2015 6:21         172233\n",
      "2015-10-20 04:38:50    163055\n",
      "2015-10-21 17:48:08    151865\n",
      "2015-10-18 12:35:12    150732\n",
      "                        ...  \n",
      "2013-06-05 12:49:14        36\n",
      "2015-08-13 03:14:50        36\n",
      "2013-08-13 21:01:26        30\n",
      "2015-05-16 13:12:29        18\n",
      "2015-05-29 02:42:57         9\n",
      "Name: importdate, Length: 266, dtype: int64\n",
      "---------- importdate ---------- \n",
      "\n",
      "---------- iscovered ---------\n",
      "Covered        3934525\n",
      "Not Covered     897055\n",
      "Not covered        848\n",
      "Name: iscovered, dtype: int64\n",
      "---------- iscovered ---------- \n",
      "\n",
      "---------- isehb ---------\n",
      "Yes    3231046\n",
      "Name: isehb, dtype: int64\n",
      "---------- isehb ---------- \n",
      "\n",
      "---------- isexclfrominnmoop ---------\n",
      "No     4008969\n",
      "Yes      55433\n",
      "NO          12\n",
      "no           4\n",
      "yes          4\n",
      "Name: isexclfrominnmoop, dtype: int64\n",
      "---------- isexclfrominnmoop ---------- \n",
      "\n",
      "---------- isexclfromoonmoop ---------\n",
      "No     3527549\n",
      "Yes     537954\n",
      "NO         276\n",
      "yes          3\n",
      "Name: isexclfromoonmoop, dtype: int64\n",
      "---------- isexclfromoonmoop ---------- \n",
      "\n",
      "---------- isstatemandate ---------\n",
      "Yes    797945\n",
      "Name: isstatemandate, dtype: int64\n",
      "---------- isstatemandate ---------- \n",
      "\n",
      "---------- issubjtodedtier1 ---------\n",
      "Yes    1945742\n",
      "No      636650\n",
      "YES         85\n",
      "no          50\n",
      "yes          4\n",
      "Name: issubjtodedtier1, dtype: int64\n",
      "---------- issubjtodedtier1 ---------- \n",
      "\n",
      "---------- issubjtodedtier2 ---------\n",
      "Yes    1313161\n",
      "No     1268055\n",
      "no        1031\n",
      "NO         107\n",
      "Name: issubjtodedtier2, dtype: int64\n",
      "---------- issubjtodedtier2 ---------- \n",
      "\n",
      "---------- issuerid ---------\n",
      "33602    241412\n",
      "84670    138454\n",
      "36096    127737\n",
      "27357    105484\n",
      "14002     92944\n",
      "          ...  \n",
      "14417        18\n",
      "47638        18\n",
      "18756        18\n",
      "60283        18\n",
      "96320         9\n",
      "Name: issuerid, Length: 910, dtype: int64\n",
      "---------- issuerid ---------- \n",
      "\n",
      "---------- issuerid2 ---------\n",
      "33602    241412\n",
      "84670    138454\n",
      "36096    127737\n",
      "27357    105484\n",
      "14002     92944\n",
      "          ...  \n",
      "14417        18\n",
      "47638        18\n",
      "18756        18\n",
      "60283        18\n",
      "96320         9\n",
      "Name: issuerid2, Length: 910, dtype: int64\n",
      "---------- issuerid2 ---------- \n",
      "\n",
      "---------- limitqty ---------\n",
      "1.0        231187\n",
      "30.0        85005\n",
      "60.0        70252\n",
      "20.0        65969\n",
      "35.0        28616\n",
      "            ...  \n",
      "75.0           14\n",
      "360.0           8\n",
      "164.0           8\n",
      "15000.0         7\n",
      "415.0           3\n",
      "Name: limitqty, Length: 94, dtype: int64\n",
      "---------- limitqty ---------- \n",
      "\n",
      "---------- limitunit ---------\n",
      "Visit(s) per Year              308545\n",
      "Item(s) per Year                61491\n",
      "Visit(s) per Benefit Period     55806\n",
      "Days per Year                   51244\n",
      "Visit(s) per 6 Months           31150\n",
      "                                ...  \n",
      "Dollars per 2 Years                17\n",
      "Exam(s) per Month                  12\n",
      "Dollars per transplant              9\n",
      "Visit(s) per Procedure              2\n",
      "Months per Benefit Period           2\n",
      "Name: limitunit, Length: 88, dtype: int64\n",
      "---------- limitunit ---------- \n",
      "\n",
      "---------- minimumstay ---------\n",
      "48.0    16406\n",
      "5.0       171\n",
      "90.0      150\n",
      "Name: minimumstay, dtype: int64\n",
      "---------- minimumstay ---------- \n",
      "\n",
      "---------- planid ---------\n",
      "31274WV0310001-03    291\n",
      "31274WV0310002-05    291\n",
      "31274WV0310002-04    291\n",
      "31274WV0310002-02    291\n",
      "31274WV0310001-01    291\n",
      "                    ... \n",
      "94996SC0010006-00      9\n",
      "94996SC0010005-00      9\n",
      "94996SC0010004-00      9\n",
      "94996SC0010003-00      9\n",
      "96480WV0110003-00      9\n",
      "Name: planid, Length: 52394, dtype: int64\n",
      "---------- planid ---------- \n",
      "\n",
      "---------- quantlimitonsvc ---------\n",
      "No     1106768\n",
      "Yes     677042\n",
      "yes         48\n",
      "no           9\n",
      "NO           9\n",
      "Name: quantlimitonsvc, dtype: int64\n",
      "---------- quantlimitonsvc ---------- \n",
      "\n",
      "---------- rownumber ---------\n",
      "68     77353\n",
      "104    77353\n",
      "110    77353\n",
      "111    77353\n",
      "112    77353\n",
      "       ...  \n",
      "152       65\n",
      "153       49\n",
      "154       49\n",
      "155       32\n",
      "156       16\n",
      "Name: rownumber, Length: 96, dtype: int64\n",
      "---------- rownumber ---------- \n",
      "\n",
      "---------- sourcename ---------\n",
      "HIOS     3049221\n",
      "SERFF    1861473\n",
      "OPM       137714\n",
      "Name: sourcename, dtype: int64\n",
      "---------- sourcename ---------- \n",
      "\n",
      "---------- standardcomponentid ---------\n",
      "58288IL0380016    1848\n",
      "58288IL0380028    1848\n",
      "93332GA0710004    1799\n",
      "93332GA0710018    1799\n",
      "63141TX0740004    1799\n",
      "                  ... \n",
      "76852ND0010004       9\n",
      "81313MO0010001       9\n",
      "81313MO0010002       9\n",
      "81313MO0020001       9\n",
      "96480WV0110003       9\n",
      "Name: standardcomponentid, Length: 16807, dtype: int64\n",
      "---------- standardcomponentid ---------- \n",
      "\n",
      "---------- statecode ---------\n",
      "WI    512587\n",
      "TX    465164\n",
      "FL    364742\n",
      "OH    331045\n",
      "IL    320533\n",
      "PA    260866\n",
      "AZ    221612\n",
      "GA    196579\n",
      "MI    189225\n",
      "IN    148531\n",
      "VA    142236\n",
      "TN    138154\n",
      "OK    133639\n",
      "SC    111907\n",
      "IA    110221\n",
      "UT     98421\n",
      "MO     95152\n",
      "NC     94290\n",
      "OR     93502\n",
      "LA     91816\n",
      "NJ     86107\n",
      "AR     68064\n",
      "NE     66935\n",
      "KS     64279\n",
      "NV     62743\n",
      "ME     61834\n",
      "MT     58132\n",
      "NM     56669\n",
      "WY     48425\n",
      "ND     48269\n",
      "SD     47730\n",
      "MS     46895\n",
      "NH     44305\n",
      "AK     41320\n",
      "WV     32638\n",
      "DE     31370\n",
      "AL     28417\n",
      "ID     27313\n",
      "HI      6741\n",
      "Name: statecode, dtype: int64\n",
      "---------- statecode ---------- \n",
      "\n",
      "---------- statecode2 ---------\n",
      "WI    512587\n",
      "TX    465164\n",
      "FL    364742\n",
      "OH    331045\n",
      "IL    320533\n",
      "PA    260866\n",
      "AZ    221612\n",
      "GA    196579\n",
      "MI    189225\n",
      "IN    148531\n",
      "VA    142236\n",
      "TN    138154\n",
      "OK    133639\n",
      "SC    111907\n",
      "IA    110221\n",
      "UT     98421\n",
      "MO     95152\n",
      "NC     94290\n",
      "OR     93502\n",
      "LA     91816\n",
      "NJ     86107\n",
      "AR     68064\n",
      "NE     66935\n",
      "KS     64279\n",
      "NV     62743\n",
      "ME     61834\n",
      "MT     58132\n",
      "NM     56669\n",
      "WY     48425\n",
      "ND     48269\n",
      "SD     47730\n",
      "MS     46895\n",
      "NH     44305\n",
      "AK     41320\n",
      "WV     32638\n",
      "DE     31370\n",
      "AL     28417\n",
      "ID     27313\n",
      "HI      6741\n",
      "Name: statecode2, dtype: int64\n",
      "---------- statecode2 ---------- \n",
      "\n",
      "---------- versionnum ---------\n",
      "6     733457\n",
      "7     725313\n",
      "8     624327\n",
      "5     517327\n",
      "4     468602\n",
      "9     455223\n",
      "10    370416\n",
      "3     347920\n",
      "11    196778\n",
      "14    114901\n",
      "12    101724\n",
      "2      73830\n",
      "23     71580\n",
      "13     67323\n",
      "15     44736\n",
      "16     30981\n",
      "20     25447\n",
      "24     18746\n",
      "18     17029\n",
      "19     16849\n",
      "21     11928\n",
      "1       7915\n",
      "17      6056\n",
      "Name: versionnum, dtype: int64\n",
      "---------- versionnum ---------- \n",
      "\n"
     ]
    }
   ],
   "source": [
    "def df_values(df_insurance):\n",
    "    for i in range(0, len(df_insurance.columns)):\n",
    "        print('----------', df_insurance.columns[i], '---------')\n",
    "        print (df_insurance.iloc[:,i].value_counts())\n",
    "        print ('----------', df_insurance.columns[i], '---------- \\n')\n",
    "df_values(df_insurance)    "
   ]
  },
  {
   "cell_type": "markdown",
   "metadata": {},
   "source": [
    "# describe statistics"
   ]
  },
  {
   "cell_type": "code",
   "execution_count": 13,
   "metadata": {},
   "outputs": [
    {
     "data": {
      "text/html": [
       "<div>\n",
       "<style scoped>\n",
       "    .dataframe tbody tr th:only-of-type {\n",
       "        vertical-align: middle;\n",
       "    }\n",
       "\n",
       "    .dataframe tbody tr th {\n",
       "        vertical-align: top;\n",
       "    }\n",
       "\n",
       "    .dataframe thead th {\n",
       "        text-align: right;\n",
       "    }\n",
       "</style>\n",
       "<table border=\"1\" class=\"dataframe\">\n",
       "  <thead>\n",
       "    <tr style=\"text-align: right;\">\n",
       "      <th></th>\n",
       "      <th>businessyear</th>\n",
       "      <th>issuerid</th>\n",
       "      <th>issuerid2</th>\n",
       "      <th>limitqty</th>\n",
       "      <th>minimumstay</th>\n",
       "      <th>rownumber</th>\n",
       "      <th>versionnum</th>\n",
       "    </tr>\n",
       "  </thead>\n",
       "  <tbody>\n",
       "    <tr>\n",
       "      <th>count</th>\n",
       "      <td>5.048408e+06</td>\n",
       "      <td>5.048408e+06</td>\n",
       "      <td>5.048408e+06</td>\n",
       "      <td>687683.000000</td>\n",
       "      <td>16727.000000</td>\n",
       "      <td>5.048408e+06</td>\n",
       "      <td>5.048408e+06</td>\n",
       "    </tr>\n",
       "    <tr>\n",
       "      <th>mean</th>\n",
       "      <td>2.015127e+03</td>\n",
       "      <td>5.220360e+04</td>\n",
       "      <td>5.220360e+04</td>\n",
       "      <td>142.399374</td>\n",
       "      <td>47.937048</td>\n",
       "      <td>9.839018e+01</td>\n",
       "      <td>7.637094e+00</td>\n",
       "    </tr>\n",
       "    <tr>\n",
       "      <th>std</th>\n",
       "      <td>7.563664e-01</td>\n",
       "      <td>2.592498e+04</td>\n",
       "      <td>2.592498e+04</td>\n",
       "      <td>1723.372817</td>\n",
       "      <td>5.892297</td>\n",
       "      <td>2.177890e+01</td>\n",
       "      <td>3.803627e+00</td>\n",
       "    </tr>\n",
       "    <tr>\n",
       "      <th>min</th>\n",
       "      <td>2.014000e+03</td>\n",
       "      <td>1.004600e+04</td>\n",
       "      <td>1.004600e+04</td>\n",
       "      <td>1.000000</td>\n",
       "      <td>5.000000</td>\n",
       "      <td>6.100000e+01</td>\n",
       "      <td>1.000000e+00</td>\n",
       "    </tr>\n",
       "    <tr>\n",
       "      <th>25%</th>\n",
       "      <td>2.015000e+03</td>\n",
       "      <td>3.253600e+04</td>\n",
       "      <td>3.253600e+04</td>\n",
       "      <td>1.000000</td>\n",
       "      <td>48.000000</td>\n",
       "      <td>8.000000e+01</td>\n",
       "      <td>5.000000e+00</td>\n",
       "    </tr>\n",
       "    <tr>\n",
       "      <th>50%</th>\n",
       "      <td>2.015000e+03</td>\n",
       "      <td>4.839600e+04</td>\n",
       "      <td>4.839600e+04</td>\n",
       "      <td>20.000000</td>\n",
       "      <td>48.000000</td>\n",
       "      <td>9.900000e+01</td>\n",
       "      <td>7.000000e+00</td>\n",
       "    </tr>\n",
       "    <tr>\n",
       "      <th>75%</th>\n",
       "      <td>2.016000e+03</td>\n",
       "      <td>7.498000e+04</td>\n",
       "      <td>7.498000e+04</td>\n",
       "      <td>40.000000</td>\n",
       "      <td>48.000000</td>\n",
       "      <td>1.170000e+02</td>\n",
       "      <td>9.000000e+00</td>\n",
       "    </tr>\n",
       "    <tr>\n",
       "      <th>max</th>\n",
       "      <td>2.016000e+03</td>\n",
       "      <td>9.996900e+04</td>\n",
       "      <td>9.996900e+04</td>\n",
       "      <td>75000.000000</td>\n",
       "      <td>90.000000</td>\n",
       "      <td>1.560000e+02</td>\n",
       "      <td>2.400000e+01</td>\n",
       "    </tr>\n",
       "  </tbody>\n",
       "</table>\n",
       "</div>"
      ],
      "text/plain": [
       "       businessyear      issuerid     issuerid2       limitqty   minimumstay  \\\n",
       "count  5.048408e+06  5.048408e+06  5.048408e+06  687683.000000  16727.000000   \n",
       "mean   2.015127e+03  5.220360e+04  5.220360e+04     142.399374     47.937048   \n",
       "std    7.563664e-01  2.592498e+04  2.592498e+04    1723.372817      5.892297   \n",
       "min    2.014000e+03  1.004600e+04  1.004600e+04       1.000000      5.000000   \n",
       "25%    2.015000e+03  3.253600e+04  3.253600e+04       1.000000     48.000000   \n",
       "50%    2.015000e+03  4.839600e+04  4.839600e+04      20.000000     48.000000   \n",
       "75%    2.016000e+03  7.498000e+04  7.498000e+04      40.000000     48.000000   \n",
       "max    2.016000e+03  9.996900e+04  9.996900e+04   75000.000000     90.000000   \n",
       "\n",
       "          rownumber    versionnum  \n",
       "count  5.048408e+06  5.048408e+06  \n",
       "mean   9.839018e+01  7.637094e+00  \n",
       "std    2.177890e+01  3.803627e+00  \n",
       "min    6.100000e+01  1.000000e+00  \n",
       "25%    8.000000e+01  5.000000e+00  \n",
       "50%    9.900000e+01  7.000000e+00  \n",
       "75%    1.170000e+02  9.000000e+00  \n",
       "max    1.560000e+02  2.400000e+01  "
      ]
     },
     "execution_count": 13,
     "metadata": {},
     "output_type": "execute_result"
    }
   ],
   "source": [
    "df_insurance.describe()"
   ]
  },
  {
   "cell_type": "markdown",
   "metadata": {},
   "source": [
    "# let's look at the benefit types in each year"
   ]
  },
  {
   "cell_type": "code",
   "execution_count": 15,
   "metadata": {},
   "outputs": [
    {
     "data": {
      "text/html": [
       "<div>\n",
       "<style scoped>\n",
       "    .dataframe tbody tr th:only-of-type {\n",
       "        vertical-align: middle;\n",
       "    }\n",
       "\n",
       "    .dataframe tbody tr th {\n",
       "        vertical-align: top;\n",
       "    }\n",
       "\n",
       "    .dataframe thead tr th {\n",
       "        text-align: left;\n",
       "    }\n",
       "\n",
       "    .dataframe thead tr:last-of-type th {\n",
       "        text-align: right;\n",
       "    }\n",
       "</style>\n",
       "<table border=\"1\" class=\"dataframe\">\n",
       "  <thead>\n",
       "    <tr>\n",
       "      <th></th>\n",
       "      <th colspan=\"4\" halign=\"left\">benefitname</th>\n",
       "    </tr>\n",
       "    <tr>\n",
       "      <th></th>\n",
       "      <th>count</th>\n",
       "      <th>unique</th>\n",
       "      <th>top</th>\n",
       "      <th>freq</th>\n",
       "    </tr>\n",
       "    <tr>\n",
       "      <th>businessyear</th>\n",
       "      <th></th>\n",
       "      <th></th>\n",
       "      <th></th>\n",
       "      <th></th>\n",
       "    </tr>\n",
       "  </thead>\n",
       "  <tbody>\n",
       "    <tr>\n",
       "      <th>2014</th>\n",
       "      <td>1164869</td>\n",
       "      <td>496</td>\n",
       "      <td>Routine Dental Services (Adult)</td>\n",
       "      <td>18719</td>\n",
       "    </tr>\n",
       "    <tr>\n",
       "      <th>2015</th>\n",
       "      <td>2079286</td>\n",
       "      <td>517</td>\n",
       "      <td>Orthodontia - Adult</td>\n",
       "      <td>31269</td>\n",
       "    </tr>\n",
       "    <tr>\n",
       "      <th>2016</th>\n",
       "      <td>1804253</td>\n",
       "      <td>429</td>\n",
       "      <td>Orthodontia - Adult</td>\n",
       "      <td>27389</td>\n",
       "    </tr>\n",
       "  </tbody>\n",
       "</table>\n",
       "</div>"
      ],
      "text/plain": [
       "             benefitname                                               \n",
       "                   count unique                              top   freq\n",
       "businessyear                                                           \n",
       "2014             1164869    496  Routine Dental Services (Adult)  18719\n",
       "2015             2079286    517              Orthodontia - Adult  31269\n",
       "2016             1804253    429              Orthodontia - Adult  27389"
      ]
     },
     "execution_count": 15,
     "metadata": {},
     "output_type": "execute_result"
    }
   ],
   "source": [
    "df_insurance[[\"businessyear\",\"benefitname\"]].groupby('businessyear').describe()"
   ]
  },
  {
   "cell_type": "markdown",
   "metadata": {},
   "source": [
    "# let's look at the benefits for each state"
   ]
  },
  {
   "cell_type": "code",
   "execution_count": 16,
   "metadata": {},
   "outputs": [],
   "source": [
    "df_insurance[[\"statecode\",\"benefitname\"]].groupby('statecode').count().sort_values(\"benefitname\")\n",
    "unique_st = df_insurance.statecode.unique()\n",
    "benefits = []\n",
    "\n",
    "for state in unique_st:\n",
    "    st_benefit =  len(df_insurance[df_insurance[\"statecode\"] == state])    \n",
    "    benefits.append(st_benefit)   "
   ]
  },
  {
   "cell_type": "markdown",
   "metadata": {},
   "source": [
    "# graph which state has the most benefits"
   ]
  },
  {
   "cell_type": "code",
   "execution_count": 19,
   "metadata": {},
   "outputs": [
    {
     "data": {
      "image/png": "[encoded data removed]",
      "text/plain": [
       "<Figure size 1800x1080 with 1 Axes>"
      ]
     },
     "metadata": {
      "needs_background": "light"
     },
     "output_type": "display_data"
    }
   ],
   "source": [
    "f, ax = plt.subplots(figsize=(25, 15)) \n",
    "ax.set_yticklabels(unique_st, rotation='horizontal', fontsize='large')\n",
    "g = sns.barplot(y = unique_st,x=benefits)\n",
    "plt.show()"
   ]
  },
  {
   "cell_type": "markdown",
   "metadata": {},
   "source": [
    "# same graph but with states sorted alphabetically"
   ]
  },
  {
   "cell_type": "code",
   "execution_count": 31,
   "metadata": {},
   "outputs": [
    {
     "data": {
      "image/png": "[encoded data removed]",
      "text/plain": [
       "<Figure size 1800x1080 with 1 Axes>"
      ]
     },
     "metadata": {
      "needs_background": "light"
     },
     "output_type": "display_data"
    }
   ],
   "source": [
    "df = pd.DataFrame({'state': unique_st, 'Count' : benefits})\n",
    "df = df.sort_values(\"Count\", ascending=False).reset_index(drop=True)\n",
    "f, ax = plt.subplots(figsize=(25, 15)) \n",
    "ax.set_yticklabels(df.state, rotation='horizontal', fontsize='large')\n",
    "g = sns.barplot(y = df.state, x= df.Count)\n",
    "plt.show()"
   ]
  },
  {
   "cell_type": "markdown",
   "metadata": {},
   "source": [
    "# let's see this data on a map"
   ]
  },
  {
   "cell_type": "code",
   "execution_count": 37,
   "metadata": {},
   "outputs": [
    {
     "data": {
      "application/vnd.plotly.v1+json": {
       "config": {
        "linkText": "Export to plot.ly",
        "plotlyServerURL": "https://plot.ly",
        "showLink": false
       },
       "data": [
        {
         "colorbar": {
          "title": {
           "text": "number of benefit plans"
          }
         },
         "colorscale": [
          [
           0,
           "rgb(214, 249, 207)"
          ],
          [
           0.09090909090909091,
           "rgb(186, 228, 174)"
          ],
          [
           0.18181818181818182,
           "rgb(156, 209, 143)"
          ],
          [
           0.2727272727272727,
           "rgb(124, 191, 115)"
          ],
          [
           0.36363636363636365,
           "rgb(85, 174, 91)"
          ],
          [
           0.45454545454545453,
           "rgb(37, 157, 81)"
          ],
          [
           0.5454545454545454,
           "rgb(7, 138, 78)"
          ],
          [
           0.6363636363636364,
           "rgb(13, 117, 71)"
          ],
          [
           0.7272727272727273,
           "rgb(23, 95, 61)"
          ],
          [
           0.8181818181818182,
           "rgb(25, 75, 49)"
          ],
          [
           0.9090909090909091,
           "rgb(23, 55, 35)"
          ],
          [
           1,
           "rgb(17, 36, 20)"
          ]
         ],
         "locationmode": "USA-states",
         "locations": [
          "WI",
          "TX",
          "FL",
          "OH",
          "IL",
          "PA",
          "AZ",
          "GA",
          "MI",
          "IN",
          "VA",
          "TN",
          "OK",
          "SC",
          "IA",
          "UT",
          "MO",
          "NC",
          "OR",
          "LA",
          "NJ",
          "AR",
          "NE",
          "KS",
          "NV",
          "ME",
          "MT",
          "NM",
          "WY",
          "ND",
          "SD",
          "MS",
          "NH",
          "AK",
          "WV",
          "DE",
          "AL",
          "ID",
          "HI"
         ],
         "marker": {
          "line": {
           "color": "rgb(255,255,255)",
           "width": 2
          }
         },
         "text": [
          "WI",
          "TX",
          "FL",
          "OH",
          "IL",
          "PA",
          "AZ",
          "GA",
          "MI",
          "IN",
          "VA",
          "TN",
          "OK",
          "SC",
          "IA",
          "UT",
          "MO",
          "NC",
          "OR",
          "LA",
          "NJ",
          "AR",
          "NE",
          "KS",
          "NV",
          "ME",
          "MT",
          "NM",
          "WY",
          "ND",
          "SD",
          "MS",
          "NH",
          "AK",
          "WV",
          "DE",
          "AL",
          "ID",
          "HI"
         ],
         "type": "choropleth",
         "z": [
          512587,
          465164,
          364742,
          331045,
          320533,
          260866,
          221612,
          196579,
          189225,
          148531,
          142236,
          138154,
          133639,
          111907,
          110221,
          98421,
          95152,
          94290,
          93502,
          91816,
          86107,
          68064,
          66935,
          64279,
          62743,
          61834,
          58132,
          56669,
          48425,
          48269,
          47730,
          46895,
          44305,
          41320,
          32638,
          31370,
          28417,
          27313,
          6741
         ]
        }
       ],
       "layout": {
        "geo": {
         "lakecolor": "rgb(85,173,240)",
         "scope": "usa",
         "showlakes": true
        },
        "template": {
         "data": {
          "bar": [
           {
            "error_x": {
             "color": "#2a3f5f"
            },
            "error_y": {
             "color": "#2a3f5f"
            },
            "marker": {
             "line": {
              "color": "#E5ECF6",
              "width": 0.5
             },
             "pattern": {
              "fillmode": "overlay",
              "size": 10,
              "solidity": 0.2
             }
            },
            "type": "bar"
           }
          ],
          "barpolar": [
           {
            "marker": {
             "line": {
              "color": "#E5ECF6",
              "width": 0.5
             },
             "pattern": {
              "fillmode": "overlay",
              "size": 10,
              "solidity": 0.2
             }
            },
            "type": "barpolar"
           }
          ],
          "carpet": [
           {
            "aaxis": {
             "endlinecolor": "#2a3f5f",
             "gridcolor": "white",
             "linecolor": "white",
             "minorgridcolor": "white",
             "startlinecolor": "#2a3f5f"
            },
            "baxis": {
             "endlinecolor": "#2a3f5f",
             "gridcolor": "white",
             "linecolor": "white",
             "minorgridcolor": "white",
             "startlinecolor": "#2a3f5f"
            },
            "type": "carpet"
           }
          ],
          "choropleth": [
           {
            "colorbar": {
             "outlinewidth": 0,
             "ticks": ""
            },
            "type": "choropleth"
           }
          ],
          "contour": [
           {
            "colorbar": {
             "outlinewidth": 0,
             "ticks": ""
            },
            "colorscale": [
             [
              0,
              "#0d0887"
             ],
             [
              0.1111111111111111,
              "#46039f"
             ],
             [
              0.2222222222222222,
              "#7201a8"
             ],
             [
              0.3333333333333333,
              "#9c179e"
             ],
             [
              0.4444444444444444,
              "#bd3786"
             ],
             [
              0.5555555555555556,
              "#d8576b"
             ],
             [
              0.6666666666666666,
              "#ed7953"
             ],
             [
              0.7777777777777778,
              "#fb9f3a"
             ],
             [
              0.8888888888888888,
              "#fdca26"
             ],
             [
              1,
              "#f0f921"
             ]
            ],
            "type": "contour"
           }
          ],
          "contourcarpet": [
           {
            "colorbar": {
             "outlinewidth": 0,
             "ticks": ""
            },
            "type": "contourcarpet"
           }
          ],
          "heatmap": [
           {
            "colorbar": {
             "outlinewidth": 0,
             "ticks": ""
            },
            "colorscale": [
             [
              0,
              "#0d0887"
             ],
             [
              0.1111111111111111,
              "#46039f"
             ],
             [
              0.2222222222222222,
              "#7201a8"
             ],
             [
              0.3333333333333333,
              "#9c179e"
             ],
             [
              0.4444444444444444,
              "#bd3786"
             ],
             [
              0.5555555555555556,
              "#d8576b"
             ],
             [
              0.6666666666666666,
              "#ed7953"
             ],
             [
              0.7777777777777778,
              "#fb9f3a"
             ],
             [
              0.8888888888888888,
              "#fdca26"
             ],
             [
              1,
              "#f0f921"
             ]
            ],
            "type": "heatmap"
           }
          ],
          "heatmapgl": [
           {
            "colorbar": {
             "outlinewidth": 0,
             "ticks": ""
            },
            "colorscale": [
             [
              0,
              "#0d0887"
             ],
             [
              0.1111111111111111,
              "#46039f"
             ],
             [
              0.2222222222222222,
              "#7201a8"
             ],
             [
              0.3333333333333333,
              "#9c179e"
             ],
             [
              0.4444444444444444,
              "#bd3786"
             ],
             [
              0.5555555555555556,
              "#d8576b"
             ],
             [
              0.6666666666666666,
              "#ed7953"
             ],
             [
              0.7777777777777778,
              "#fb9f3a"
             ],
             [
              0.8888888888888888,
              "#fdca26"
             ],
             [
              1,
              "#f0f921"
             ]
            ],
            "type": "heatmapgl"
           }
          ],
          "histogram": [
           {
            "marker": {
             "pattern": {
              "fillmode": "overlay",
              "size": 10,
              "solidity": 0.2
             }
            },
            "type": "histogram"
           }
          ],
          "histogram2d": [
           {
            "colorbar": {
             "outlinewidth": 0,
             "ticks": ""
            },
            "colorscale": [
             [
              0,
              "#0d0887"
             ],
             [
              0.1111111111111111,
              "#46039f"
             ],
             [
              0.2222222222222222,
              "#7201a8"
             ],
             [
              0.3333333333333333,
              "#9c179e"
             ],
             [
              0.4444444444444444,
              "#bd3786"
             ],
             [
              0.5555555555555556,
              "#d8576b"
             ],
             [
              0.6666666666666666,
              "#ed7953"
             ],
             [
              0.7777777777777778,
              "#fb9f3a"
             ],
             [
              0.8888888888888888,
              "#fdca26"
             ],
             [
              1,
              "#f0f921"
             ]
            ],
            "type": "histogram2d"
           }
          ],
          "histogram2dcontour": [
           {
            "colorbar": {
             "outlinewidth": 0,
             "ticks": ""
            },
            "colorscale": [
             [
              0,
              "#0d0887"
             ],
             [
              0.1111111111111111,
              "#46039f"
             ],
             [
              0.2222222222222222,
              "#7201a8"
             ],
             [
              0.3333333333333333,
              "#9c179e"
             ],
             [
              0.4444444444444444,
              "#bd3786"
             ],
             [
              0.5555555555555556,
              "#d8576b"
             ],
             [
              0.6666666666666666,
              "#ed7953"
             ],
             [
              0.7777777777777778,
              "#fb9f3a"
             ],
             [
              0.8888888888888888,
              "#fdca26"
             ],
             [
              1,
              "#f0f921"
             ]
            ],
            "type": "histogram2dcontour"
           }
          ],
          "mesh3d": [
           {
            "colorbar": {
             "outlinewidth": 0,
             "ticks": ""
            },
            "type": "mesh3d"
           }
          ],
          "parcoords": [
           {
            "line": {
             "colorbar": {
              "outlinewidth": 0,
              "ticks": ""
             }
            },
            "type": "parcoords"
           }
          ],
          "pie": [
           {
            "automargin": true,
            "type": "pie"
           }
          ],
          "scatter": [
           {
            "marker": {
             "colorbar": {
              "outlinewidth": 0,
              "ticks": ""
             }
            },
            "type": "scatter"
           }
          ],
          "scatter3d": [
           {
            "line": {
             "colorbar": {
              "outlinewidth": 0,
              "ticks": ""
             }
            },
            "marker": {
             "colorbar": {
              "outlinewidth": 0,
              "ticks": ""
             }
            },
            "type": "scatter3d"
           }
          ],
          "scattercarpet": [
           {
            "marker": {
             "colorbar": {
              "outlinewidth": 0,
              "ticks": ""
             }
            },
            "type": "scattercarpet"
           }
          ],
          "scattergeo": [
           {
            "marker": {
             "colorbar": {
              "outlinewidth": 0,
              "ticks": ""
             }
            },
            "type": "scattergeo"
           }
          ],
          "scattergl": [
           {
            "marker": {
             "colorbar": {
              "outlinewidth": 0,
              "ticks": ""
             }
            },
            "type": "scattergl"
           }
          ],
          "scattermapbox": [
           {
            "marker": {
             "colorbar": {
              "outlinewidth": 0,
              "ticks": ""
             }
            },
            "type": "scattermapbox"
           }
          ],
          "scatterpolar": [
           {
            "marker": {
             "colorbar": {
              "outlinewidth": 0,
              "ticks": ""
             }
            },
            "type": "scatterpolar"
           }
          ],
          "scatterpolargl": [
           {
            "marker": {
             "colorbar": {
              "outlinewidth": 0,
              "ticks": ""
             }
            },
            "type": "scatterpolargl"
           }
          ],
          "scatterternary": [
           {
            "marker": {
             "colorbar": {
              "outlinewidth": 0,
              "ticks": ""
             }
            },
            "type": "scatterternary"
           }
          ],
          "surface": [
           {
            "colorbar": {
             "outlinewidth": 0,
             "ticks": ""
            },
            "colorscale": [
             [
              0,
              "#0d0887"
             ],
             [
              0.1111111111111111,
              "#46039f"
             ],
             [
              0.2222222222222222,
              "#7201a8"
             ],
             [
              0.3333333333333333,
              "#9c179e"
             ],
             [
              0.4444444444444444,
              "#bd3786"
             ],
             [
              0.5555555555555556,
              "#d8576b"
             ],
             [
              0.6666666666666666,
              "#ed7953"
             ],
             [
              0.7777777777777778,
              "#fb9f3a"
             ],
             [
              0.8888888888888888,
              "#fdca26"
             ],
             [
              1,
              "#f0f921"
             ]
            ],
            "type": "surface"
           }
          ],
          "table": [
           {
            "cells": {
             "fill": {
              "color": "#EBF0F8"
             },
             "line": {
              "color": "white"
             }
            },
            "header": {
             "fill": {
              "color": "#C8D4E3"
             },
             "line": {
              "color": "white"
             }
            },
            "type": "table"
           }
          ]
         },
         "layout": {
          "annotationdefaults": {
           "arrowcolor": "#2a3f5f",
           "arrowhead": 0,
           "arrowwidth": 1
          },
          "autotypenumbers": "strict",
          "coloraxis": {
           "colorbar": {
            "outlinewidth": 0,
            "ticks": ""
           }
          },
          "colorscale": {
           "diverging": [
            [
             0,
             "#8e0152"
            ],
            [
             0.1,
             "#c51b7d"
            ],
            [
             0.2,
             "#de77ae"
            ],
            [
             0.3,
             "#f1b6da"
            ],
            [
             0.4,
             "#fde0ef"
            ],
            [
             0.5,
             "#f7f7f7"
            ],
            [
             0.6,
             "#e6f5d0"
            ],
            [
             0.7,
             "#b8e186"
            ],
            [
             0.8,
             "#7fbc41"
            ],
            [
             0.9,
             "#4d9221"
            ],
            [
             1,
             "#276419"
            ]
           ],
           "sequential": [
            [
             0,
             "#0d0887"
            ],
            [
             0.1111111111111111,
             "#46039f"
            ],
            [
             0.2222222222222222,
             "#7201a8"
            ],
            [
             0.3333333333333333,
             "#9c179e"
            ],
            [
             0.4444444444444444,
             "#bd3786"
            ],
            [
             0.5555555555555556,
             "#d8576b"
            ],
            [
             0.6666666666666666,
             "#ed7953"
            ],
            [
             0.7777777777777778,
             "#fb9f3a"
            ],
            [
             0.8888888888888888,
             "#fdca26"
            ],
            [
             1,
             "#f0f921"
            ]
           ],
           "sequentialminus": [
            [
             0,
             "#0d0887"
            ],
            [
             0.1111111111111111,
             "#46039f"
            ],
            [
             0.2222222222222222,
             "#7201a8"
            ],
            [
             0.3333333333333333,
             "#9c179e"
            ],
            [
             0.4444444444444444,
             "#bd3786"
            ],
            [
             0.5555555555555556,
             "#d8576b"
            ],
            [
             0.6666666666666666,
             "#ed7953"
            ],
            [
             0.7777777777777778,
             "#fb9f3a"
            ],
            [
             0.8888888888888888,
             "#fdca26"
            ],
            [
             1,
             "#f0f921"
            ]
           ]
          },
          "colorway": [
           "#636efa",
           "#EF553B",
           "#00cc96",
           "#ab63fa",
           "#FFA15A",
           "#19d3f3",
           "#FF6692",
           "#B6E880",
           "#FF97FF",
           "#FECB52"
          ],
          "font": {
           "color": "#2a3f5f"
          },
          "geo": {
           "bgcolor": "white",
           "lakecolor": "white",
           "landcolor": "#E5ECF6",
           "showlakes": true,
           "showland": true,
           "subunitcolor": "white"
          },
          "hoverlabel": {
           "align": "left"
          },
          "hovermode": "closest",
          "mapbox": {
           "style": "light"
          },
          "paper_bgcolor": "white",
          "plot_bgcolor": "#E5ECF6",
          "polar": {
           "angularaxis": {
            "gridcolor": "white",
            "linecolor": "white",
            "ticks": ""
           },
           "bgcolor": "#E5ECF6",
           "radialaxis": {
            "gridcolor": "white",
            "linecolor": "white",
            "ticks": ""
           }
          },
          "scene": {
           "xaxis": {
            "backgroundcolor": "#E5ECF6",
            "gridcolor": "white",
            "gridwidth": 2,
            "linecolor": "white",
            "showbackground": true,
            "ticks": "",
            "zerolinecolor": "white"
           },
           "yaxis": {
            "backgroundcolor": "#E5ECF6",
            "gridcolor": "white",
            "gridwidth": 2,
            "linecolor": "white",
            "showbackground": true,
            "ticks": "",
            "zerolinecolor": "white"
           },
           "zaxis": {
            "backgroundcolor": "#E5ECF6",
            "gridcolor": "white",
            "gridwidth": 2,
            "linecolor": "white",
            "showbackground": true,
            "ticks": "",
            "zerolinecolor": "white"
           }
          },
          "shapedefaults": {
           "line": {
            "color": "#2a3f5f"
           }
          },
          "ternary": {
           "aaxis": {
            "gridcolor": "white",
            "linecolor": "white",
            "ticks": ""
           },
           "baxis": {
            "gridcolor": "white",
            "linecolor": "white",
            "ticks": ""
           },
           "bgcolor": "#E5ECF6",
           "caxis": {
            "gridcolor": "white",
            "linecolor": "white",
            "ticks": ""
           }
          },
          "title": {
           "x": 0.05
          },
          "xaxis": {
           "automargin": true,
           "gridcolor": "white",
           "linecolor": "white",
           "ticks": "",
           "title": {
            "standoff": 15
           },
           "zerolinecolor": "white",
           "zerolinewidth": 2
          },
          "yaxis": {
           "automargin": true,
           "gridcolor": "white",
           "linecolor": "white",
           "ticks": "",
           "title": {
            "standoff": 15
           },
           "zerolinecolor": "white",
           "zerolinewidth": 2
          }
         }
        },
        "title": {
         "text": "benefit plans per state"
        }
       }
      }
     },
     "metadata": {},
     "output_type": "display_data"
    }
   ],
   "source": [
    "data = dict(type = 'choropleth',\n",
    "           locations = df['state'],\n",
    "           locationmode = 'USA-states',\n",
    "           colorscale = 'algae',\n",
    "            text = df['state'],\n",
    "            marker = dict (line = dict(color = 'rgb(255,255,255)',width=2)),\n",
    "           z = df['Count'],\n",
    "           colorbar = {'title':'number of benefit plans'})\n",
    "\n",
    "layout = dict(title = 'benefit plans per state',\n",
    "         geo=dict(scope = 'usa',showlakes = True,lakecolor='rgb(85,173,240)')) \n",
    "\n",
    "choromap2 = go.Figure(data = [data],layout=layout)\n",
    "iplot(choromap2)"
   ]
  },
  {
   "cell_type": "markdown",
   "metadata": {},
   "source": [
    "# let's look at the population in each state"
   ]
  },
  {
   "cell_type": "code",
   "execution_count": 38,
   "metadata": {},
   "outputs": [
    {
     "data": {
      "text/html": [
       "<div>\n",
       "<style scoped>\n",
       "    .dataframe tbody tr th:only-of-type {\n",
       "        vertical-align: middle;\n",
       "    }\n",
       "\n",
       "    .dataframe tbody tr th {\n",
       "        vertical-align: top;\n",
       "    }\n",
       "\n",
       "    .dataframe thead tr th {\n",
       "        text-align: left;\n",
       "    }\n",
       "\n",
       "    .dataframe thead tr:last-of-type th {\n",
       "        text-align: right;\n",
       "    }\n",
       "</style>\n",
       "<table border=\"1\" class=\"dataframe\">\n",
       "  <thead>\n",
       "    <tr>\n",
       "      <th></th>\n",
       "      <th colspan=\"4\" halign=\"left\">benefitname</th>\n",
       "    </tr>\n",
       "    <tr>\n",
       "      <th></th>\n",
       "      <th>count</th>\n",
       "      <th>unique</th>\n",
       "      <th>top</th>\n",
       "      <th>freq</th>\n",
       "    </tr>\n",
       "    <tr>\n",
       "      <th>statecode</th>\n",
       "      <th></th>\n",
       "      <th></th>\n",
       "      <th></th>\n",
       "      <th></th>\n",
       "    </tr>\n",
       "  </thead>\n",
       "  <tbody>\n",
       "    <tr>\n",
       "      <th>AK</th>\n",
       "      <td>41320</td>\n",
       "      <td>84</td>\n",
       "      <td>Routine Dental Services (Adult)</td>\n",
       "      <td>720</td>\n",
       "    </tr>\n",
       "    <tr>\n",
       "      <th>AL</th>\n",
       "      <td>28417</td>\n",
       "      <td>115</td>\n",
       "      <td>Routine Dental Services (Adult)</td>\n",
       "      <td>653</td>\n",
       "    </tr>\n",
       "    <tr>\n",
       "      <th>AR</th>\n",
       "      <td>68064</td>\n",
       "      <td>93</td>\n",
       "      <td>Orthodontia - Adult</td>\n",
       "      <td>1077</td>\n",
       "    </tr>\n",
       "    <tr>\n",
       "      <th>AZ</th>\n",
       "      <td>221612</td>\n",
       "      <td>195</td>\n",
       "      <td>Major Dental Care - Adult</td>\n",
       "      <td>3345</td>\n",
       "    </tr>\n",
       "    <tr>\n",
       "      <th>DE</th>\n",
       "      <td>31370</td>\n",
       "      <td>110</td>\n",
       "      <td>Orthodontia - Adult</td>\n",
       "      <td>602</td>\n",
       "    </tr>\n",
       "    <tr>\n",
       "      <th>FL</th>\n",
       "      <td>364742</td>\n",
       "      <td>194</td>\n",
       "      <td>Orthodontia - Child</td>\n",
       "      <td>5130</td>\n",
       "    </tr>\n",
       "    <tr>\n",
       "      <th>GA</th>\n",
       "      <td>196579</td>\n",
       "      <td>151</td>\n",
       "      <td>Routine Dental Services (Adult)</td>\n",
       "      <td>2893</td>\n",
       "    </tr>\n",
       "    <tr>\n",
       "      <th>HI</th>\n",
       "      <td>6741</td>\n",
       "      <td>76</td>\n",
       "      <td>Routine Dental Services (Adult)</td>\n",
       "      <td>110</td>\n",
       "    </tr>\n",
       "    <tr>\n",
       "      <th>IA</th>\n",
       "      <td>110221</td>\n",
       "      <td>104</td>\n",
       "      <td>Dental Check-Up for Children</td>\n",
       "      <td>1727</td>\n",
       "    </tr>\n",
       "    <tr>\n",
       "      <th>ID</th>\n",
       "      <td>27313</td>\n",
       "      <td>71</td>\n",
       "      <td>Dental Check-Up for Children</td>\n",
       "      <td>447</td>\n",
       "    </tr>\n",
       "    <tr>\n",
       "      <th>IL</th>\n",
       "      <td>320533</td>\n",
       "      <td>157</td>\n",
       "      <td>Orthodontia - Adult</td>\n",
       "      <td>4299</td>\n",
       "    </tr>\n",
       "    <tr>\n",
       "      <th>IN</th>\n",
       "      <td>148531</td>\n",
       "      <td>109</td>\n",
       "      <td>Major Dental Care - Adult</td>\n",
       "      <td>2347</td>\n",
       "    </tr>\n",
       "    <tr>\n",
       "      <th>KS</th>\n",
       "      <td>64279</td>\n",
       "      <td>82</td>\n",
       "      <td>Dental Check-Up for Children</td>\n",
       "      <td>1087</td>\n",
       "    </tr>\n",
       "    <tr>\n",
       "      <th>LA</th>\n",
       "      <td>91816</td>\n",
       "      <td>125</td>\n",
       "      <td>Routine Dental Services (Adult)</td>\n",
       "      <td>1491</td>\n",
       "    </tr>\n",
       "    <tr>\n",
       "      <th>ME</th>\n",
       "      <td>61834</td>\n",
       "      <td>99</td>\n",
       "      <td>Basic Dental Care - Child</td>\n",
       "      <td>975</td>\n",
       "    </tr>\n",
       "    <tr>\n",
       "      <th>MI</th>\n",
       "      <td>189225</td>\n",
       "      <td>205</td>\n",
       "      <td>Basic Dental Care - Child</td>\n",
       "      <td>3248</td>\n",
       "    </tr>\n",
       "    <tr>\n",
       "      <th>MO</th>\n",
       "      <td>95152</td>\n",
       "      <td>127</td>\n",
       "      <td>Orthodontia - Child</td>\n",
       "      <td>1577</td>\n",
       "    </tr>\n",
       "    <tr>\n",
       "      <th>MS</th>\n",
       "      <td>46895</td>\n",
       "      <td>104</td>\n",
       "      <td>Basic Dental Care - Adult</td>\n",
       "      <td>725</td>\n",
       "    </tr>\n",
       "    <tr>\n",
       "      <th>MT</th>\n",
       "      <td>58132</td>\n",
       "      <td>75</td>\n",
       "      <td>Basic Dental Care - Child</td>\n",
       "      <td>1049</td>\n",
       "    </tr>\n",
       "    <tr>\n",
       "      <th>NC</th>\n",
       "      <td>94290</td>\n",
       "      <td>98</td>\n",
       "      <td>Major Dental Care - Adult</td>\n",
       "      <td>1537</td>\n",
       "    </tr>\n",
       "    <tr>\n",
       "      <th>ND</th>\n",
       "      <td>48269</td>\n",
       "      <td>77</td>\n",
       "      <td>Accidental Dental</td>\n",
       "      <td>974</td>\n",
       "    </tr>\n",
       "    <tr>\n",
       "      <th>NE</th>\n",
       "      <td>66935</td>\n",
       "      <td>90</td>\n",
       "      <td>Major Dental Care - Adult</td>\n",
       "      <td>1238</td>\n",
       "    </tr>\n",
       "    <tr>\n",
       "      <th>NH</th>\n",
       "      <td>44305</td>\n",
       "      <td>98</td>\n",
       "      <td>Major Dental Care - Adult</td>\n",
       "      <td>707</td>\n",
       "    </tr>\n",
       "    <tr>\n",
       "      <th>NJ</th>\n",
       "      <td>86107</td>\n",
       "      <td>100</td>\n",
       "      <td>Orthodontia - Adult</td>\n",
       "      <td>1357</td>\n",
       "    </tr>\n",
       "    <tr>\n",
       "      <th>NM</th>\n",
       "      <td>56669</td>\n",
       "      <td>78</td>\n",
       "      <td>Orthodontia - Adult</td>\n",
       "      <td>828</td>\n",
       "    </tr>\n",
       "    <tr>\n",
       "      <th>NV</th>\n",
       "      <td>62743</td>\n",
       "      <td>121</td>\n",
       "      <td>Dental Check-Up for Children</td>\n",
       "      <td>930</td>\n",
       "    </tr>\n",
       "    <tr>\n",
       "      <th>OH</th>\n",
       "      <td>331045</td>\n",
       "      <td>193</td>\n",
       "      <td>Dental Check-Up for Children</td>\n",
       "      <td>5092</td>\n",
       "    </tr>\n",
       "    <tr>\n",
       "      <th>OK</th>\n",
       "      <td>133639</td>\n",
       "      <td>83</td>\n",
       "      <td>Major Dental Care - Adult</td>\n",
       "      <td>2136</td>\n",
       "    </tr>\n",
       "    <tr>\n",
       "      <th>OR</th>\n",
       "      <td>93502</td>\n",
       "      <td>123</td>\n",
       "      <td>Orthodontia - Adult</td>\n",
       "      <td>1344</td>\n",
       "    </tr>\n",
       "    <tr>\n",
       "      <th>PA</th>\n",
       "      <td>260866</td>\n",
       "      <td>157</td>\n",
       "      <td>Routine Dental Services (Adult)</td>\n",
       "      <td>4208</td>\n",
       "    </tr>\n",
       "    <tr>\n",
       "      <th>SC</th>\n",
       "      <td>111907</td>\n",
       "      <td>85</td>\n",
       "      <td>Orthodontia - Child</td>\n",
       "      <td>1817</td>\n",
       "    </tr>\n",
       "    <tr>\n",
       "      <th>SD</th>\n",
       "      <td>47730</td>\n",
       "      <td>79</td>\n",
       "      <td>Orthodontia - Adult</td>\n",
       "      <td>843</td>\n",
       "    </tr>\n",
       "    <tr>\n",
       "      <th>TN</th>\n",
       "      <td>138154</td>\n",
       "      <td>129</td>\n",
       "      <td>Basic Dental Care - Adult</td>\n",
       "      <td>2073</td>\n",
       "    </tr>\n",
       "    <tr>\n",
       "      <th>TX</th>\n",
       "      <td>465164</td>\n",
       "      <td>180</td>\n",
       "      <td>Accidental Dental</td>\n",
       "      <td>6441</td>\n",
       "    </tr>\n",
       "    <tr>\n",
       "      <th>UT</th>\n",
       "      <td>98421</td>\n",
       "      <td>101</td>\n",
       "      <td>Major Dental Care - Adult</td>\n",
       "      <td>1527</td>\n",
       "    </tr>\n",
       "    <tr>\n",
       "      <th>VA</th>\n",
       "      <td>142236</td>\n",
       "      <td>145</td>\n",
       "      <td>Accidental Dental</td>\n",
       "      <td>2256</td>\n",
       "    </tr>\n",
       "    <tr>\n",
       "      <th>WI</th>\n",
       "      <td>512587</td>\n",
       "      <td>146</td>\n",
       "      <td>Basic Dental Care - Adult</td>\n",
       "      <td>7135</td>\n",
       "    </tr>\n",
       "    <tr>\n",
       "      <th>WV</th>\n",
       "      <td>32638</td>\n",
       "      <td>77</td>\n",
       "      <td>Basic Dental Care - Child</td>\n",
       "      <td>625</td>\n",
       "    </tr>\n",
       "    <tr>\n",
       "      <th>WY</th>\n",
       "      <td>48425</td>\n",
       "      <td>92</td>\n",
       "      <td>Dental Check-Up for Children</td>\n",
       "      <td>807</td>\n",
       "    </tr>\n",
       "  </tbody>\n",
       "</table>\n",
       "</div>"
      ],
      "text/plain": [
       "          benefitname                                              \n",
       "                count unique                              top  freq\n",
       "statecode                                                          \n",
       "AK              41320     84  Routine Dental Services (Adult)   720\n",
       "AL              28417    115  Routine Dental Services (Adult)   653\n",
       "AR              68064     93              Orthodontia - Adult  1077\n",
       "AZ             221612    195        Major Dental Care - Adult  3345\n",
       "DE              31370    110              Orthodontia - Adult   602\n",
       "FL             364742    194              Orthodontia - Child  5130\n",
       "GA             196579    151  Routine Dental Services (Adult)  2893\n",
       "HI               6741     76  Routine Dental Services (Adult)   110\n",
       "IA             110221    104     Dental Check-Up for Children  1727\n",
       "ID              27313     71     Dental Check-Up for Children   447\n",
       "IL             320533    157              Orthodontia - Adult  4299\n",
       "IN             148531    109        Major Dental Care - Adult  2347\n",
       "KS              64279     82     Dental Check-Up for Children  1087\n",
       "LA              91816    125  Routine Dental Services (Adult)  1491\n",
       "ME              61834     99        Basic Dental Care - Child   975\n",
       "MI             189225    205        Basic Dental Care - Child  3248\n",
       "MO              95152    127              Orthodontia - Child  1577\n",
       "MS              46895    104        Basic Dental Care - Adult   725\n",
       "MT              58132     75        Basic Dental Care - Child  1049\n",
       "NC              94290     98        Major Dental Care - Adult  1537\n",
       "ND              48269     77                Accidental Dental   974\n",
       "NE              66935     90        Major Dental Care - Adult  1238\n",
       "NH              44305     98        Major Dental Care - Adult   707\n",
       "NJ              86107    100              Orthodontia - Adult  1357\n",
       "NM              56669     78              Orthodontia - Adult   828\n",
       "NV              62743    121     Dental Check-Up for Children   930\n",
       "OH             331045    193     Dental Check-Up for Children  5092\n",
       "OK             133639     83        Major Dental Care - Adult  2136\n",
       "OR              93502    123              Orthodontia - Adult  1344\n",
       "PA             260866    157  Routine Dental Services (Adult)  4208\n",
       "SC             111907     85              Orthodontia - Child  1817\n",
       "SD              47730     79              Orthodontia - Adult   843\n",
       "TN             138154    129        Basic Dental Care - Adult  2073\n",
       "TX             465164    180                Accidental Dental  6441\n",
       "UT              98421    101        Major Dental Care - Adult  1527\n",
       "VA             142236    145                Accidental Dental  2256\n",
       "WI             512587    146        Basic Dental Care - Adult  7135\n",
       "WV              32638     77        Basic Dental Care - Child   625\n",
       "WY              48425     92     Dental Check-Up for Children   807"
      ]
     },
     "execution_count": 38,
     "metadata": {},
     "output_type": "execute_result"
    }
   ],
   "source": [
    "df_insurance[[\"statecode\",\"benefitname\"]].groupby('statecode').describe()"
   ]
  },
  {
   "cell_type": "markdown",
   "metadata": {},
   "source": [
    "# let's revisit the dataset and zoom in on some columns"
   ]
  },
  {
   "cell_type": "code",
   "execution_count": 47,
   "metadata": {},
   "outputs": [],
   "source": [
    "benifits_imp = df_insurance[['planid','benefitname','businessyear','exclusions','explanation','importdate','iscovered','issuerid','limitqty','limitunit','minimumstay','sourcename','statecode']]"
   ]
  },
  {
   "cell_type": "markdown",
   "metadata": {},
   "source": [
    "# let's look at exclusions"
   ]
  },
  {
   "cell_type": "code",
   "execution_count": 49,
   "metadata": {},
   "outputs": [
    {
     "data": {
      "text/plain": [
       "planid           0.000000\n",
       "benefitname      0.000000\n",
       "businessyear     0.000000\n",
       "exclusions      90.568096\n",
       "explanation     80.732381\n",
       "importdate       0.000000\n",
       "iscovered        4.278180\n",
       "issuerid         0.000000\n",
       "limitqty        86.378221\n",
       "limitunit       86.374536\n",
       "minimumstay     99.668668\n",
       "sourcename       0.000000\n",
       "statecode        0.000000\n",
       "dtype: float64"
      ]
     },
     "execution_count": 49,
     "metadata": {},
     "output_type": "execute_result"
    }
   ],
   "source": [
    "(benifits_imp.isnull().sum()/len(benifits_imp))*100"
   ]
  },
  {
   "cell_type": "code",
   "execution_count": 50,
   "metadata": {},
   "outputs": [
    {
     "data": {
      "text/html": [
       "<div>\n",
       "<style scoped>\n",
       "    .dataframe tbody tr th:only-of-type {\n",
       "        vertical-align: middle;\n",
       "    }\n",
       "\n",
       "    .dataframe tbody tr th {\n",
       "        vertical-align: top;\n",
       "    }\n",
       "\n",
       "    .dataframe thead th {\n",
       "        text-align: right;\n",
       "    }\n",
       "</style>\n",
       "<table border=\"1\" class=\"dataframe\">\n",
       "  <thead>\n",
       "    <tr style=\"text-align: right;\">\n",
       "      <th></th>\n",
       "      <th>planid</th>\n",
       "      <th>benefitname</th>\n",
       "      <th>businessyear</th>\n",
       "      <th>exclusions</th>\n",
       "      <th>explanation</th>\n",
       "      <th>importdate</th>\n",
       "      <th>iscovered</th>\n",
       "      <th>issuerid</th>\n",
       "      <th>limitqty</th>\n",
       "      <th>limitunit</th>\n",
       "      <th>minimumstay</th>\n",
       "      <th>sourcename</th>\n",
       "      <th>statecode</th>\n",
       "    </tr>\n",
       "  </thead>\n",
       "  <tbody>\n",
       "    <tr>\n",
       "      <th>55</th>\n",
       "      <td>38536AK0010002-00</td>\n",
       "      <td>Accidental Dental</td>\n",
       "      <td>2014</td>\n",
       "      <td>Damage resulting from chewing or biting food o...</td>\n",
       "      <td>Family Plan</td>\n",
       "      <td>2013-08-01 12:48:00</td>\n",
       "      <td>Covered</td>\n",
       "      <td>38536</td>\n",
       "      <td>NaN</td>\n",
       "      <td>NaN</td>\n",
       "      <td>NaN</td>\n",
       "      <td>HIOS</td>\n",
       "      <td>AK</td>\n",
       "    </tr>\n",
       "    <tr>\n",
       "      <th>146</th>\n",
       "      <td>38536AK0010001-00</td>\n",
       "      <td>Accidental Dental</td>\n",
       "      <td>2014</td>\n",
       "      <td>Damage resulting from chewing or biting food o...</td>\n",
       "      <td>Family Plan</td>\n",
       "      <td>2013-08-01 12:48:00</td>\n",
       "      <td>Covered</td>\n",
       "      <td>38536</td>\n",
       "      <td>NaN</td>\n",
       "      <td>NaN</td>\n",
       "      <td>NaN</td>\n",
       "      <td>HIOS</td>\n",
       "      <td>AK</td>\n",
       "    </tr>\n",
       "    <tr>\n",
       "      <th>158</th>\n",
       "      <td>38536AK0010003-00</td>\n",
       "      <td>Accidental Dental</td>\n",
       "      <td>2014</td>\n",
       "      <td>Damage resulting from chewing or biting food o...</td>\n",
       "      <td>Family Plan</td>\n",
       "      <td>2013-08-01 12:48:00</td>\n",
       "      <td>Covered</td>\n",
       "      <td>38536</td>\n",
       "      <td>NaN</td>\n",
       "      <td>NaN</td>\n",
       "      <td>NaN</td>\n",
       "      <td>HIOS</td>\n",
       "      <td>AK</td>\n",
       "    </tr>\n",
       "    <tr>\n",
       "      <th>6396</th>\n",
       "      <td>44580AL0360002-03</td>\n",
       "      <td>Infertility Treatment</td>\n",
       "      <td>2014</td>\n",
       "      <td>Excludes Assistive Reproductive Technology,  A...</td>\n",
       "      <td>Coverage up to the diagnosis only, treatment i...</td>\n",
       "      <td>2014-01-21 08:29:49</td>\n",
       "      <td>Covered</td>\n",
       "      <td>44580</td>\n",
       "      <td>NaN</td>\n",
       "      <td>NaN</td>\n",
       "      <td>NaN</td>\n",
       "      <td>HIOS</td>\n",
       "      <td>AL</td>\n",
       "    </tr>\n",
       "    <tr>\n",
       "      <th>6441</th>\n",
       "      <td>44580AL0360002-00</td>\n",
       "      <td>Infertility Treatment</td>\n",
       "      <td>2014</td>\n",
       "      <td>Excludes Assistive Reproductive Technology,  A...</td>\n",
       "      <td>Coverage up to the diagnosis only, treatment i...</td>\n",
       "      <td>2014-01-21 08:29:49</td>\n",
       "      <td>Covered</td>\n",
       "      <td>44580</td>\n",
       "      <td>NaN</td>\n",
       "      <td>NaN</td>\n",
       "      <td>NaN</td>\n",
       "      <td>HIOS</td>\n",
       "      <td>AL</td>\n",
       "    </tr>\n",
       "    <tr>\n",
       "      <th>...</th>\n",
       "      <td>...</td>\n",
       "      <td>...</td>\n",
       "      <td>...</td>\n",
       "      <td>...</td>\n",
       "      <td>...</td>\n",
       "      <td>...</td>\n",
       "      <td>...</td>\n",
       "      <td>...</td>\n",
       "      <td>...</td>\n",
       "      <td>...</td>\n",
       "      <td>...</td>\n",
       "      <td>...</td>\n",
       "      <td>...</td>\n",
       "    </tr>\n",
       "    <tr>\n",
       "      <th>5048183</th>\n",
       "      <td>63300WV0040002-00</td>\n",
       "      <td>Orthodontia - Child</td>\n",
       "      <td>2016</td>\n",
       "      <td>24 month elimination period for ortho benefit</td>\n",
       "      <td>No services for ortho until on the plan for 2 ...</td>\n",
       "      <td>2015-08-20 12:28:36</td>\n",
       "      <td>Covered</td>\n",
       "      <td>63300</td>\n",
       "      <td>NaN</td>\n",
       "      <td>NaN</td>\n",
       "      <td>NaN</td>\n",
       "      <td>SERFF</td>\n",
       "      <td>WV</td>\n",
       "    </tr>\n",
       "    <tr>\n",
       "      <th>5048192</th>\n",
       "      <td>67072WV0030001-00</td>\n",
       "      <td>Orthodontia - Child</td>\n",
       "      <td>2016</td>\n",
       "      <td>24 month elimination period for ortho benefit</td>\n",
       "      <td>No services for ortho until on the plan for 2 ...</td>\n",
       "      <td>2015-08-20 12:28:36</td>\n",
       "      <td>Covered</td>\n",
       "      <td>67072</td>\n",
       "      <td>NaN</td>\n",
       "      <td>NaN</td>\n",
       "      <td>NaN</td>\n",
       "      <td>SERFF</td>\n",
       "      <td>WV</td>\n",
       "    </tr>\n",
       "    <tr>\n",
       "      <th>5048201</th>\n",
       "      <td>67072WV0030002-00</td>\n",
       "      <td>Orthodontia - Child</td>\n",
       "      <td>2016</td>\n",
       "      <td>24 month elimination period for ortho benefit</td>\n",
       "      <td>No services for ortho until on the plan for 2 ...</td>\n",
       "      <td>2015-08-20 12:28:36</td>\n",
       "      <td>Covered</td>\n",
       "      <td>67072</td>\n",
       "      <td>NaN</td>\n",
       "      <td>NaN</td>\n",
       "      <td>NaN</td>\n",
       "      <td>SERFF</td>\n",
       "      <td>WV</td>\n",
       "    </tr>\n",
       "    <tr>\n",
       "      <th>5048210</th>\n",
       "      <td>67072WV0040001-00</td>\n",
       "      <td>Orthodontia - Child</td>\n",
       "      <td>2016</td>\n",
       "      <td>24 month elimination period for ortho benefit</td>\n",
       "      <td>No services for ortho until on the plan for 2 ...</td>\n",
       "      <td>2015-08-20 12:28:36</td>\n",
       "      <td>Covered</td>\n",
       "      <td>67072</td>\n",
       "      <td>NaN</td>\n",
       "      <td>NaN</td>\n",
       "      <td>NaN</td>\n",
       "      <td>SERFF</td>\n",
       "      <td>WV</td>\n",
       "    </tr>\n",
       "    <tr>\n",
       "      <th>5048219</th>\n",
       "      <td>67072WV0040002-00</td>\n",
       "      <td>Orthodontia - Child</td>\n",
       "      <td>2016</td>\n",
       "      <td>24 month elimination period for ortho benefit</td>\n",
       "      <td>No services for ortho until on the plan for 2 ...</td>\n",
       "      <td>2015-08-20 12:28:36</td>\n",
       "      <td>Covered</td>\n",
       "      <td>67072</td>\n",
       "      <td>NaN</td>\n",
       "      <td>NaN</td>\n",
       "      <td>NaN</td>\n",
       "      <td>SERFF</td>\n",
       "      <td>WV</td>\n",
       "    </tr>\n",
       "  </tbody>\n",
       "</table>\n",
       "<p>476161 rows × 13 columns</p>\n",
       "</div>"
      ],
      "text/plain": [
       "                    planid            benefitname  businessyear  \\\n",
       "55       38536AK0010002-00      Accidental Dental          2014   \n",
       "146      38536AK0010001-00      Accidental Dental          2014   \n",
       "158      38536AK0010003-00      Accidental Dental          2014   \n",
       "6396     44580AL0360002-03  Infertility Treatment          2014   \n",
       "6441     44580AL0360002-00  Infertility Treatment          2014   \n",
       "...                    ...                    ...           ...   \n",
       "5048183  63300WV0040002-00    Orthodontia - Child          2016   \n",
       "5048192  67072WV0030001-00    Orthodontia - Child          2016   \n",
       "5048201  67072WV0030002-00    Orthodontia - Child          2016   \n",
       "5048210  67072WV0040001-00    Orthodontia - Child          2016   \n",
       "5048219  67072WV0040002-00    Orthodontia - Child          2016   \n",
       "\n",
       "                                                exclusions  \\\n",
       "55       Damage resulting from chewing or biting food o...   \n",
       "146      Damage resulting from chewing or biting food o...   \n",
       "158      Damage resulting from chewing or biting food o...   \n",
       "6396     Excludes Assistive Reproductive Technology,  A...   \n",
       "6441     Excludes Assistive Reproductive Technology,  A...   \n",
       "...                                                    ...   \n",
       "5048183      24 month elimination period for ortho benefit   \n",
       "5048192      24 month elimination period for ortho benefit   \n",
       "5048201      24 month elimination period for ortho benefit   \n",
       "5048210      24 month elimination period for ortho benefit   \n",
       "5048219      24 month elimination period for ortho benefit   \n",
       "\n",
       "                                               explanation  \\\n",
       "55                                             Family Plan   \n",
       "146                                            Family Plan   \n",
       "158                                            Family Plan   \n",
       "6396     Coverage up to the diagnosis only, treatment i...   \n",
       "6441     Coverage up to the diagnosis only, treatment i...   \n",
       "...                                                    ...   \n",
       "5048183  No services for ortho until on the plan for 2 ...   \n",
       "5048192  No services for ortho until on the plan for 2 ...   \n",
       "5048201  No services for ortho until on the plan for 2 ...   \n",
       "5048210  No services for ortho until on the plan for 2 ...   \n",
       "5048219  No services for ortho until on the plan for 2 ...   \n",
       "\n",
       "                  importdate iscovered  issuerid  limitqty limitunit  \\\n",
       "55       2013-08-01 12:48:00   Covered     38536       NaN       NaN   \n",
       "146      2013-08-01 12:48:00   Covered     38536       NaN       NaN   \n",
       "158      2013-08-01 12:48:00   Covered     38536       NaN       NaN   \n",
       "6396     2014-01-21 08:29:49   Covered     44580       NaN       NaN   \n",
       "6441     2014-01-21 08:29:49   Covered     44580       NaN       NaN   \n",
       "...                      ...       ...       ...       ...       ...   \n",
       "5048183  2015-08-20 12:28:36   Covered     63300       NaN       NaN   \n",
       "5048192  2015-08-20 12:28:36   Covered     67072       NaN       NaN   \n",
       "5048201  2015-08-20 12:28:36   Covered     67072       NaN       NaN   \n",
       "5048210  2015-08-20 12:28:36   Covered     67072       NaN       NaN   \n",
       "5048219  2015-08-20 12:28:36   Covered     67072       NaN       NaN   \n",
       "\n",
       "         minimumstay sourcename statecode  \n",
       "55               NaN       HIOS        AK  \n",
       "146              NaN       HIOS        AK  \n",
       "158              NaN       HIOS        AK  \n",
       "6396             NaN       HIOS        AL  \n",
       "6441             NaN       HIOS        AL  \n",
       "...              ...        ...       ...  \n",
       "5048183          NaN      SERFF        WV  \n",
       "5048192          NaN      SERFF        WV  \n",
       "5048201          NaN      SERFF        WV  \n",
       "5048210          NaN      SERFF        WV  \n",
       "5048219          NaN      SERFF        WV  \n",
       "\n",
       "[476161 rows x 13 columns]"
      ]
     },
     "execution_count": 50,
     "metadata": {},
     "output_type": "execute_result"
    }
   ],
   "source": [
    "benifits_imp[benifits_imp['exclusions'].notnull()]"
   ]
  },
  {
   "cell_type": "markdown",
   "metadata": {},
   "source": [
    "# I decided to drop some columns with a large amount of null values"
   ]
  },
  {
   "cell_type": "code",
   "execution_count": 52,
   "metadata": {},
   "outputs": [],
   "source": [
    "benifits_imp = benifits_imp.drop(['exclusions','limitqty','minimumstay','limitunit','explanation'],axis=1)"
   ]
  },
  {
   "cell_type": "code",
   "execution_count": 53,
   "metadata": {},
   "outputs": [
    {
     "data": {
      "text/plain": [
       "planid          0.00000\n",
       "benefitname     0.00000\n",
       "businessyear    0.00000\n",
       "importdate      0.00000\n",
       "iscovered       4.27818\n",
       "issuerid        0.00000\n",
       "sourcename      0.00000\n",
       "statecode       0.00000\n",
       "dtype: float64"
      ]
     },
     "execution_count": 53,
     "metadata": {},
     "output_type": "execute_result"
    }
   ],
   "source": [
    "(benifits_imp.isnull().sum()/len(benifits_imp))*100"
   ]
  },
  {
   "cell_type": "code",
   "execution_count": 54,
   "metadata": {},
   "outputs": [],
   "source": [
    "benifits_imp = benifits_imp.dropna()"
   ]
  },
  {
   "cell_type": "code",
   "execution_count": 55,
   "metadata": {},
   "outputs": [
    {
     "data": {
      "text/plain": [
       "planid          0.0\n",
       "benefitname     0.0\n",
       "businessyear    0.0\n",
       "importdate      0.0\n",
       "iscovered       0.0\n",
       "issuerid        0.0\n",
       "sourcename      0.0\n",
       "statecode       0.0\n",
       "dtype: float64"
      ]
     },
     "execution_count": 55,
     "metadata": {},
     "output_type": "execute_result"
    }
   ],
   "source": [
    "(benifits_imp.isnull().sum()/len(benifits_imp))*100"
   ]
  },
  {
   "cell_type": "markdown",
   "metadata": {},
   "source": [
    "# let's take a look at the Rates dataset"
   ]
  },
  {
   "cell_type": "code",
   "execution_count": 57,
   "metadata": {},
   "outputs": [],
   "source": [
    "df_rate = pd.read_csv(\"C://Users//eddie//Desktop//Ironhack//MY PROJECTS//health insurance comparisons//Rate.csv\")"
   ]
  },
  {
   "cell_type": "code",
   "execution_count": 58,
   "metadata": {},
   "outputs": [
    {
     "data": {
      "text/html": [
       "<div>\n",
       "<style scoped>\n",
       "    .dataframe tbody tr th:only-of-type {\n",
       "        vertical-align: middle;\n",
       "    }\n",
       "\n",
       "    .dataframe tbody tr th {\n",
       "        vertical-align: top;\n",
       "    }\n",
       "\n",
       "    .dataframe thead th {\n",
       "        text-align: right;\n",
       "    }\n",
       "</style>\n",
       "<table border=\"1\" class=\"dataframe\">\n",
       "  <thead>\n",
       "    <tr style=\"text-align: right;\">\n",
       "      <th></th>\n",
       "      <th>BusinessYear</th>\n",
       "      <th>StateCode</th>\n",
       "      <th>IssuerId</th>\n",
       "      <th>SourceName</th>\n",
       "      <th>VersionNum</th>\n",
       "      <th>ImportDate</th>\n",
       "      <th>IssuerId2</th>\n",
       "      <th>FederalTIN</th>\n",
       "      <th>RateEffectiveDate</th>\n",
       "      <th>RateExpirationDate</th>\n",
       "      <th>PlanId</th>\n",
       "      <th>RatingAreaId</th>\n",
       "      <th>Tobacco</th>\n",
       "      <th>Age</th>\n",
       "      <th>IndividualRate</th>\n",
       "      <th>IndividualTobaccoRate</th>\n",
       "      <th>Couple</th>\n",
       "      <th>PrimarySubscriberAndOneDependent</th>\n",
       "      <th>PrimarySubscriberAndTwoDependents</th>\n",
       "      <th>PrimarySubscriberAndThreeOrMoreDependents</th>\n",
       "      <th>CoupleAndOneDependent</th>\n",
       "      <th>CoupleAndTwoDependents</th>\n",
       "      <th>CoupleAndThreeOrMoreDependents</th>\n",
       "      <th>RowNumber</th>\n",
       "    </tr>\n",
       "  </thead>\n",
       "  <tbody>\n",
       "    <tr>\n",
       "      <th>0</th>\n",
       "      <td>2014</td>\n",
       "      <td>AK</td>\n",
       "      <td>21989</td>\n",
       "      <td>HIOS</td>\n",
       "      <td>6</td>\n",
       "      <td>2014-03-19 07:06:49</td>\n",
       "      <td>21989</td>\n",
       "      <td>93-0438772</td>\n",
       "      <td>2014-01-01</td>\n",
       "      <td>2014-12-31</td>\n",
       "      <td>21989AK0010001</td>\n",
       "      <td>Rating Area 1</td>\n",
       "      <td>No Preference</td>\n",
       "      <td>0-20</td>\n",
       "      <td>29.00</td>\n",
       "      <td>NaN</td>\n",
       "      <td>NaN</td>\n",
       "      <td>NaN</td>\n",
       "      <td>NaN</td>\n",
       "      <td>NaN</td>\n",
       "      <td>NaN</td>\n",
       "      <td>NaN</td>\n",
       "      <td>NaN</td>\n",
       "      <td>14</td>\n",
       "    </tr>\n",
       "    <tr>\n",
       "      <th>1</th>\n",
       "      <td>2014</td>\n",
       "      <td>AK</td>\n",
       "      <td>21989</td>\n",
       "      <td>HIOS</td>\n",
       "      <td>6</td>\n",
       "      <td>2014-03-19 07:06:49</td>\n",
       "      <td>21989</td>\n",
       "      <td>93-0438772</td>\n",
       "      <td>2014-01-01</td>\n",
       "      <td>2014-12-31</td>\n",
       "      <td>21989AK0020001</td>\n",
       "      <td>Rating Area 1</td>\n",
       "      <td>No Preference</td>\n",
       "      <td>Family Option</td>\n",
       "      <td>36.95</td>\n",
       "      <td>NaN</td>\n",
       "      <td>73.9</td>\n",
       "      <td>107.61</td>\n",
       "      <td>107.61</td>\n",
       "      <td>107.61</td>\n",
       "      <td>144.56</td>\n",
       "      <td>144.56</td>\n",
       "      <td>144.56</td>\n",
       "      <td>14</td>\n",
       "    </tr>\n",
       "    <tr>\n",
       "      <th>2</th>\n",
       "      <td>2014</td>\n",
       "      <td>AK</td>\n",
       "      <td>21989</td>\n",
       "      <td>HIOS</td>\n",
       "      <td>6</td>\n",
       "      <td>2014-03-19 07:06:49</td>\n",
       "      <td>21989</td>\n",
       "      <td>93-0438772</td>\n",
       "      <td>2014-01-01</td>\n",
       "      <td>2014-12-31</td>\n",
       "      <td>21989AK0020001</td>\n",
       "      <td>Rating Area 2</td>\n",
       "      <td>No Preference</td>\n",
       "      <td>Family Option</td>\n",
       "      <td>36.95</td>\n",
       "      <td>NaN</td>\n",
       "      <td>73.9</td>\n",
       "      <td>107.61</td>\n",
       "      <td>107.61</td>\n",
       "      <td>107.61</td>\n",
       "      <td>144.56</td>\n",
       "      <td>144.56</td>\n",
       "      <td>144.56</td>\n",
       "      <td>15</td>\n",
       "    </tr>\n",
       "    <tr>\n",
       "      <th>3</th>\n",
       "      <td>2014</td>\n",
       "      <td>AK</td>\n",
       "      <td>21989</td>\n",
       "      <td>HIOS</td>\n",
       "      <td>6</td>\n",
       "      <td>2014-03-19 07:06:49</td>\n",
       "      <td>21989</td>\n",
       "      <td>93-0438772</td>\n",
       "      <td>2014-01-01</td>\n",
       "      <td>2014-12-31</td>\n",
       "      <td>21989AK0010001</td>\n",
       "      <td>Rating Area 1</td>\n",
       "      <td>No Preference</td>\n",
       "      <td>21</td>\n",
       "      <td>32.00</td>\n",
       "      <td>NaN</td>\n",
       "      <td>NaN</td>\n",
       "      <td>NaN</td>\n",
       "      <td>NaN</td>\n",
       "      <td>NaN</td>\n",
       "      <td>NaN</td>\n",
       "      <td>NaN</td>\n",
       "      <td>NaN</td>\n",
       "      <td>15</td>\n",
       "    </tr>\n",
       "    <tr>\n",
       "      <th>4</th>\n",
       "      <td>2014</td>\n",
       "      <td>AK</td>\n",
       "      <td>21989</td>\n",
       "      <td>HIOS</td>\n",
       "      <td>6</td>\n",
       "      <td>2014-03-19 07:06:49</td>\n",
       "      <td>21989</td>\n",
       "      <td>93-0438772</td>\n",
       "      <td>2014-01-01</td>\n",
       "      <td>2014-12-31</td>\n",
       "      <td>21989AK0010001</td>\n",
       "      <td>Rating Area 1</td>\n",
       "      <td>No Preference</td>\n",
       "      <td>22</td>\n",
       "      <td>32.00</td>\n",
       "      <td>NaN</td>\n",
       "      <td>NaN</td>\n",
       "      <td>NaN</td>\n",
       "      <td>NaN</td>\n",
       "      <td>NaN</td>\n",
       "      <td>NaN</td>\n",
       "      <td>NaN</td>\n",
       "      <td>NaN</td>\n",
       "      <td>16</td>\n",
       "    </tr>\n",
       "  </tbody>\n",
       "</table>\n",
       "</div>"
      ],
      "text/plain": [
       "   BusinessYear StateCode  IssuerId SourceName  VersionNum  \\\n",
       "0          2014        AK     21989       HIOS           6   \n",
       "1          2014        AK     21989       HIOS           6   \n",
       "2          2014        AK     21989       HIOS           6   \n",
       "3          2014        AK     21989       HIOS           6   \n",
       "4          2014        AK     21989       HIOS           6   \n",
       "\n",
       "            ImportDate  IssuerId2  FederalTIN RateEffectiveDate  \\\n",
       "0  2014-03-19 07:06:49      21989  93-0438772        2014-01-01   \n",
       "1  2014-03-19 07:06:49      21989  93-0438772        2014-01-01   \n",
       "2  2014-03-19 07:06:49      21989  93-0438772        2014-01-01   \n",
       "3  2014-03-19 07:06:49      21989  93-0438772        2014-01-01   \n",
       "4  2014-03-19 07:06:49      21989  93-0438772        2014-01-01   \n",
       "\n",
       "  RateExpirationDate          PlanId   RatingAreaId        Tobacco  \\\n",
       "0         2014-12-31  21989AK0010001  Rating Area 1  No Preference   \n",
       "1         2014-12-31  21989AK0020001  Rating Area 1  No Preference   \n",
       "2         2014-12-31  21989AK0020001  Rating Area 2  No Preference   \n",
       "3         2014-12-31  21989AK0010001  Rating Area 1  No Preference   \n",
       "4         2014-12-31  21989AK0010001  Rating Area 1  No Preference   \n",
       "\n",
       "             Age  IndividualRate  IndividualTobaccoRate  Couple  \\\n",
       "0           0-20           29.00                    NaN     NaN   \n",
       "1  Family Option           36.95                    NaN    73.9   \n",
       "2  Family Option           36.95                    NaN    73.9   \n",
       "3             21           32.00                    NaN     NaN   \n",
       "4             22           32.00                    NaN     NaN   \n",
       "\n",
       "   PrimarySubscriberAndOneDependent  PrimarySubscriberAndTwoDependents  \\\n",
       "0                               NaN                                NaN   \n",
       "1                            107.61                             107.61   \n",
       "2                            107.61                             107.61   \n",
       "3                               NaN                                NaN   \n",
       "4                               NaN                                NaN   \n",
       "\n",
       "   PrimarySubscriberAndThreeOrMoreDependents  CoupleAndOneDependent  \\\n",
       "0                                        NaN                    NaN   \n",
       "1                                     107.61                 144.56   \n",
       "2                                     107.61                 144.56   \n",
       "3                                        NaN                    NaN   \n",
       "4                                        NaN                    NaN   \n",
       "\n",
       "   CoupleAndTwoDependents  CoupleAndThreeOrMoreDependents  RowNumber  \n",
       "0                     NaN                             NaN         14  \n",
       "1                  144.56                          144.56         14  \n",
       "2                  144.56                          144.56         15  \n",
       "3                     NaN                             NaN         15  \n",
       "4                     NaN                             NaN         16  "
      ]
     },
     "execution_count": 58,
     "metadata": {},
     "output_type": "execute_result"
    }
   ],
   "source": [
    "df_rate.head()"
   ]
  },
  {
   "cell_type": "code",
   "execution_count": 59,
   "metadata": {},
   "outputs": [
    {
     "data": {
      "text/plain": [
       "BusinessYear                                  0.000000\n",
       "StateCode                                     0.000000\n",
       "IssuerId                                      0.000000\n",
       "SourceName                                    0.000000\n",
       "VersionNum                                    0.000000\n",
       "ImportDate                                    0.000000\n",
       "IssuerId2                                     0.000000\n",
       "FederalTIN                                    0.000000\n",
       "RateEffectiveDate                             0.000000\n",
       "RateExpirationDate                            0.000000\n",
       "PlanId                                        0.000000\n",
       "RatingAreaId                                  0.000000\n",
       "Tobacco                                       0.000000\n",
       "Age                                           0.000000\n",
       "IndividualRate                                0.000000\n",
       "IndividualTobaccoRate                        61.145611\n",
       "Couple                                       99.677489\n",
       "PrimarySubscriberAndOneDependent             99.677489\n",
       "PrimarySubscriberAndTwoDependents            99.677489\n",
       "PrimarySubscriberAndThreeOrMoreDependents    99.677489\n",
       "CoupleAndOneDependent                        99.677489\n",
       "CoupleAndTwoDependents                       99.677489\n",
       "CoupleAndThreeOrMoreDependents               99.677489\n",
       "RowNumber                                     0.000000\n",
       "dtype: float64"
      ]
     },
     "execution_count": 59,
     "metadata": {},
     "output_type": "execute_result"
    }
   ],
   "source": [
    "(df_rate.isnull().sum()/len(df_rate))*100"
   ]
  },
  {
   "cell_type": "code",
   "execution_count": 60,
   "metadata": {},
   "outputs": [
    {
     "data": {
      "text/plain": [
       "Index(['businessyear', 'statecode', 'issuerid', 'sourcename', 'versionnum',\n",
       "       'importdate', 'issuerid2', 'federaltin', 'rateeffectivedate',\n",
       "       'rateexpirationdate', 'planid', 'ratingareaid', 'tobacco', 'age',\n",
       "       'individualrate', 'individualtobaccorate', 'couple',\n",
       "       'primarysubscriberandonedependent', 'primarysubscriberandtwodependents',\n",
       "       'primarysubscriberandthreeormoredependents', 'coupleandonedependent',\n",
       "       'coupleandtwodependents', 'coupleandthreeormoredependents',\n",
       "       'rownumber'],\n",
       "      dtype='object')"
      ]
     },
     "execution_count": 60,
     "metadata": {},
     "output_type": "execute_result"
    }
   ],
   "source": [
    "df_rate.columns = [columns.lower().replace(' ', '_') for columns in df_rate.columns]  \n",
    "df_rate.columns"
   ]
  },
  {
   "cell_type": "markdown",
   "metadata": {},
   "source": [
    "# lets zoom in on some columns in this dataset"
   ]
  },
  {
   "cell_type": "code",
   "execution_count": 66,
   "metadata": {},
   "outputs": [],
   "source": [
    "rates = df_rate[[ 'businessyear', 'statecode', 'issuerid', 'sourcename', 'versionnum',\n",
    "       'importdate', 'issuerid2', 'federaltin', 'rateeffectivedate',\n",
    "       'rateexpirationdate', 'planid', 'ratingareaid', 'tobacco', 'age','individualrate']]"
   ]
  },
  {
   "cell_type": "markdown",
   "metadata": {},
   "source": [
    "# lets look at the outliers"
   ]
  },
  {
   "cell_type": "code",
   "execution_count": 67,
   "metadata": {},
   "outputs": [],
   "source": [
    "def filter_med(signal, threshold=5):\n",
    "    signal = signal.copy()\n",
    "    difference = np.abs(signal - np.median(signal))\n",
    "    median_difference = np.median(difference)\n",
    "    if median_difference == 0:\n",
    "        s = 0\n",
    "    else:\n",
    "        s = difference / float(median_difference)\n",
    "    mask = s > threshold\n",
    "    signal[mask] = np.median(signal)\n",
    "    return signal"
   ]
  },
  {
   "cell_type": "code",
   "execution_count": 69,
   "metadata": {},
   "outputs": [
    {
     "data": {
      "image/png": "[encoded data removed]",
      "text/plain": [
       "<Figure size 720x720 with 1 Axes>"
      ]
     },
     "metadata": {
      "needs_background": "light"
     },
     "output_type": "display_data"
    }
   ],
   "source": [
    "figsize = (10, 10)\n",
    "kw = dict(marker='o', linestyle='none', color='r', alpha=0.3)\n",
    "\n",
    "rates ['averate'] = filter_med(rates['individualrate'].values, threshold=5)\n",
    "\n",
    "outlier_idx = np.where(rates['averate'].values != rates['individualrate'].values)[0]\n",
    "\n",
    "fig1, ax1 = plt.subplots(figsize=figsize)\n",
    "rates['individualrate'].plot()\n",
    "rates['individualrate'][outlier_idx].plot(**kw)\n",
    "plt.show()"
   ]
  },
  {
   "cell_type": "markdown",
   "metadata": {},
   "source": [
    "# based on this graph let's try to clean the result"
   ]
  },
  {
   "cell_type": "code",
   "execution_count": 70,
   "metadata": {},
   "outputs": [],
   "source": [
    "normal_rates = rates['individualrate'] < 9999"
   ]
  },
  {
   "cell_type": "code",
   "execution_count": 71,
   "metadata": {},
   "outputs": [],
   "source": [
    "rate_final = rates[normal_rates]"
   ]
  },
  {
   "cell_type": "code",
   "execution_count": 72,
   "metadata": {},
   "outputs": [],
   "source": [
    "rate_avg = rate_final.groupby(['statecode', 'businessyear'])['individualrate'].mean()\n",
    "rate_avg = pd.DataFrame(rate_avg)\n",
    "rate_avg.reset_index(inplace=True)  "
   ]
  },
  {
   "cell_type": "markdown",
   "metadata": {},
   "source": [
    "# let's plot the rates"
   ]
  },
  {
   "cell_type": "code",
   "execution_count": 73,
   "metadata": {},
   "outputs": [
    {
     "data": {
      "text/plain": [
       "<AxesSubplot:xlabel='individualrate', ylabel='statecode'>"
      ]
     },
     "execution_count": 73,
     "metadata": {},
     "output_type": "execute_result"
    },
    {
     "data": {
      "image/png": "[encoded data removed]",
      "text/plain": [
       "<Figure size 720x2880 with 1 Axes>"
      ]
     },
     "metadata": {
      "needs_background": "light"
     },
     "output_type": "display_data"
    }
   ],
   "source": [
    "fig, ax = plt.subplots(figsize=(10, 40))\n",
    "sns.barplot(ax=ax,y=\"statecode\", x=\"individualrate\", hue=\"businessyear\", data=rate_avg, palette=\"Paired\")"
   ]
  },
  {
   "cell_type": "code",
   "execution_count": null,
   "metadata": {},
   "outputs": [],
   "source": []
  },
  {
   "cell_type": "code",
   "execution_count": null,
   "metadata": {},
   "outputs": [],
   "source": []
  },
  {
   "cell_type": "code",
   "execution_count": null,
   "metadata": {},
   "outputs": [],
   "source": []
  },
  {
   "cell_type": "code",
   "execution_count": null,
   "metadata": {},
   "outputs": [],
   "source": []
  },
  {
   "cell_type": "code",
   "execution_count": null,
   "metadata": {},
   "outputs": [],
   "source": []
  }
 ],
 "metadata": {
  "interpreter": {
   "hash": "b4ae3f830fabd9f6d0be2bfdf736c723070752cf5dc82cce9d3e82472cb111d1"
  },
  "kernelspec": {
   "display_name": "Python 3.9.9 64-bit (windows store)",
   "language": "python",
   "name": "python3"
  },
  "language_info": {
   "codemirror_mode": {
    "name": "ipython",
    "version": 3
   },
   "file_extension": ".py",
   "mimetype": "text/x-python",
   "name": "python",
   "nbconvert_exporter": "python",
   "pygments_lexer": "ipython3",
   "version": "3.9.9"
  },
  "orig_nbformat": 4
 },
 "nbformat": 4,
 "nbformat_minor": 2
}
