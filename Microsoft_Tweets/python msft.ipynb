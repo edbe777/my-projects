{
 "cells": [
  {
   "cell_type": "code",
   "execution_count": null,
   "metadata": {},
   "outputs": [],
   "source": [
    "import pandas as pd\n",
    "import numpy as np\n",
    "pd.set_option('display.max_columns', None)\n",
    "\n",
    "\n",
    "import matplotlib.pyplot as plt\n",
    "import seaborn as sns\n",
    "sns.set_style('darkgrid')\n",
    "\n",
    "plt.rc('figure',figsize=(17,13))\n",
    "import plotly.express as px\n",
    "from plotly.subplots import make_subplots"
   ]
  },
  {
   "cell_type": "code",
   "execution_count": null,
   "metadata": {},
   "outputs": [],
   "source": [
    "# panel \n",
    "#!pip install panel\n",
    "#jupyter serverextension enable panel.io.jupyter_server_extension"
   ]
  },
  {
   "cell_type": "code",
   "execution_count": null,
   "metadata": {},
   "outputs": [],
   "source": [
    "df_read = pd.read_csv('Microsoft_Twitter.csv')\n",
    "df_msft = df_read.copy()\n",
    "df_msft"
   ]
  },
  {
   "cell_type": "code",
   "execution_count": null,
   "metadata": {},
   "outputs": [],
   "source": []
  },
  {
   "cell_type": "code",
   "execution_count": null,
   "metadata": {},
   "outputs": [],
   "source": [
    "df_msft.info()"
   ]
  },
  {
   "cell_type": "code",
   "execution_count": null,
   "metadata": {},
   "outputs": [],
   "source": [
    "#pip install datatile"
   ]
  },
  {
   "cell_type": "code",
   "execution_count": null,
   "metadata": {},
   "outputs": [],
   "source": [
    "#pip install datatile\n",
    "from datatile.summary.df import DataFrameSummary\n",
    "\n",
    "dfs = DataFrameSummary(df_msft)"
   ]
  },
  {
   "cell_type": "code",
   "execution_count": null,
   "metadata": {},
   "outputs": [],
   "source": [
    "dfs.columns_types"
   ]
  },
  {
   "cell_type": "code",
   "execution_count": null,
   "metadata": {},
   "outputs": [],
   "source": [
    "dfs.columns_stats"
   ]
  },
  {
   "cell_type": "code",
   "execution_count": null,
   "metadata": {},
   "outputs": [],
   "source": [
    "dfs['favourite_count']"
   ]
  },
  {
   "cell_type": "code",
   "execution_count": null,
   "metadata": {},
   "outputs": [],
   "source": [
    "#Check for duplicates\n",
    "df_msft[df_msft.duplicated()]"
   ]
  },
  {
   "cell_type": "code",
   "execution_count": null,
   "metadata": {},
   "outputs": [],
   "source": [
    "# convert created_at column to datetime\n",
    "df_msft['created_at'] = pd.to_datetime(df_msft['created_at'])"
   ]
  },
  {
   "cell_type": "markdown",
   "metadata": {},
   "source": [
    "# Tweets per Day"
   ]
  },
  {
   "cell_type": "code",
   "execution_count": null,
   "metadata": {},
   "outputs": [],
   "source": [
    "#tweets per day\n",
    "tweets_per_day = df_msft['created_at'].dt.strftime('%m-%d').value_counts().sort_index().reset_index(name='counts')"
   ]
  },
  {
   "cell_type": "code",
   "execution_count": null,
   "metadata": {},
   "outputs": [],
   "source": [
    "#plot\n",
    "plt.figure(figsize=(65,15))\n",
    "ax = sns.barplot(x='index', y='counts', data=tweets_per_day,edgecolor = 'black',ci=False, palette='Blues_r')\n",
    "plt.title('Tweets count by date')\n",
    "plt.yticks([])\n",
    "ax.bar_label(ax.containers[0])\n",
    "plt.ylabel('count')\n",
    "plt.xlabel('')\n",
    "plt.show()\n"
   ]
  },
  {
   "cell_type": "code",
   "execution_count": null,
   "metadata": {},
   "outputs": [],
   "source": [
    "#check first date, newest\n",
    "df_msft.head(1)['created_at']"
   ]
  },
  {
   "cell_type": "code",
   "execution_count": null,
   "metadata": {},
   "outputs": [],
   "source": [
    "#check last date, oldest\n",
    "df_msft.tail(1)['created_at']"
   ]
  },
  {
   "cell_type": "markdown",
   "metadata": {},
   "source": [
    "# Tweets per hour"
   ]
  },
  {
   "cell_type": "code",
   "execution_count": null,
   "metadata": {},
   "outputs": [],
   "source": [
    "tweets_per_hour = df_msft['created_at'].dt.strftime('%H').value_counts().sort_index().reset_index(name='counts')"
   ]
  },
  {
   "cell_type": "code",
   "execution_count": null,
   "metadata": {},
   "outputs": [],
   "source": [
    "#plot\n",
    "plt.figure(figsize=(25,8))\n",
    "ax = sns.barplot(x='index', y='counts', data=tweets_per_hour,edgecolor = 'black',ci=False, palette='mako_r')\n",
    "plt.title('Tweets count by hour')\n",
    "plt.yticks([])\n",
    "ax.bar_label(ax.containers[0])\n",
    "plt.ylabel('count')\n",
    "plt.xlabel('')\n",
    "plt.show()\n",
    "\n"
   ]
  },
  {
   "cell_type": "markdown",
   "metadata": {},
   "source": [
    "# Favourite tweets"
   ]
  },
  {
   "cell_type": "code",
   "execution_count": null,
   "metadata": {},
   "outputs": [],
   "source": [
    "f_tweets = df_msft[['text','favourite_count']].sort_values('favourite_count', ascending=False)"
   ]
  },
  {
   "cell_type": "code",
   "execution_count": null,
   "metadata": {},
   "outputs": [],
   "source": [
    "#top 10 fav tweets\n",
    "f_tweets['text'].iloc[:10].values"
   ]
  },
  {
   "cell_type": "markdown",
   "metadata": {},
   "source": [
    "# Retweets"
   ]
  },
  {
   "cell_type": "code",
   "execution_count": null,
   "metadata": {},
   "outputs": [],
   "source": [
    "retweets = df_msft[['text','retweet_count']].sort_values('retweet_count', ascending=False)"
   ]
  },
  {
   "cell_type": "code",
   "execution_count": null,
   "metadata": {},
   "outputs": [],
   "source": [
    "#top 10\n",
    "retweets['text'].iloc[:10].values"
   ]
  },
  {
   "cell_type": "markdown",
   "metadata": {},
   "source": [
    "# Vader Sentiment Analysis"
   ]
  },
  {
   "cell_type": "code",
   "execution_count": null,
   "metadata": {},
   "outputs": [],
   "source": [
    "#!pip install vaderSentiment\n",
    "#!pip install flair\n",
    "#!pip install emoji\n",
    "#!pip install textblob"
   ]
  },
  {
   "cell_type": "code",
   "execution_count": null,
   "metadata": {},
   "outputs": [],
   "source": [
    "#!pip install vaderSentiment\n",
    "#!pip install flair\n",
    "#!pip install emoji\n",
    "\n",
    "from vaderSentiment.vaderSentiment import SentimentIntensityAnalyzer\n",
    "from nltk.sentiment import SentimentIntensityAnalyzer\n",
    "from textblob import TextBlob\n",
    "from flair.models import TextClassifier\n",
    "from flair.data import Sentence\n",
    "from wordcloud import WordCloud, STOPWORDS\n",
    "import re, string\n",
    "import emoji"
   ]
  },
  {
   "cell_type": "code",
   "execution_count": null,
   "metadata": {},
   "outputs": [],
   "source": [
    "sentiment_vader = SentimentIntensityAnalyzer()"
   ]
  },
  {
   "cell_type": "code",
   "execution_count": null,
   "metadata": {},
   "outputs": [],
   "source": [
    "sentiments = []\n",
    "for tweet in df_msft.text:\n",
    "    sentiment_dict = sentiment_vader.polarity_scores(tweet)\n",
    "    sentiment_dict.pop('compound', None)\n",
    "    sentiments.append(max(sentiment_dict , key=sentiment_dict.get))"
   ]
  },
  {
   "cell_type": "code",
   "execution_count": null,
   "metadata": {},
   "outputs": [],
   "source": [
    "df_msft['sentiment'] = sentiments\n",
    "df_msft['sentiment'].value_counts()"
   ]
  },
  {
   "cell_type": "markdown",
   "metadata": {},
   "source": [
    "# Clean up the tweet text"
   ]
  },
  {
   "cell_type": "code",
   "execution_count": null,
   "metadata": {},
   "outputs": [],
   "source": [
    "# text cleaning functions \n",
    "\n",
    "#Clean emojis from text\n",
    "def strip_emoji(text):\n",
    "    return re.sub(emoji.get_emoji_regexp(), r\"\", text) #remove emoji\n",
    "\n",
    "#Remove punctuations, links, mentions and \\r\\n \n",
    "def strip_all_entities(text): \n",
    "    text = text.replace('\\r', '').replace('\\n', ' ').replace('\\n', ' ').lower() #remove \\n and \\r and lowercase\n",
    "    text = re.sub(r\"(?:\\@|https?\\://)\\S+\", \"\", text) #remove links and mentions\n",
    "    text = re.sub(r'[^\\x00-\\x7f]',r'', text) #remove non utf8/ascii characters \n",
    "    banned_list= string.punctuation + 'Ã'+'±'+'ã'+'¼'+'â'+'»'+'§'\n",
    "    table = str.maketrans('', '', banned_list)\n",
    "    text = text.translate(table)\n",
    "    return text\n",
    "\n",
    "#clean hashtags at the end of the sentence, keep those in the middle of the sentence \n",
    "def clean_hashtags(tweet):\n",
    "    new_tweet = \" \".join(word.strip() for word in re.split('#(?!(?:hashtag)\\b)[\\w-]+(?=(?:\\s+#[\\w-]+)*\\s*$)', tweet)) #remove last hashtags\n",
    "    new_tweet2 = \" \".join(word.strip() for word in re.split('#|_', new_tweet)) #remove hashtags symbol \n",
    "    return new_tweet2\n",
    "\n",
    "#Filter special characters \n",
    "def filter_chars(a):\n",
    "    sent = []\n",
    "    for word in a.split(' '):\n",
    "        if ('$' in word) | ('&' in word):\n",
    "            sent.append('')\n",
    "        else:\n",
    "            sent.append(word)\n",
    "    return ' '.join(sent)\n",
    "\n",
    "def remove_mult_spaces(text): # remove multiple spaces\n",
    "    return re.sub(\"\\s\\s+\" , \" \", text)\n",
    "\n",
    "def remove_spam(text):\n",
    "    match = re.search(r'subscribe', text)\n",
    "    if match:\n",
    "        return ''\n",
    "    else:\n",
    "        return text"
   ]
  },
  {
   "cell_type": "markdown",
   "metadata": {},
   "source": [
    "# Apply the cleaning functions to df"
   ]
  },
  {
   "cell_type": "code",
   "execution_count": null,
   "metadata": {},
   "outputs": [],
   "source": [
    "clean_texts = []\n",
    "for t in df_msft.text:\n",
    "    clean_texts.append(remove_spam(remove_mult_spaces(filter_chars(clean_hashtags(strip_all_entities(strip_emoji(t)))))))"
   ]
  },
  {
   "cell_type": "code",
   "execution_count": null,
   "metadata": {},
   "outputs": [],
   "source": [
    "# new column with clean_text\n",
    "df_msft['clean_text'] = clean_texts"
   ]
  },
  {
   "cell_type": "code",
   "execution_count": null,
   "metadata": {},
   "outputs": [],
   "source": [
    "# lowercase\n",
    "df_msft['clean_text'] = df_msft['clean_text'].str.lower() "
   ]
  },
  {
   "cell_type": "markdown",
   "metadata": {},
   "source": [
    "# check tweet clean text"
   ]
  },
  {
   "cell_type": "code",
   "execution_count": null,
   "metadata": {},
   "outputs": [],
   "source": [
    "text_len = []\n",
    "for text in df_msft.clean_text:\n",
    "    tweet_len = len(text.split())\n",
    "    text_len.append(tweet_len)"
   ]
  },
  {
   "cell_type": "code",
   "execution_count": null,
   "metadata": {},
   "outputs": [],
   "source": [
    "df_msft['text_len'] = text_len"
   ]
  },
  {
   "cell_type": "code",
   "execution_count": null,
   "metadata": {},
   "outputs": [],
   "source": [
    "df_msft"
   ]
  },
  {
   "cell_type": "code",
   "execution_count": null,
   "metadata": {},
   "outputs": [],
   "source": [
    "#plot cleaned text length\n",
    "plt.figure(figsize=(25,8))\n",
    "sns.histplot(x='text_len', data=df_msft, bins=40)\n",
    "plt.title('Cleaned Text Length')\n",
    "plt.show()"
   ]
  },
  {
   "cell_type": "markdown",
   "metadata": {},
   "source": [
    "# too many tweet texts with few words"
   ]
  },
  {
   "cell_type": "code",
   "execution_count": null,
   "metadata": {},
   "outputs": [],
   "source": [
    "# plot\n",
    "plt.figure(figsize=(7,5))\n",
    "ax = sns.countplot(x='text_len', data=df_msft[df_msft['text_len'] < 10], palette='mako')\n",
    "plt.title('Teets with less than 10 words')\n",
    "plt.yticks([])\n",
    "ax.bar_label(ax.containers[0])\n",
    "plt.ylabel('count')\n",
    "plt.xlabel('')\n",
    "plt.show()\n",
    "\n"
   ]
  },
  {
   "cell_type": "markdown",
   "metadata": {},
   "source": [
    "# Removed the tweets with fewer than 3 words"
   ]
  },
  {
   "cell_type": "code",
   "execution_count": null,
   "metadata": {},
   "outputs": [],
   "source": [
    "df_msft_cleaned = df_msft[df_msft['text_len'] > 2]"
   ]
  },
  {
   "cell_type": "code",
   "execution_count": null,
   "metadata": {},
   "outputs": [],
   "source": [
    "df_msft_cleaned"
   ]
  },
  {
   "cell_type": "markdown",
   "metadata": {},
   "source": [
    "# Analysis of cleaned df and further processing"
   ]
  },
  {
   "cell_type": "code",
   "execution_count": null,
   "metadata": {},
   "outputs": [],
   "source": [
    "sentiment_vader = SentimentIntensityAnalyzer()"
   ]
  },
  {
   "cell_type": "code",
   "execution_count": null,
   "metadata": {},
   "outputs": [],
   "source": [
    "sentiments = []\n",
    "for tweet in df_msft_cleaned.text:\n",
    "    sentiment_dict = sentiment_vader.polarity_scores(tweet)\n",
    "    sentiment_dict.pop('compound', None)\n",
    "    sentiments.append(max(sentiment_dict , key=sentiment_dict.get))"
   ]
  },
  {
   "cell_type": "code",
   "execution_count": null,
   "metadata": {},
   "outputs": [],
   "source": [
    "df_msft_cleaned['sentiment'] = sentiments\n",
    "df_msft_cleaned['sentiment'].value_counts()"
   ]
  },
  {
   "cell_type": "markdown",
   "metadata": {},
   "source": [
    "# Further text cleaning"
   ]
  },
  {
   "cell_type": "code",
   "execution_count": null,
   "metadata": {},
   "outputs": [],
   "source": [
    "# cleaning functions\n",
    "\n",
    "#Clean emojis from text\n",
    "def strip_emoji(text):\n",
    "    return re.sub(emoji.get_emoji_regexp(), r\"\", text) #remove emoji\n",
    "\n",
    "#Remove punctuations, links, mentions and \\r\\n \n",
    "def strip_all_entities(text): \n",
    "    text = text.replace('\\r', '').replace('\\n', ' ').replace('\\n', ' ').lower() #remove \\n and \\r and lowercase\n",
    "    text = re.sub(r\"(?:\\@|https?\\://)\\S+\", \"\", text) #remove links and mentions\n",
    "    text = re.sub(r'[^\\x00-\\x7f]',r'', text) #remove non utf8/ascii characters \n",
    "    banned_list= string.punctuation + 'Ã'+'±'+'ã'+'¼'+'â'+'»'+'§'\n",
    "    table = str.maketrans('', '', banned_list)\n",
    "    text = text.translate(table)\n",
    "    return text\n",
    "\n",
    "#clean hashtags at the end of the sentence\n",
    "def clean_hashtags(tweet):\n",
    "    new_tweet = \" \".join(word.strip() for word in re.split('#(?!(?:hashtag)\\b)[\\w-]+(?=(?:\\s+#[\\w-]+)*\\s*$)', tweet)) #remove last hashtags\n",
    "    new_tweet2 = \" \".join(word.strip() for word in re.split('#|_', new_tweet)) #remove hashtags\n",
    "    return new_tweet2\n",
    "\n",
    "#Filter special characters \n",
    "def filter_chars(a):\n",
    "    sent = []\n",
    "    for word in a.split(' '):\n",
    "        if ('$' in word) | ('&' in word):\n",
    "            sent.append('')\n",
    "        else:\n",
    "            sent.append(word)\n",
    "    return ' '.join(sent)\n",
    "\n",
    "def remove_mult_spaces(text): # remove multiple spaces\n",
    "    return re.sub(\"\\s\\s+\" , \" \", text)\n",
    "\n",
    "def remove_spam(text):\n",
    "    match = re.search(r'subscribe', text)\n",
    "    if match:\n",
    "        return ''\n",
    "    else:\n",
    "        return text"
   ]
  },
  {
   "cell_type": "markdown",
   "metadata": {},
   "source": [
    "# Apply cleaning functions to cleaned df"
   ]
  },
  {
   "cell_type": "code",
   "execution_count": null,
   "metadata": {},
   "outputs": [],
   "source": [
    "texts_new = []\n",
    "for t in df_msft_cleaned.text:\n",
    "    texts_new.append(remove_spam(remove_mult_spaces(filter_chars(clean_hashtags(strip_all_entities(strip_emoji(t)))))))"
   ]
  },
  {
   "cell_type": "code",
   "execution_count": null,
   "metadata": {},
   "outputs": [],
   "source": [
    "df_msft_cleaned['text_clean'] = texts_new "
   ]
  },
  {
   "cell_type": "code",
   "execution_count": null,
   "metadata": {},
   "outputs": [],
   "source": [
    "# lowercase\n",
    "df_msft_cleaned['text_clean'] = df_msft_cleaned['text_clean'].str.lower() "
   ]
  },
  {
   "cell_type": "markdown",
   "metadata": {},
   "source": [
    "# check double cleaned text length"
   ]
  },
  {
   "cell_type": "code",
   "execution_count": null,
   "metadata": {},
   "outputs": [],
   "source": [
    "text_len = []\n",
    "for text in df_msft_cleaned.text_clean:\n",
    "    tweet_len = len(text.split())\n",
    "    text_len.append(tweet_len)"
   ]
  },
  {
   "cell_type": "code",
   "execution_count": null,
   "metadata": {},
   "outputs": [],
   "source": [
    "df_msft_cleaned['text_len'] = text_len"
   ]
  },
  {
   "cell_type": "code",
   "execution_count": null,
   "metadata": {},
   "outputs": [],
   "source": [
    "plt.figure(figsize=(20,8))\n",
    "sns.histplot(x='text_len', data=df_msft_cleaned, bins=50)\n",
    "plt.title('Double Cleaned Text Length')\n",
    "plt.show()"
   ]
  },
  {
   "cell_type": "code",
   "execution_count": null,
   "metadata": {},
   "outputs": [],
   "source": [
    "plt.figure(figsize=(7,5))\n",
    "ax = sns.countplot(x='text_len', data=df_msft_cleaned[df_msft_cleaned['text_len'] < 10], palette='mako')\n",
    "plt.title('Tweets with less than 10 words')\n",
    "plt.yticks([])\n",
    "ax.bar_label(ax.containers[0])\n",
    "plt.ylabel('count')\n",
    "plt.xlabel('')\n",
    "plt.show()"
   ]
  },
  {
   "cell_type": "markdown",
   "metadata": {},
   "source": [
    "# Vader Sentiment Analysis with double cleaned text"
   ]
  },
  {
   "cell_type": "code",
   "execution_count": null,
   "metadata": {},
   "outputs": [],
   "source": [
    "sentiment_vader = SentimentIntensityAnalyzer()"
   ]
  },
  {
   "cell_type": "code",
   "execution_count": null,
   "metadata": {},
   "outputs": [],
   "source": [
    "sentiments = []\n",
    "for tweet in df_msft_cleaned.text:\n",
    "    sentiment_dict = sentiment_vader.polarity_scores(tweet)\n",
    "    sentiment_dict.pop('compound', None)\n",
    "    sentiments.append(max(sentiment_dict , key=sentiment_dict.get))"
   ]
  },
  {
   "cell_type": "code",
   "execution_count": null,
   "metadata": {},
   "outputs": [],
   "source": [
    "df_msft_cleaned['sentiment_vader'] = sentiments\n",
    "df_msft_cleaned['sentiment_vader'].value_counts()"
   ]
  },
  {
   "cell_type": "code",
   "execution_count": null,
   "metadata": {},
   "outputs": [],
   "source": [
    "df_msft_cleaned"
   ]
  },
  {
   "cell_type": "markdown",
   "metadata": {},
   "source": [
    "# NLTK Sentiment Analysis"
   ]
  },
  {
   "cell_type": "code",
   "execution_count": null,
   "metadata": {},
   "outputs": [],
   "source": [
    "sentiment_nltk = SentimentIntensityAnalyzer()"
   ]
  },
  {
   "cell_type": "code",
   "execution_count": null,
   "metadata": {},
   "outputs": [],
   "source": [
    "sentiments_nltk = []\n",
    "for tweet in df_msft_cleaned.text_clean:\n",
    "    sentiment_dict = sentiment_nltk.polarity_scores(tweet)\n",
    "    sentiment_dict.pop('compound', None)\n",
    "    sentiments_nltk.append(max(sentiment_dict , key=sentiment_dict.get))"
   ]
  },
  {
   "cell_type": "code",
   "execution_count": null,
   "metadata": {},
   "outputs": [],
   "source": [
    "df_msft_cleaned['sentiment_nltk'] = sentiments_nltk\n",
    "df_msft_cleaned['sentiment_nltk'].value_counts()"
   ]
  },
  {
   "cell_type": "markdown",
   "metadata": {},
   "source": [
    "# Flair Sentiment Analysis"
   ]
  },
  {
   "cell_type": "code",
   "execution_count": null,
   "metadata": {},
   "outputs": [],
   "source": [
    "# this takes a long time to load, enjoy a drink\n",
    "flair = TextClassifier.load('sentiment-fast');"
   ]
  },
  {
   "cell_type": "code",
   "execution_count": null,
   "metadata": {},
   "outputs": [],
   "source": [
    "def emotion_threshold(emo, val):\n",
    "    if (emo =='POSITIVE') & (val >= 0.7): #outputs 'pos' if positive confidence > 70%\n",
    "        return 'pos'\n",
    "    elif(emo =='NEGATIVE') & (val >= 0.7): #outputs 'neg' if negative confidence > 70%\n",
    "        return 'neg'\n",
    "    else:\n",
    "        return 'neu' #else outputs neutral emotion"
   ]
  },
  {
   "cell_type": "code",
   "execution_count": null,
   "metadata": {},
   "outputs": [],
   "source": [
    "sentiments_flair = []\n",
    "for tweet in df_msft_cleaned.text_clean:\n",
    "    sentence = Sentence(tweet)\n",
    "    flair.predict(sentence)\n",
    "    emo = re.findall(r\"([A-Z]\\w+)\",str(sentence.labels))[0] #extract the emotion\n",
    "    val = float(re.findall(r\"([+-]?[0-9]*[.]?[0-9]+)\",str(sentence.labels))[0]) #extract the confidence value for the emotion\n",
    "    sentiments_flair.append(emotion_threshold(emo,val))"
   ]
  },
  {
   "cell_type": "code",
   "execution_count": null,
   "metadata": {},
   "outputs": [],
   "source": [
    "df_msft_cleaned['sentiment_flair'] = sentiments_flair\n",
    "df_msft_cleaned['sentiment_flair'].value_counts()"
   ]
  },
  {
   "cell_type": "markdown",
   "metadata": {},
   "source": [
    "# Text Blob Sentiment Analysis"
   ]
  },
  {
   "cell_type": "code",
   "execution_count": null,
   "metadata": {},
   "outputs": [],
   "source": [
    "def polarity_to_text(blob):\n",
    "    if (blob.sentiment.polarity > 0.1):\n",
    "        return 'pos'\n",
    "    elif(blob.sentiment.polarity <= 0.1 and  blob.sentiment.polarity >= -0.05):\n",
    "        return 'neu'\n",
    "    else:\n",
    "        return 'neg'"
   ]
  },
  {
   "cell_type": "code",
   "execution_count": null,
   "metadata": {},
   "outputs": [],
   "source": [
    "sentiments_blob = []\n",
    "for tweet in df_msft_cleaned.text_clean:\n",
    "    blob = TextBlob(tweet)\n",
    "    sentiments_blob.append(polarity_to_text(blob))"
   ]
  },
  {
   "cell_type": "code",
   "execution_count": null,
   "metadata": {},
   "outputs": [],
   "source": [
    "df_msft_cleaned['sentiment_blob'] = sentiments_blob\n",
    "df_msft_cleaned['sentiment_blob'].value_counts()"
   ]
  },
  {
   "cell_type": "markdown",
   "metadata": {},
   "source": [
    "# Wordclouds wit positive words comparing the different Analyses "
   ]
  },
  {
   "cell_type": "code",
   "execution_count": null,
   "metadata": {},
   "outputs": [],
   "source": [
    "df_msft_cleaned"
   ]
  },
  {
   "cell_type": "code",
   "execution_count": null,
   "metadata": {},
   "outputs": [],
   "source": [
    "texts_vader_pos = \" \".join(sentiment for sentiment in df_msft_cleaned[df_msft_cleaned['sentiment_vader']=='pos']['text_clean'])\n",
    "texts_nltk_pos = \" \".join(sentiment for sentiment in df_msft_cleaned[df_msft_cleaned['sentiment_nltk']=='pos']['text_clean'])\n",
    "texts_flair_pos = \" \".join(sentiment for sentiment in df_msft_cleaned[df_msft_cleaned['sentiment_flair']=='pos']['text_clean'])\n",
    "texts_blob_pos = \" \".join(sentiment for sentiment in df_msft_cleaned[df_msft_cleaned['sentiment_blob']=='pos']['text_clean'])"
   ]
  },
  {
   "cell_type": "code",
   "execution_count": null,
   "metadata": {},
   "outputs": [],
   "source": [
    "# vader\n",
    "wordcloud_vader_pos = WordCloud(width=800,\n",
    "                      height=400,\n",
    "                      max_font_size=200,\n",
    "                      max_words=50,\n",
    "                      collocations=False,\n",
    "                      background_color='black').generate(texts_vader_pos)"
   ]
  },
  {
   "cell_type": "code",
   "execution_count": null,
   "metadata": {},
   "outputs": [],
   "source": [
    "# nltk\n",
    "wordcloud_nltk_pos = WordCloud(width=800,\n",
    "                      height=400,\n",
    "                      max_font_size=200,\n",
    "                      max_words=50,\n",
    "                      collocations=False,\n",
    "                      background_color='black').generate(texts_nltk_pos)"
   ]
  },
  {
   "cell_type": "code",
   "execution_count": null,
   "metadata": {},
   "outputs": [],
   "source": [
    "# flair\n",
    "wordcloud_flair_pos = WordCloud(width=800,\n",
    "                      height=400,\n",
    "                      max_font_size=200,\n",
    "                      max_words=50,\n",
    "                      collocations=False,\n",
    "                      background_color='black').generate(texts_flair_pos)"
   ]
  },
  {
   "cell_type": "code",
   "execution_count": null,
   "metadata": {},
   "outputs": [],
   "source": [
    "# text blob\n",
    "wordcloud_blob_pos = WordCloud(width=800,\n",
    "                      height=400,\n",
    "                      max_font_size=200,\n",
    "                      max_words=50,\n",
    "                      collocations=False,\n",
    "                      background_color='black').generate(texts_blob_pos)"
   ]
  },
  {
   "cell_type": "markdown",
   "metadata": {},
   "source": [
    "# Plot all sentiment analyses "
   ]
  },
  {
   "cell_type": "code",
   "execution_count": null,
   "metadata": {},
   "outputs": [],
   "source": [
    "fig, ax = plt.subplots(2,2, figsize=(15,8))\n",
    "plt.suptitle('WORDCLOUD FOR POSITIVE TWEETS', fontsize=30)\n",
    "\n",
    "ax[0,0].imshow(wordcloud_vader_pos, interpolation=\"bilinear\")\n",
    "ax[0,0].axis(\"off\")\n",
    "ax[0,0].set_title('VADER')\n",
    "\n",
    "ax[0,1].imshow(wordcloud_nltk_pos, interpolation=\"bilinear\")\n",
    "ax[0,1].axis(\"off\")\n",
    "ax[0,1].set_title('NLTK')\n",
    "\n",
    "ax[1,1].imshow(wordcloud_flair_pos, interpolation=\"bilinear\")\n",
    "ax[1,1].axis(\"off\")\n",
    "ax[1,1].set_title('FLAIR')\n",
    "\n",
    "ax[1,0].imshow(wordcloud_blob_pos, interpolation=\"bilinear\")\n",
    "ax[1,0].axis(\"off\")\n",
    "ax[1,0].set_title('TEXT BLOB')\n",
    "\n",
    "plt.tight_layout()\n",
    "plt.show()"
   ]
  },
  {
   "cell_type": "markdown",
   "metadata": {},
   "source": [
    "# Top 10 sentences for each sentiment analysis form"
   ]
  },
  {
   "cell_type": "code",
   "execution_count": null,
   "metadata": {},
   "outputs": [],
   "source": [
    "# vader\n",
    "df_msft_cleaned.text_clean[df_msft_cleaned['sentiment_vader']=='pos'].sample(10).values"
   ]
  },
  {
   "cell_type": "code",
   "execution_count": null,
   "metadata": {},
   "outputs": [],
   "source": [
    "# Nltk\n",
    "df_msft_cleaned.text_clean[df_msft_cleaned['sentiment_nltk']=='pos'].sample(10).values"
   ]
  },
  {
   "cell_type": "code",
   "execution_count": null,
   "metadata": {},
   "outputs": [],
   "source": [
    "# Flair\n",
    "df_msft_cleaned.text_clean[df_msft_cleaned['sentiment_flair']=='pos'].sample(10).values"
   ]
  },
  {
   "cell_type": "code",
   "execution_count": null,
   "metadata": {},
   "outputs": [],
   "source": [
    "# text blob\n",
    "df_msft_cleaned.text_clean[df_msft_cleaned['sentiment_blob']=='pos'].sample(10).values"
   ]
  },
  {
   "cell_type": "markdown",
   "metadata": {},
   "source": [
    "# Tweets and Retweets Analysis"
   ]
  },
  {
   "cell_type": "code",
   "execution_count": null,
   "metadata": {},
   "outputs": [],
   "source": [
    "# top 15\n",
    "favourite_tweets = df_msft_cleaned[['text','favourite_count','sentiment_vader','sentiment_nltk','sentiment_blob','sentiment_flair']].sort_values('favourite_count', ascending=False)\n",
    "favourite_tweets.iloc[:15]"
   ]
  },
  {
   "cell_type": "code",
   "execution_count": null,
   "metadata": {},
   "outputs": [],
   "source": [
    "# top 15\n",
    "retweets = df_msft_cleaned[['text','retweet_count','sentiment_vader','sentiment_nltk','sentiment_blob','sentiment_flair']].sort_values('retweet_count', ascending=False)\n",
    "retweets.iloc[:15]"
   ]
  },
  {
   "cell_type": "code",
   "execution_count": null,
   "metadata": {},
   "outputs": [],
   "source": [
    "#save cleaned df to csv\n",
    "df_msft_cleaned.to_csv('Microsoft_Twitter_Cleaned.csv')"
   ]
  },
  {
   "cell_type": "code",
   "execution_count": null,
   "metadata": {},
   "outputs": [],
   "source": [
    "df_msft_cleaned"
   ]
  },
  {
   "cell_type": "code",
   "execution_count": null,
   "metadata": {},
   "outputs": [],
   "source": [
    "df_msft_cleaned.dtypes"
   ]
  },
  {
   "cell_type": "code",
   "execution_count": null,
   "metadata": {},
   "outputs": [],
   "source": [
    "dfs_cleaned = DataFrameSummary(df_msft_cleaned)"
   ]
  },
  {
   "cell_type": "code",
   "execution_count": null,
   "metadata": {},
   "outputs": [],
   "source": [
    "dfs_cleaned.columns_types"
   ]
  },
  {
   "cell_type": "code",
   "execution_count": null,
   "metadata": {},
   "outputs": [],
   "source": [
    "dfs_cleaned.columns_stats"
   ]
  },
  {
   "cell_type": "code",
   "execution_count": null,
   "metadata": {},
   "outputs": [],
   "source": [
    "df_msft_cleaned.columns"
   ]
  },
  {
   "cell_type": "code",
   "execution_count": null,
   "metadata": {},
   "outputs": [],
   "source": [
    "df_msft_cleaned_final = df_msft_cleaned.drop(['Unnamed: 0','tweet_id','name','screen_name','text','mined_at','hashtags','location','source_device','retweet_text','quote_text','quote_screen_name','sentiment','clean_text'], axis = 1)"
   ]
  },
  {
   "cell_type": "code",
   "execution_count": null,
   "metadata": {},
   "outputs": [],
   "source": [
    "df_msft_cleaned_final"
   ]
  },
  {
   "cell_type": "code",
   "execution_count": null,
   "metadata": {},
   "outputs": [],
   "source": [
    "#save cleaned final df to csv\n",
    "df_msft_cleaned_final.to_csv('Microsoft_Twitter_Cleaned_Final.csv')"
   ]
  },
  {
   "cell_type": "code",
   "execution_count": null,
   "metadata": {},
   "outputs": [],
   "source": [
    "# convert categorical values to numerical\n",
    "categorical_sentiment = df_msft_cleaned_final[['sentiment_vader','sentiment_nltk','sentiment_flair','sentiment_blob']]"
   ]
  },
  {
   "cell_type": "code",
   "execution_count": null,
   "metadata": {},
   "outputs": [],
   "source": [
    "categorical_sentiment"
   ]
  },
  {
   "cell_type": "code",
   "execution_count": null,
   "metadata": {},
   "outputs": [],
   "source": [
    "x = {'pos':1,'neg':-1,'neu':0}\n",
    "categorical_sentiment['sentiment_vader'] = categorical_sentiment['sentiment_vader'].map(x).fillna(categorical_sentiment['sentiment_vader'])\n",
    "categorical_sentiment['sentiment_nltk'] = categorical_sentiment['sentiment_nltk'].map(x).fillna(categorical_sentiment['sentiment_nltk'])\n",
    "categorical_sentiment['sentiment_flair'] = categorical_sentiment['sentiment_flair'].map(x).fillna(categorical_sentiment['sentiment_flair'])\n",
    "categorical_sentiment['sentiment_blob'] = categorical_sentiment['sentiment_blob'].map(x).fillna(categorical_sentiment['sentiment_blob'])"
   ]
  },
  {
   "cell_type": "code",
   "execution_count": null,
   "metadata": {},
   "outputs": [],
   "source": [
    "categorical_sentiment.info()"
   ]
  },
  {
   "cell_type": "code",
   "execution_count": null,
   "metadata": {},
   "outputs": [],
   "source": [
    "categorical_sentiment = categorical_sentiment.astype(int)"
   ]
  },
  {
   "cell_type": "code",
   "execution_count": null,
   "metadata": {},
   "outputs": [],
   "source": [
    "categorical_sentiment.info()"
   ]
  },
  {
   "cell_type": "code",
   "execution_count": null,
   "metadata": {},
   "outputs": [],
   "source": [
    "df__msft_cleaned_num = df_msft_cleaned_final[['created_at','retweet_count','favourite_count','status_count','text_len']]\n",
    "df__msft_cleaned_num"
   ]
  },
  {
   "cell_type": "code",
   "execution_count": null,
   "metadata": {},
   "outputs": [],
   "source": [
    "df__msft_cleaned_num_sentiment = pd.concat([df__msft_cleaned_num,categorical_sentiment], axis = 1, join = 'inner')"
   ]
  },
  {
   "cell_type": "code",
   "execution_count": null,
   "metadata": {},
   "outputs": [],
   "source": [
    "df__msft_cleaned_num_sentiment.set_index('created_at')\n",
    "df__msft_cleaned_num_sentiment"
   ]
  },
  {
   "cell_type": "code",
   "execution_count": null,
   "metadata": {},
   "outputs": [],
   "source": [
    "df__msft_cleaned_num_sentiment = df__msft_cleaned_num_sentiment.drop('status_count', axis =1)"
   ]
  },
  {
   "cell_type": "code",
   "execution_count": null,
   "metadata": {},
   "outputs": [],
   "source": [
    "df__msft_cleaned_num_sentiment"
   ]
  },
  {
   "cell_type": "code",
   "execution_count": null,
   "metadata": {},
   "outputs": [],
   "source": [
    "#save cleaned num sentiment df to csv\n",
    "df__msft_cleaned_num_sentiment.to_csv('Microsoft_Twitter_Cleaned_Num_Sentiment.csv')"
   ]
  },
  {
   "cell_type": "markdown",
   "metadata": {},
   "source": [
    "# Panel"
   ]
  },
  {
   "cell_type": "code",
   "execution_count": null,
   "metadata": {},
   "outputs": [],
   "source": [
    "# for VS code install jupiter_bokeh and enable the extension pn.extension(comms='vscode')\n",
    "#!pip install jupyter_bokeh\n",
    "# pn.extension(comms='vscode')"
   ]
  },
  {
   "cell_type": "code",
   "execution_count": 2,
   "metadata": {},
   "outputs": [],
   "source": [
    "import matplotlib.pyplot as plt\n",
    "from matplotlib.figure import Figure\n",
    "from matplotlib.backends.backend_agg import FigureCanvas\n",
    "%matplotlib inline"
   ]
  },
  {
   "cell_type": "code",
   "execution_count": 4,
   "metadata": {},
   "outputs": [
    {
     "data": {
      "text/html": [
       "<div><div id=eed6e5d3-a020-43b2-a24a-be3c499fa305 style=\"display:none; background-color:#9D6CFF; color:white; width:200px; height:30px; padding-left:5px; border-radius:4px; flex-direction:row; justify-content:space-around; align-items:center;\" onmouseover=\"this.style.backgroundColor='#BA9BF8'\" onmouseout=\"this.style.backgroundColor='#9D6CFF'\" onclick=\"window.commands?.execute('create-mitosheet-from-dataframe-output');\">See Full Dataframe in Mito</div> <script> if (window.commands.hasCommand('create-mitosheet-from-dataframe-output')) document.getElementById('eed6e5d3-a020-43b2-a24a-be3c499fa305').style.display = 'flex' </script> <table border=\"1\" class=\"dataframe\">\n",
       "  <thead>\n",
       "    <tr style=\"text-align: right;\">\n",
       "      <th></th>\n",
       "      <th>created_at</th>\n",
       "      <th>retweet_count</th>\n",
       "      <th>favourite_count</th>\n",
       "      <th>text_len</th>\n",
       "      <th>sentiment_vader</th>\n",
       "      <th>sentiment_nltk</th>\n",
       "      <th>sentiment_flair</th>\n",
       "      <th>sentiment_blob</th>\n",
       "    </tr>\n",
       "  </thead>\n",
       "  <tbody>\n",
       "    <tr>\n",
       "      <th>0</th>\n",
       "      <td>2021-06-23 15:38:48</td>\n",
       "      <td>938</td>\n",
       "      <td>0</td>\n",
       "      <td>15</td>\n",
       "      <td>0</td>\n",
       "      <td>0</td>\n",
       "      <td>1</td>\n",
       "      <td>1</td>\n",
       "    </tr>\n",
       "    <tr>\n",
       "      <th>1</th>\n",
       "      <td>2021-06-23 16:03:00</td>\n",
       "      <td>128</td>\n",
       "      <td>1572</td>\n",
       "      <td>15</td>\n",
       "      <td>0</td>\n",
       "      <td>0</td>\n",
       "      <td>0</td>\n",
       "      <td>0</td>\n",
       "    </tr>\n",
       "    <tr>\n",
       "      <th>2</th>\n",
       "      <td>2021-06-23 16:42:47</td>\n",
       "      <td>22</td>\n",
       "      <td>0</td>\n",
       "      <td>18</td>\n",
       "      <td>0</td>\n",
       "      <td>0</td>\n",
       "      <td>1</td>\n",
       "      <td>0</td>\n",
       "    </tr>\n",
       "    <tr>\n",
       "      <th>3</th>\n",
       "      <td>2021-06-23 17:20:09</td>\n",
       "      <td>37</td>\n",
       "      <td>150</td>\n",
       "      <td>29</td>\n",
       "      <td>0</td>\n",
       "      <td>0</td>\n",
       "      <td>1</td>\n",
       "      <td>0</td>\n",
       "    </tr>\n",
       "    <tr>\n",
       "      <th>4</th>\n",
       "      <td>2021-06-23 17:20:09</td>\n",
       "      <td>17</td>\n",
       "      <td>116</td>\n",
       "      <td>16</td>\n",
       "      <td>0</td>\n",
       "      <td>0</td>\n",
       "      <td>1</td>\n",
       "      <td>1</td>\n",
       "    </tr>\n",
       "    <tr>\n",
       "      <th>...</th>\n",
       "      <td>...</td>\n",
       "      <td>...</td>\n",
       "      <td>...</td>\n",
       "      <td>...</td>\n",
       "      <td>...</td>\n",
       "      <td>...</td>\n",
       "      <td>...</td>\n",
       "      <td>...</td>\n",
       "    </tr>\n",
       "    <tr>\n",
       "      <th>2087</th>\n",
       "      <td>2022-02-18 00:02:37</td>\n",
       "      <td>1</td>\n",
       "      <td>11</td>\n",
       "      <td>6</td>\n",
       "      <td>1</td>\n",
       "      <td>1</td>\n",
       "      <td>1</td>\n",
       "      <td>1</td>\n",
       "    </tr>\n",
       "    <tr>\n",
       "      <th>2088</th>\n",
       "      <td>2022-02-18 00:03:06</td>\n",
       "      <td>0</td>\n",
       "      <td>5</td>\n",
       "      <td>5</td>\n",
       "      <td>0</td>\n",
       "      <td>0</td>\n",
       "      <td>-1</td>\n",
       "      <td>1</td>\n",
       "    </tr>\n",
       "    <tr>\n",
       "      <th>2089</th>\n",
       "      <td>2022-02-23 20:28:00</td>\n",
       "      <td>21</td>\n",
       "      <td>150</td>\n",
       "      <td>12</td>\n",
       "      <td>0</td>\n",
       "      <td>0</td>\n",
       "      <td>1</td>\n",
       "      <td>0</td>\n",
       "    </tr>\n",
       "    <tr>\n",
       "      <th>2090</th>\n",
       "      <td>2022-02-23 21:45:02</td>\n",
       "      <td>58</td>\n",
       "      <td>301</td>\n",
       "      <td>13</td>\n",
       "      <td>0</td>\n",
       "      <td>0</td>\n",
       "      <td>1</td>\n",
       "      <td>0</td>\n",
       "    </tr>\n",
       "    <tr>\n",
       "      <th>2091</th>\n",
       "      <td>2022-02-23 21:45:03</td>\n",
       "      <td>18</td>\n",
       "      <td>123</td>\n",
       "      <td>6</td>\n",
       "      <td>0</td>\n",
       "      <td>0</td>\n",
       "      <td>1</td>\n",
       "      <td>0</td>\n",
       "    </tr>\n",
       "  </tbody>\n",
       "</table></div>"
      ],
      "text/plain": [
       "              created_at  retweet_count  favourite_count  text_len  \\\n",
       "0    2021-06-23 15:38:48            938                0        15   \n",
       "1    2021-06-23 16:03:00            128             1572        15   \n",
       "2    2021-06-23 16:42:47             22                0        18   \n",
       "3    2021-06-23 17:20:09             37              150        29   \n",
       "4    2021-06-23 17:20:09             17              116        16   \n",
       "...                  ...            ...              ...       ...   \n",
       "2087 2022-02-18 00:02:37              1               11         6   \n",
       "2088 2022-02-18 00:03:06              0                5         5   \n",
       "2089 2022-02-23 20:28:00             21              150        12   \n",
       "2090 2022-02-23 21:45:02             58              301        13   \n",
       "2091 2022-02-23 21:45:03             18              123         6   \n",
       "\n",
       "      sentiment_vader  sentiment_nltk  sentiment_flair  sentiment_blob  \n",
       "0                   0               0                1               1  \n",
       "1                   0               0                0               0  \n",
       "2                   0               0                1               0  \n",
       "3                   0               0                1               0  \n",
       "4                   0               0                1               1  \n",
       "...               ...             ...              ...             ...  \n",
       "2087                1               1                1               1  \n",
       "2088                0               0               -1               1  \n",
       "2089                0               0                1               0  \n",
       "2090                0               0                1               0  \n",
       "2091                0               0                1               0  \n",
       "\n",
       "[2092 rows x 8 columns]"
      ]
     },
     "execution_count": 4,
     "metadata": {},
     "output_type": "execute_result"
    }
   ],
   "source": [
    "data = pd.read_csv('MSFT_MitoExport.csv')\n",
    "data['created_at'] = data.created_at.astype('datetime64[ns]')\n",
    "data"
   ]
  },
  {
   "cell_type": "code",
   "execution_count": null,
   "metadata": {},
   "outputs": [],
   "source": [
    "#data = data.drop('Unnamed: 0', axis =1)"
   ]
  },
  {
   "cell_type": "code",
   "execution_count": null,
   "metadata": {},
   "outputs": [],
   "source": [
    "#data"
   ]
  },
  {
   "cell_type": "code",
   "execution_count": 5,
   "metadata": {},
   "outputs": [],
   "source": [
    "#plot function\n",
    "def mpl_plot(avg, highlight):\n",
    "    fig = Figure()\n",
    "    FigureCanvas(fig) \n",
    "    ax = fig.add_subplot()\n",
    "    avg.plot(ax=ax)\n",
    "    if len(highlight): highlight.plot(style='o', ax=ax)\n",
    "    return fig"
   ]
  },
  {
   "cell_type": "code",
   "execution_count": 8,
   "metadata": {},
   "outputs": [],
   "source": [
    "#outlier function\n",
    "import numpy as np\n",
    "def find_outliers(variable='favourite_count', window=50, sigma=10, view_fn=mpl_plot):\n",
    "    avg = data[variable].rolling(window=window).mean()\n",
    "    residual = data[variable] - avg\n",
    "    std = residual.rolling(window=window).std()\n",
    "    outliers = (np.abs(residual) > std * sigma)\n",
    "    return view_fn(avg, avg[outliers])"
   ]
  },
  {
   "cell_type": "code",
   "execution_count": 9,
   "metadata": {},
   "outputs": [
    {
     "data": {
      "image/png": "[encoded data removed]",
      "text/plain": [
       "<Figure size 432x288 with 1 Axes>"
      ]
     },
     "execution_count": 9,
     "metadata": {},
     "output_type": "execute_result"
    }
   ],
   "source": [
    "find_outliers(variable='favourite_count', window=50, sigma=10)"
   ]
  },
  {
   "cell_type": "code",
   "execution_count": 10,
   "metadata": {},
   "outputs": [
    {
     "data": {
      "application/javascript": [
       "\n",
       "(function(root) {\n",
       "  function now() {\n",
       "    return new Date();\n",
       "  }\n",
       "\n",
       "  var force = true;\n",
       "\n",
       "  if (typeof root._bokeh_onload_callbacks === \"undefined\" || force === true) {\n",
       "    root._bokeh_onload_callbacks = [];\n",
       "    root._bokeh_is_loading = undefined;\n",
       "  }\n",
       "\n",
       "  if (typeof (root._bokeh_timeout) === \"undefined\" || force === true) {\n",
       "    root._bokeh_timeout = Date.now() + 5000;\n",
       "    root._bokeh_failed_load = false;\n",
       "  }\n",
       "\n",
       "  function run_callbacks() {\n",
       "    try {\n",
       "      root._bokeh_onload_callbacks.forEach(function(callback) {\n",
       "        if (callback != null)\n",
       "          callback();\n",
       "      });\n",
       "    } finally {\n",
       "      delete root._bokeh_onload_callbacks\n",
       "    }\n",
       "    console.debug(\"Bokeh: all callbacks have finished\");\n",
       "  }\n",
       "\n",
       "  function load_libs(css_urls, js_urls, js_modules, callback) {\n",
       "    if (css_urls == null) css_urls = [];\n",
       "    if (js_urls == null) js_urls = [];\n",
       "    if (js_modules == null) js_modules = [];\n",
       "\n",
       "    root._bokeh_onload_callbacks.push(callback);\n",
       "    if (root._bokeh_is_loading > 0) {\n",
       "      console.debug(\"Bokeh: BokehJS is being loaded, scheduling callback at\", now());\n",
       "      return null;\n",
       "    }\n",
       "    if (js_urls.length === 0 && js_modules.length === 0) {\n",
       "      run_callbacks();\n",
       "      return null;\n",
       "    }\n",
       "    console.debug(\"Bokeh: BokehJS not loaded, scheduling load and callback at\", now());\n",
       "\n",
       "    function on_load() {\n",
       "      root._bokeh_is_loading--;\n",
       "      if (root._bokeh_is_loading === 0) {\n",
       "        console.debug(\"Bokeh: all BokehJS libraries/stylesheets loaded\");\n",
       "        run_callbacks()\n",
       "      }\n",
       "    }\n",
       "\n",
       "    function on_error() {\n",
       "      console.error(\"failed to load \" + url);\n",
       "    }\n",
       "\n",
       "    for (var i = 0; i < css_urls.length; i++) {\n",
       "      var url = css_urls[i];\n",
       "      const element = document.createElement(\"link\");\n",
       "      element.onload = on_load;\n",
       "      element.onerror = on_error;\n",
       "      element.rel = \"stylesheet\";\n",
       "      element.type = \"text/css\";\n",
       "      element.href = url;\n",
       "      console.debug(\"Bokeh: injecting link tag for BokehJS stylesheet: \", url);\n",
       "      document.body.appendChild(element);\n",
       "    }\n",
       "\n",
       "    var skip = [];\n",
       "    if (window.requirejs) {\n",
       "      window.requirejs.config({'packages': {}, 'paths': {}, 'shim': {}});\n",
       "      \n",
       "      root._bokeh_is_loading = css_urls.length + 0;\n",
       "    } else {\n",
       "      root._bokeh_is_loading = css_urls.length + js_urls.length + js_modules.length;\n",
       "    }\n",
       "    for (var i = 0; i < js_urls.length; i++) {\n",
       "      var url = js_urls[i];\n",
       "      if (skip.indexOf(url) >= 0) {\n",
       "\tif (!window.requirejs) {\n",
       "\t  on_load();\n",
       "\t}\n",
       "\tcontinue;\n",
       "      }\n",
       "      var element = document.createElement('script');\n",
       "      element.onload = on_load;\n",
       "      element.onerror = on_error;\n",
       "      element.async = false;\n",
       "      element.src = url;\n",
       "      console.debug(\"Bokeh: injecting script tag for BokehJS library: \", url);\n",
       "      document.head.appendChild(element);\n",
       "    }\n",
       "    for (var i = 0; i < js_modules.length; i++) {\n",
       "      var url = js_modules[i];\n",
       "      if (skip.indexOf(url) >= 0) {\n",
       "\tif (!window.requirejs) {\n",
       "\t  on_load();\n",
       "\t}\n",
       "\tcontinue;\n",
       "      }\n",
       "      var element = document.createElement('script');\n",
       "      element.onload = on_load;\n",
       "      element.onerror = on_error;\n",
       "      element.async = false;\n",
       "      element.src = url;\n",
       "      element.type = \"module\";\n",
       "      console.debug(\"Bokeh: injecting script tag for BokehJS library: \", url);\n",
       "      document.head.appendChild(element);\n",
       "    }\n",
       "    if (!js_urls.length && !js_modules.length) {\n",
       "      on_load()\n",
       "    }\n",
       "  };\n",
       "\n",
       "  function inject_raw_css(css) {\n",
       "    const element = document.createElement(\"style\");\n",
       "    element.appendChild(document.createTextNode(css));\n",
       "    document.body.appendChild(element);\n",
       "  }\n",
       "\n",
       "  var js_urls = [\"https://cdn.bokeh.org/bokeh/release/bokeh-2.4.2.min.js\", \"https://cdn.bokeh.org/bokeh/release/bokeh-gl-2.4.2.min.js\", \"https://cdn.bokeh.org/bokeh/release/bokeh-widgets-2.4.2.min.js\", \"https://cdn.bokeh.org/bokeh/release/bokeh-tables-2.4.2.min.js\", \"https://cdn.bokeh.org/bokeh/release/bokeh-mathjax-2.4.2.min.js\", \"https://unpkg.com/@holoviz/panel@0.12.6/dist/panel.min.js\"];\n",
       "  var js_modules = [];\n",
       "  var css_urls = [\"https://unpkg.com/@holoviz/panel@0.12.6/dist/css/alerts.css\", \"https://unpkg.com/@holoviz/panel@0.12.6/dist/css/card.css\", \"https://unpkg.com/@holoviz/panel@0.12.6/dist/css/dataframe.css\", \"https://unpkg.com/@holoviz/panel@0.12.6/dist/css/json.css\", \"https://unpkg.com/@holoviz/panel@0.12.6/dist/css/loading.css\", \"https://unpkg.com/@holoviz/panel@0.12.6/dist/css/markdown.css\", \"https://unpkg.com/@holoviz/panel@0.12.6/dist/css/widgets.css\"];\n",
       "  var inline_js = [\n",
       "    function(Bokeh) {\n",
       "      inject_raw_css(\"\\n    .bk.pn-loading.arcs:before {\\n      background-image: url(\\\"data:image/svg+xml;base64,PHN2ZyB4bWxucz0iaHR0cDovL3d3dy53My5vcmcvMjAwMC9zdmciIHhtbG5zOnhsaW5rPSJodHRwOi8vd3d3LnczLm9yZy8xOTk5L3hsaW5rIiBzdHlsZT0ibWFyZ2luOiBhdXRvOyBiYWNrZ3JvdW5kOiBub25lOyBkaXNwbGF5OiBibG9jazsgc2hhcGUtcmVuZGVyaW5nOiBhdXRvOyIgdmlld0JveD0iMCAwIDEwMCAxMDAiIHByZXNlcnZlQXNwZWN0UmF0aW89InhNaWRZTWlkIj4gIDxjaXJjbGUgY3g9IjUwIiBjeT0iNTAiIHI9IjMyIiBzdHJva2Utd2lkdGg9IjgiIHN0cm9rZT0iI2MzYzNjMyIgc3Ryb2tlLWRhc2hhcnJheT0iNTAuMjY1NDgyNDU3NDM2NjkgNTAuMjY1NDgyNDU3NDM2NjkiIGZpbGw9Im5vbmUiIHN0cm9rZS1saW5lY2FwPSJyb3VuZCI+ICAgIDxhbmltYXRlVHJhbnNmb3JtIGF0dHJpYnV0ZU5hbWU9InRyYW5zZm9ybSIgdHlwZT0icm90YXRlIiByZXBlYXRDb3VudD0iaW5kZWZpbml0ZSIgZHVyPSIxcyIga2V5VGltZXM9IjA7MSIgdmFsdWVzPSIwIDUwIDUwOzM2MCA1MCA1MCI+PC9hbmltYXRlVHJhbnNmb3JtPiAgPC9jaXJjbGU+PC9zdmc+\\\");\\n      max-height: 400px;\\n    }\\n    \");\n",
       "    },\n",
       "    function(Bokeh) {\n",
       "      Bokeh.set_log_level(\"info\");\n",
       "    },\n",
       "    function(Bokeh) {} // ensure no trailing comma for IE\n",
       "  ];\n",
       "\n",
       "  function run_inline_js() {\n",
       "    if ((root.Bokeh !== undefined) || (force === true)) {\n",
       "      for (var i = 0; i < inline_js.length; i++) {\n",
       "        inline_js[i].call(root, root.Bokeh);\n",
       "      }} else if (Date.now() < root._bokeh_timeout) {\n",
       "      setTimeout(run_inline_js, 100);\n",
       "    } else if (!root._bokeh_failed_load) {\n",
       "      console.log(\"Bokeh: BokehJS failed to load within specified timeout.\");\n",
       "      root._bokeh_failed_load = true;\n",
       "    }\n",
       "  }\n",
       "\n",
       "  if (root._bokeh_is_loading === 0) {\n",
       "    console.debug(\"Bokeh: BokehJS loaded, going straight to plotting\");\n",
       "    run_inline_js();\n",
       "  } else {\n",
       "    load_libs(css_urls, js_urls, js_modules, function() {\n",
       "      console.debug(\"Bokeh: BokehJS plotting callback run at\", now());\n",
       "      run_inline_js();\n",
       "    });\n",
       "  }\n",
       "}(window));"
      ],
      "application/vnd.holoviews_load.v0+json": "\n(function(root) {\n  function now() {\n    return new Date();\n  }\n\n  var force = true;\n\n  if (typeof root._bokeh_onload_callbacks === \"undefined\" || force === true) {\n    root._bokeh_onload_callbacks = [];\n    root._bokeh_is_loading = undefined;\n  }\n\n  if (typeof (root._bokeh_timeout) === \"undefined\" || force === true) {\n    root._bokeh_timeout = Date.now() + 5000;\n    root._bokeh_failed_load = false;\n  }\n\n  function run_callbacks() {\n    try {\n      root._bokeh_onload_callbacks.forEach(function(callback) {\n        if (callback != null)\n          callback();\n      });\n    } finally {\n      delete root._bokeh_onload_callbacks\n    }\n    console.debug(\"Bokeh: all callbacks have finished\");\n  }\n\n  function load_libs(css_urls, js_urls, js_modules, callback) {\n    if (css_urls == null) css_urls = [];\n    if (js_urls == null) js_urls = [];\n    if (js_modules == null) js_modules = [];\n\n    root._bokeh_onload_callbacks.push(callback);\n    if (root._bokeh_is_loading > 0) {\n      console.debug(\"Bokeh: BokehJS is being loaded, scheduling callback at\", now());\n      return null;\n    }\n    if (js_urls.length === 0 && js_modules.length === 0) {\n      run_callbacks();\n      return null;\n    }\n    console.debug(\"Bokeh: BokehJS not loaded, scheduling load and callback at\", now());\n\n    function on_load() {\n      root._bokeh_is_loading--;\n      if (root._bokeh_is_loading === 0) {\n        console.debug(\"Bokeh: all BokehJS libraries/stylesheets loaded\");\n        run_callbacks()\n      }\n    }\n\n    function on_error() {\n      console.error(\"failed to load \" + url);\n    }\n\n    for (var i = 0; i < css_urls.length; i++) {\n      var url = css_urls[i];\n      const element = document.createElement(\"link\");\n      element.onload = on_load;\n      element.onerror = on_error;\n      element.rel = \"stylesheet\";\n      element.type = \"text/css\";\n      element.href = url;\n      console.debug(\"Bokeh: injecting link tag for BokehJS stylesheet: \", url);\n      document.body.appendChild(element);\n    }\n\n    var skip = [];\n    if (window.requirejs) {\n      window.requirejs.config({'packages': {}, 'paths': {}, 'shim': {}});\n      \n      root._bokeh_is_loading = css_urls.length + 0;\n    } else {\n      root._bokeh_is_loading = css_urls.length + js_urls.length + js_modules.length;\n    }\n    for (var i = 0; i < js_urls.length; i++) {\n      var url = js_urls[i];\n      if (skip.indexOf(url) >= 0) {\n\tif (!window.requirejs) {\n\t  on_load();\n\t}\n\tcontinue;\n      }\n      var element = document.createElement('script');\n      element.onload = on_load;\n      element.onerror = on_error;\n      element.async = false;\n      element.src = url;\n      console.debug(\"Bokeh: injecting script tag for BokehJS library: \", url);\n      document.head.appendChild(element);\n    }\n    for (var i = 0; i < js_modules.length; i++) {\n      var url = js_modules[i];\n      if (skip.indexOf(url) >= 0) {\n\tif (!window.requirejs) {\n\t  on_load();\n\t}\n\tcontinue;\n      }\n      var element = document.createElement('script');\n      element.onload = on_load;\n      element.onerror = on_error;\n      element.async = false;\n      element.src = url;\n      element.type = \"module\";\n      console.debug(\"Bokeh: injecting script tag for BokehJS library: \", url);\n      document.head.appendChild(element);\n    }\n    if (!js_urls.length && !js_modules.length) {\n      on_load()\n    }\n  };\n\n  function inject_raw_css(css) {\n    const element = document.createElement(\"style\");\n    element.appendChild(document.createTextNode(css));\n    document.body.appendChild(element);\n  }\n\n  var js_urls = [\"https://cdn.bokeh.org/bokeh/release/bokeh-2.4.2.min.js\", \"https://cdn.bokeh.org/bokeh/release/bokeh-gl-2.4.2.min.js\", \"https://cdn.bokeh.org/bokeh/release/bokeh-widgets-2.4.2.min.js\", \"https://cdn.bokeh.org/bokeh/release/bokeh-tables-2.4.2.min.js\", \"https://cdn.bokeh.org/bokeh/release/bokeh-mathjax-2.4.2.min.js\", \"https://unpkg.com/@holoviz/panel@0.12.6/dist/panel.min.js\"];\n  var js_modules = [];\n  var css_urls = [\"https://unpkg.com/@holoviz/panel@0.12.6/dist/css/alerts.css\", \"https://unpkg.com/@holoviz/panel@0.12.6/dist/css/card.css\", \"https://unpkg.com/@holoviz/panel@0.12.6/dist/css/dataframe.css\", \"https://unpkg.com/@holoviz/panel@0.12.6/dist/css/json.css\", \"https://unpkg.com/@holoviz/panel@0.12.6/dist/css/loading.css\", \"https://unpkg.com/@holoviz/panel@0.12.6/dist/css/markdown.css\", \"https://unpkg.com/@holoviz/panel@0.12.6/dist/css/widgets.css\"];\n  var inline_js = [\n    function(Bokeh) {\n      inject_raw_css(\"\\n    .bk.pn-loading.arcs:before {\\n      background-image: url(\\\"data:image/svg+xml;base64,PHN2ZyB4bWxucz0iaHR0cDovL3d3dy53My5vcmcvMjAwMC9zdmciIHhtbG5zOnhsaW5rPSJodHRwOi8vd3d3LnczLm9yZy8xOTk5L3hsaW5rIiBzdHlsZT0ibWFyZ2luOiBhdXRvOyBiYWNrZ3JvdW5kOiBub25lOyBkaXNwbGF5OiBibG9jazsgc2hhcGUtcmVuZGVyaW5nOiBhdXRvOyIgdmlld0JveD0iMCAwIDEwMCAxMDAiIHByZXNlcnZlQXNwZWN0UmF0aW89InhNaWRZTWlkIj4gIDxjaXJjbGUgY3g9IjUwIiBjeT0iNTAiIHI9IjMyIiBzdHJva2Utd2lkdGg9IjgiIHN0cm9rZT0iI2MzYzNjMyIgc3Ryb2tlLWRhc2hhcnJheT0iNTAuMjY1NDgyNDU3NDM2NjkgNTAuMjY1NDgyNDU3NDM2NjkiIGZpbGw9Im5vbmUiIHN0cm9rZS1saW5lY2FwPSJyb3VuZCI+ICAgIDxhbmltYXRlVHJhbnNmb3JtIGF0dHJpYnV0ZU5hbWU9InRyYW5zZm9ybSIgdHlwZT0icm90YXRlIiByZXBlYXRDb3VudD0iaW5kZWZpbml0ZSIgZHVyPSIxcyIga2V5VGltZXM9IjA7MSIgdmFsdWVzPSIwIDUwIDUwOzM2MCA1MCA1MCI+PC9hbmltYXRlVHJhbnNmb3JtPiAgPC9jaXJjbGU+PC9zdmc+\\\");\\n      max-height: 400px;\\n    }\\n    \");\n    },\n    function(Bokeh) {\n      Bokeh.set_log_level(\"info\");\n    },\n    function(Bokeh) {} // ensure no trailing comma for IE\n  ];\n\n  function run_inline_js() {\n    if ((root.Bokeh !== undefined) || (force === true)) {\n      for (var i = 0; i < inline_js.length; i++) {\n        inline_js[i].call(root, root.Bokeh);\n      }} else if (Date.now() < root._bokeh_timeout) {\n      setTimeout(run_inline_js, 100);\n    } else if (!root._bokeh_failed_load) {\n      console.log(\"Bokeh: BokehJS failed to load within specified timeout.\");\n      root._bokeh_failed_load = true;\n    }\n  }\n\n  if (root._bokeh_is_loading === 0) {\n    console.debug(\"Bokeh: BokehJS loaded, going straight to plotting\");\n    run_inline_js();\n  } else {\n    load_libs(css_urls, js_urls, js_modules, function() {\n      console.debug(\"Bokeh: BokehJS plotting callback run at\", now());\n      run_inline_js();\n    });\n  }\n}(window));"
     },
     "metadata": {},
     "output_type": "display_data"
    },
    {
     "data": {
      "application/javascript": [
       "\n",
       "if ((window.PyViz === undefined) || (window.PyViz instanceof HTMLElement)) {\n",
       "  window.PyViz = {comms: {}, comm_status:{}, kernels:{}, receivers: {}, plot_index: []}\n",
       "}\n",
       "\n",
       "\n",
       "    function JupyterCommManager() {\n",
       "    }\n",
       "\n",
       "    JupyterCommManager.prototype.register_target = function(plot_id, comm_id, msg_handler) {\n",
       "      if (window.comm_manager || ((window.Jupyter !== undefined) && (Jupyter.notebook.kernel != null))) {\n",
       "        var comm_manager = window.comm_manager || Jupyter.notebook.kernel.comm_manager;\n",
       "        comm_manager.register_target(comm_id, function(comm) {\n",
       "          comm.on_msg(msg_handler);\n",
       "        });\n",
       "      } else if ((plot_id in window.PyViz.kernels) && (window.PyViz.kernels[plot_id])) {\n",
       "        window.PyViz.kernels[plot_id].registerCommTarget(comm_id, function(comm) {\n",
       "          comm.onMsg = msg_handler;\n",
       "        });\n",
       "      } else if (typeof google != 'undefined' && google.colab.kernel != null) {\n",
       "        google.colab.kernel.comms.registerTarget(comm_id, (comm) => {\n",
       "          var messages = comm.messages[Symbol.asyncIterator]();\n",
       "          function processIteratorResult(result) {\n",
       "            var message = result.value;\n",
       "            console.log(message)\n",
       "            var content = {data: message.data, comm_id};\n",
       "            var buffers = []\n",
       "            for (var buffer of message.buffers || []) {\n",
       "              buffers.push(new DataView(buffer))\n",
       "            }\n",
       "            var metadata = message.metadata || {};\n",
       "            var msg = {content, buffers, metadata}\n",
       "            msg_handler(msg);\n",
       "            return messages.next().then(processIteratorResult);\n",
       "          }\n",
       "          return messages.next().then(processIteratorResult);\n",
       "        })\n",
       "      }\n",
       "    }\n",
       "\n",
       "    JupyterCommManager.prototype.get_client_comm = function(plot_id, comm_id, msg_handler) {\n",
       "      if (comm_id in window.PyViz.comms) {\n",
       "        return window.PyViz.comms[comm_id];\n",
       "      } else if (window.comm_manager || ((window.Jupyter !== undefined) && (Jupyter.notebook.kernel != null))) {\n",
       "        var comm_manager = window.comm_manager || Jupyter.notebook.kernel.comm_manager;\n",
       "        var comm = comm_manager.new_comm(comm_id, {}, {}, {}, comm_id);\n",
       "        if (msg_handler) {\n",
       "          comm.on_msg(msg_handler);\n",
       "        }\n",
       "      } else if ((plot_id in window.PyViz.kernels) && (window.PyViz.kernels[plot_id])) {\n",
       "        var comm = window.PyViz.kernels[plot_id].connectToComm(comm_id);\n",
       "        comm.open();\n",
       "        if (msg_handler) {\n",
       "          comm.onMsg = msg_handler;\n",
       "        }\n",
       "      } else if (typeof google != 'undefined' && google.colab.kernel != null) {\n",
       "        var comm_promise = google.colab.kernel.comms.open(comm_id)\n",
       "        comm_promise.then((comm) => {\n",
       "          window.PyViz.comms[comm_id] = comm;\n",
       "          if (msg_handler) {\n",
       "            var messages = comm.messages[Symbol.asyncIterator]();\n",
       "            function processIteratorResult(result) {\n",
       "              var message = result.value;\n",
       "              var content = {data: message.data};\n",
       "              var metadata = message.metadata || {comm_id};\n",
       "              var msg = {content, metadata}\n",
       "              msg_handler(msg);\n",
       "              return messages.next().then(processIteratorResult);\n",
       "            }\n",
       "            return messages.next().then(processIteratorResult);\n",
       "          }\n",
       "        }) \n",
       "        var sendClosure = (data, metadata, buffers, disposeOnDone) => {\n",
       "          return comm_promise.then((comm) => {\n",
       "            comm.send(data, metadata, buffers, disposeOnDone);\n",
       "          });\n",
       "        };\n",
       "        var comm = {\n",
       "          send: sendClosure\n",
       "        };\n",
       "      }\n",
       "      window.PyViz.comms[comm_id] = comm;\n",
       "      return comm;\n",
       "    }\n",
       "    window.PyViz.comm_manager = new JupyterCommManager();\n",
       "    \n",
       "\n",
       "\n",
       "var JS_MIME_TYPE = 'application/javascript';\n",
       "var HTML_MIME_TYPE = 'text/html';\n",
       "var EXEC_MIME_TYPE = 'application/vnd.holoviews_exec.v0+json';\n",
       "var CLASS_NAME = 'output';\n",
       "\n",
       "/**\n",
       " * Render data to the DOM node\n",
       " */\n",
       "function render(props, node) {\n",
       "  var div = document.createElement(\"div\");\n",
       "  var script = document.createElement(\"script\");\n",
       "  node.appendChild(div);\n",
       "  node.appendChild(script);\n",
       "}\n",
       "\n",
       "/**\n",
       " * Handle when a new output is added\n",
       " */\n",
       "function handle_add_output(event, handle) {\n",
       "  var output_area = handle.output_area;\n",
       "  var output = handle.output;\n",
       "  if ((output.data == undefined) || (!output.data.hasOwnProperty(EXEC_MIME_TYPE))) {\n",
       "    return\n",
       "  }\n",
       "  var id = output.metadata[EXEC_MIME_TYPE][\"id\"];\n",
       "  var toinsert = output_area.element.find(\".\" + CLASS_NAME.split(' ')[0]);\n",
       "  if (id !== undefined) {\n",
       "    var nchildren = toinsert.length;\n",
       "    var html_node = toinsert[nchildren-1].children[0];\n",
       "    html_node.innerHTML = output.data[HTML_MIME_TYPE];\n",
       "    var scripts = [];\n",
       "    var nodelist = html_node.querySelectorAll(\"script\");\n",
       "    for (var i in nodelist) {\n",
       "      if (nodelist.hasOwnProperty(i)) {\n",
       "        scripts.push(nodelist[i])\n",
       "      }\n",
       "    }\n",
       "\n",
       "    scripts.forEach( function (oldScript) {\n",
       "      var newScript = document.createElement(\"script\");\n",
       "      var attrs = [];\n",
       "      var nodemap = oldScript.attributes;\n",
       "      for (var j in nodemap) {\n",
       "        if (nodemap.hasOwnProperty(j)) {\n",
       "          attrs.push(nodemap[j])\n",
       "        }\n",
       "      }\n",
       "      attrs.forEach(function(attr) { newScript.setAttribute(attr.name, attr.value) });\n",
       "      newScript.appendChild(document.createTextNode(oldScript.innerHTML));\n",
       "      oldScript.parentNode.replaceChild(newScript, oldScript);\n",
       "    });\n",
       "    if (JS_MIME_TYPE in output.data) {\n",
       "      toinsert[nchildren-1].children[1].textContent = output.data[JS_MIME_TYPE];\n",
       "    }\n",
       "    output_area._hv_plot_id = id;\n",
       "    if ((window.Bokeh !== undefined) && (id in Bokeh.index)) {\n",
       "      window.PyViz.plot_index[id] = Bokeh.index[id];\n",
       "    } else {\n",
       "      window.PyViz.plot_index[id] = null;\n",
       "    }\n",
       "  } else if (output.metadata[EXEC_MIME_TYPE][\"server_id\"] !== undefined) {\n",
       "    var bk_div = document.createElement(\"div\");\n",
       "    bk_div.innerHTML = output.data[HTML_MIME_TYPE];\n",
       "    var script_attrs = bk_div.children[0].attributes;\n",
       "    for (var i = 0; i < script_attrs.length; i++) {\n",
       "      toinsert[toinsert.length - 1].childNodes[1].setAttribute(script_attrs[i].name, script_attrs[i].value);\n",
       "    }\n",
       "    // store reference to server id on output_area\n",
       "    output_area._bokeh_server_id = output.metadata[EXEC_MIME_TYPE][\"server_id\"];\n",
       "  }\n",
       "}\n",
       "\n",
       "/**\n",
       " * Handle when an output is cleared or removed\n",
       " */\n",
       "function handle_clear_output(event, handle) {\n",
       "  var id = handle.cell.output_area._hv_plot_id;\n",
       "  var server_id = handle.cell.output_area._bokeh_server_id;\n",
       "  if (((id === undefined) || !(id in PyViz.plot_index)) && (server_id !== undefined)) { return; }\n",
       "  var comm = window.PyViz.comm_manager.get_client_comm(\"hv-extension-comm\", \"hv-extension-comm\", function () {});\n",
       "  if (server_id !== null) {\n",
       "    comm.send({event_type: 'server_delete', 'id': server_id});\n",
       "    return;\n",
       "  } else if (comm !== null) {\n",
       "    comm.send({event_type: 'delete', 'id': id});\n",
       "  }\n",
       "  delete PyViz.plot_index[id];\n",
       "  if ((window.Bokeh !== undefined) & (id in window.Bokeh.index)) {\n",
       "    var doc = window.Bokeh.index[id].model.document\n",
       "    doc.clear();\n",
       "    const i = window.Bokeh.documents.indexOf(doc);\n",
       "    if (i > -1) {\n",
       "      window.Bokeh.documents.splice(i, 1);\n",
       "    }\n",
       "  }\n",
       "}\n",
       "\n",
       "/**\n",
       " * Handle kernel restart event\n",
       " */\n",
       "function handle_kernel_cleanup(event, handle) {\n",
       "  delete PyViz.comms[\"hv-extension-comm\"];\n",
       "  window.PyViz.plot_index = {}\n",
       "}\n",
       "\n",
       "/**\n",
       " * Handle update_display_data messages\n",
       " */\n",
       "function handle_update_output(event, handle) {\n",
       "  handle_clear_output(event, {cell: {output_area: handle.output_area}})\n",
       "  handle_add_output(event, handle)\n",
       "}\n",
       "\n",
       "function register_renderer(events, OutputArea) {\n",
       "  function append_mime(data, metadata, element) {\n",
       "    // create a DOM node to render to\n",
       "    var toinsert = this.create_output_subarea(\n",
       "    metadata,\n",
       "    CLASS_NAME,\n",
       "    EXEC_MIME_TYPE\n",
       "    );\n",
       "    this.keyboard_manager.register_events(toinsert);\n",
       "    // Render to node\n",
       "    var props = {data: data, metadata: metadata[EXEC_MIME_TYPE]};\n",
       "    render(props, toinsert[0]);\n",
       "    element.append(toinsert);\n",
       "    return toinsert\n",
       "  }\n",
       "\n",
       "  events.on('output_added.OutputArea', handle_add_output);\n",
       "  events.on('output_updated.OutputArea', handle_update_output);\n",
       "  events.on('clear_output.CodeCell', handle_clear_output);\n",
       "  events.on('delete.Cell', handle_clear_output);\n",
       "  events.on('kernel_ready.Kernel', handle_kernel_cleanup);\n",
       "\n",
       "  OutputArea.prototype.register_mime_type(EXEC_MIME_TYPE, append_mime, {\n",
       "    safe: true,\n",
       "    index: 0\n",
       "  });\n",
       "}\n",
       "\n",
       "if (window.Jupyter !== undefined) {\n",
       "  try {\n",
       "    var events = require('base/js/events');\n",
       "    var OutputArea = require('notebook/js/outputarea').OutputArea;\n",
       "    if (OutputArea.prototype.mime_types().indexOf(EXEC_MIME_TYPE) == -1) {\n",
       "      register_renderer(events, OutputArea);\n",
       "    }\n",
       "  } catch(err) {\n",
       "  }\n",
       "}\n"
      ],
      "application/vnd.holoviews_load.v0+json": "\nif ((window.PyViz === undefined) || (window.PyViz instanceof HTMLElement)) {\n  window.PyViz = {comms: {}, comm_status:{}, kernels:{}, receivers: {}, plot_index: []}\n}\n\n\n    function JupyterCommManager() {\n    }\n\n    JupyterCommManager.prototype.register_target = function(plot_id, comm_id, msg_handler) {\n      if (window.comm_manager || ((window.Jupyter !== undefined) && (Jupyter.notebook.kernel != null))) {\n        var comm_manager = window.comm_manager || Jupyter.notebook.kernel.comm_manager;\n        comm_manager.register_target(comm_id, function(comm) {\n          comm.on_msg(msg_handler);\n        });\n      } else if ((plot_id in window.PyViz.kernels) && (window.PyViz.kernels[plot_id])) {\n        window.PyViz.kernels[plot_id].registerCommTarget(comm_id, function(comm) {\n          comm.onMsg = msg_handler;\n        });\n      } else if (typeof google != 'undefined' && google.colab.kernel != null) {\n        google.colab.kernel.comms.registerTarget(comm_id, (comm) => {\n          var messages = comm.messages[Symbol.asyncIterator]();\n          function processIteratorResult(result) {\n            var message = result.value;\n            console.log(message)\n            var content = {data: message.data, comm_id};\n            var buffers = []\n            for (var buffer of message.buffers || []) {\n              buffers.push(new DataView(buffer))\n            }\n            var metadata = message.metadata || {};\n            var msg = {content, buffers, metadata}\n            msg_handler(msg);\n            return messages.next().then(processIteratorResult);\n          }\n          return messages.next().then(processIteratorResult);\n        })\n      }\n    }\n\n    JupyterCommManager.prototype.get_client_comm = function(plot_id, comm_id, msg_handler) {\n      if (comm_id in window.PyViz.comms) {\n        return window.PyViz.comms[comm_id];\n      } else if (window.comm_manager || ((window.Jupyter !== undefined) && (Jupyter.notebook.kernel != null))) {\n        var comm_manager = window.comm_manager || Jupyter.notebook.kernel.comm_manager;\n        var comm = comm_manager.new_comm(comm_id, {}, {}, {}, comm_id);\n        if (msg_handler) {\n          comm.on_msg(msg_handler);\n        }\n      } else if ((plot_id in window.PyViz.kernels) && (window.PyViz.kernels[plot_id])) {\n        var comm = window.PyViz.kernels[plot_id].connectToComm(comm_id);\n        comm.open();\n        if (msg_handler) {\n          comm.onMsg = msg_handler;\n        }\n      } else if (typeof google != 'undefined' && google.colab.kernel != null) {\n        var comm_promise = google.colab.kernel.comms.open(comm_id)\n        comm_promise.then((comm) => {\n          window.PyViz.comms[comm_id] = comm;\n          if (msg_handler) {\n            var messages = comm.messages[Symbol.asyncIterator]();\n            function processIteratorResult(result) {\n              var message = result.value;\n              var content = {data: message.data};\n              var metadata = message.metadata || {comm_id};\n              var msg = {content, metadata}\n              msg_handler(msg);\n              return messages.next().then(processIteratorResult);\n            }\n            return messages.next().then(processIteratorResult);\n          }\n        }) \n        var sendClosure = (data, metadata, buffers, disposeOnDone) => {\n          return comm_promise.then((comm) => {\n            comm.send(data, metadata, buffers, disposeOnDone);\n          });\n        };\n        var comm = {\n          send: sendClosure\n        };\n      }\n      window.PyViz.comms[comm_id] = comm;\n      return comm;\n    }\n    window.PyViz.comm_manager = new JupyterCommManager();\n    \n\n\nvar JS_MIME_TYPE = 'application/javascript';\nvar HTML_MIME_TYPE = 'text/html';\nvar EXEC_MIME_TYPE = 'application/vnd.holoviews_exec.v0+json';\nvar CLASS_NAME = 'output';\n\n/**\n * Render data to the DOM node\n */\nfunction render(props, node) {\n  var div = document.createElement(\"div\");\n  var script = document.createElement(\"script\");\n  node.appendChild(div);\n  node.appendChild(script);\n}\n\n/**\n * Handle when a new output is added\n */\nfunction handle_add_output(event, handle) {\n  var output_area = handle.output_area;\n  var output = handle.output;\n  if ((output.data == undefined) || (!output.data.hasOwnProperty(EXEC_MIME_TYPE))) {\n    return\n  }\n  var id = output.metadata[EXEC_MIME_TYPE][\"id\"];\n  var toinsert = output_area.element.find(\".\" + CLASS_NAME.split(' ')[0]);\n  if (id !== undefined) {\n    var nchildren = toinsert.length;\n    var html_node = toinsert[nchildren-1].children[0];\n    html_node.innerHTML = output.data[HTML_MIME_TYPE];\n    var scripts = [];\n    var nodelist = html_node.querySelectorAll(\"script\");\n    for (var i in nodelist) {\n      if (nodelist.hasOwnProperty(i)) {\n        scripts.push(nodelist[i])\n      }\n    }\n\n    scripts.forEach( function (oldScript) {\n      var newScript = document.createElement(\"script\");\n      var attrs = [];\n      var nodemap = oldScript.attributes;\n      for (var j in nodemap) {\n        if (nodemap.hasOwnProperty(j)) {\n          attrs.push(nodemap[j])\n        }\n      }\n      attrs.forEach(function(attr) { newScript.setAttribute(attr.name, attr.value) });\n      newScript.appendChild(document.createTextNode(oldScript.innerHTML));\n      oldScript.parentNode.replaceChild(newScript, oldScript);\n    });\n    if (JS_MIME_TYPE in output.data) {\n      toinsert[nchildren-1].children[1].textContent = output.data[JS_MIME_TYPE];\n    }\n    output_area._hv_plot_id = id;\n    if ((window.Bokeh !== undefined) && (id in Bokeh.index)) {\n      window.PyViz.plot_index[id] = Bokeh.index[id];\n    } else {\n      window.PyViz.plot_index[id] = null;\n    }\n  } else if (output.metadata[EXEC_MIME_TYPE][\"server_id\"] !== undefined) {\n    var bk_div = document.createElement(\"div\");\n    bk_div.innerHTML = output.data[HTML_MIME_TYPE];\n    var script_attrs = bk_div.children[0].attributes;\n    for (var i = 0; i < script_attrs.length; i++) {\n      toinsert[toinsert.length - 1].childNodes[1].setAttribute(script_attrs[i].name, script_attrs[i].value);\n    }\n    // store reference to server id on output_area\n    output_area._bokeh_server_id = output.metadata[EXEC_MIME_TYPE][\"server_id\"];\n  }\n}\n\n/**\n * Handle when an output is cleared or removed\n */\nfunction handle_clear_output(event, handle) {\n  var id = handle.cell.output_area._hv_plot_id;\n  var server_id = handle.cell.output_area._bokeh_server_id;\n  if (((id === undefined) || !(id in PyViz.plot_index)) && (server_id !== undefined)) { return; }\n  var comm = window.PyViz.comm_manager.get_client_comm(\"hv-extension-comm\", \"hv-extension-comm\", function () {});\n  if (server_id !== null) {\n    comm.send({event_type: 'server_delete', 'id': server_id});\n    return;\n  } else if (comm !== null) {\n    comm.send({event_type: 'delete', 'id': id});\n  }\n  delete PyViz.plot_index[id];\n  if ((window.Bokeh !== undefined) & (id in window.Bokeh.index)) {\n    var doc = window.Bokeh.index[id].model.document\n    doc.clear();\n    const i = window.Bokeh.documents.indexOf(doc);\n    if (i > -1) {\n      window.Bokeh.documents.splice(i, 1);\n    }\n  }\n}\n\n/**\n * Handle kernel restart event\n */\nfunction handle_kernel_cleanup(event, handle) {\n  delete PyViz.comms[\"hv-extension-comm\"];\n  window.PyViz.plot_index = {}\n}\n\n/**\n * Handle update_display_data messages\n */\nfunction handle_update_output(event, handle) {\n  handle_clear_output(event, {cell: {output_area: handle.output_area}})\n  handle_add_output(event, handle)\n}\n\nfunction register_renderer(events, OutputArea) {\n  function append_mime(data, metadata, element) {\n    // create a DOM node to render to\n    var toinsert = this.create_output_subarea(\n    metadata,\n    CLASS_NAME,\n    EXEC_MIME_TYPE\n    );\n    this.keyboard_manager.register_events(toinsert);\n    // Render to node\n    var props = {data: data, metadata: metadata[EXEC_MIME_TYPE]};\n    render(props, toinsert[0]);\n    element.append(toinsert);\n    return toinsert\n  }\n\n  events.on('output_added.OutputArea', handle_add_output);\n  events.on('output_updated.OutputArea', handle_update_output);\n  events.on('clear_output.CodeCell', handle_clear_output);\n  events.on('delete.Cell', handle_clear_output);\n  events.on('kernel_ready.Kernel', handle_kernel_cleanup);\n\n  OutputArea.prototype.register_mime_type(EXEC_MIME_TYPE, append_mime, {\n    safe: true,\n    index: 0\n  });\n}\n\nif (window.Jupyter !== undefined) {\n  try {\n    var events = require('base/js/events');\n    var OutputArea = require('notebook/js/outputarea').OutputArea;\n    if (OutputArea.prototype.mime_types().indexOf(EXEC_MIME_TYPE) == -1) {\n      register_renderer(events, OutputArea);\n    }\n  } catch(err) {\n  }\n}\n"
     },
     "metadata": {},
     "output_type": "display_data"
    },
    {
     "data": {},
     "metadata": {},
     "output_type": "display_data"
    },
    {
     "data": {
      "application/vnd.holoviews_exec.v0+json": "",
      "text/html": [
       "<div id='1002'>\n",
       "\n",
       "\n",
       "\n",
       "\n",
       "\n",
       "  <div class=\"bk-root\" id=\"d91d8658-eb7e-43e7-a47f-625046b9c5e2\" data-root-id=\"1002\"></div>\n",
       "</div>\n",
       "<script type=\"application/javascript\">(function(root) {\n",
       "  function embed_document(root) {\n",
       "    var docs_json = {\"6b28e5dd-de90-4d0e-8862-652295df360c\":{\"defs\":[{\"extends\":null,\"module\":null,\"name\":\"ReactiveHTML1\",\"overrides\":[],\"properties\":[]},{\"extends\":null,\"module\":null,\"name\":\"FlexBox1\",\"overrides\":[],\"properties\":[{\"default\":\"flex-start\",\"kind\":null,\"name\":\"align_content\"},{\"default\":\"flex-start\",\"kind\":null,\"name\":\"align_items\"},{\"default\":\"row\",\"kind\":null,\"name\":\"flex_direction\"},{\"default\":\"wrap\",\"kind\":null,\"name\":\"flex_wrap\"},{\"default\":\"flex-start\",\"kind\":null,\"name\":\"justify_content\"}]},{\"extends\":null,\"module\":null,\"name\":\"TemplateActions1\",\"overrides\":[],\"properties\":[{\"default\":0,\"kind\":null,\"name\":\"open_modal\"},{\"default\":0,\"kind\":null,\"name\":\"close_modal\"}]},{\"extends\":null,\"module\":null,\"name\":\"MaterialTemplateActions1\",\"overrides\":[],\"properties\":[{\"default\":0,\"kind\":null,\"name\":\"open_modal\"},{\"default\":0,\"kind\":null,\"name\":\"close_modal\"}]}],\"roots\":{\"references\":[{\"attributes\":{\"children\":[{\"id\":\"1007\"}],\"margin\":[0,0,0,0],\"name\":\"Row00109\"},\"id\":\"1006\",\"type\":\"Row\"},{\"attributes\":{\"height\":576,\"margin\":[5,5,5,5],\"name\":\"interactive00101\",\"text\":\"&lt;img src=&quot;data:image/png;base64,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&quot; width=&quot;864px&quot; height=&quot;576px&quot; alt=&quot;&quot;&gt;&lt;/img&gt;\",\"width\":864},\"id\":\"1007\",\"type\":\"panel.models.markup.HTML\"},{\"attributes\":{\"children\":[{\"id\":\"1004\"},{\"id\":\"1005\"}],\"margin\":[0,0,0,0],\"name\":\"Column00110\"},\"id\":\"1003\",\"type\":\"Column\"},{\"attributes\":{\"reload\":false},\"id\":\"1009\",\"type\":\"panel.models.location.Location\"},{\"attributes\":{\"children\":[{\"id\":\"1003\"},{\"id\":\"1006\"}],\"margin\":[0,0,0,0],\"name\":\"Column00102\"},\"id\":\"1002\",\"type\":\"Column\"},{\"attributes\":{\"client_comm_id\":\"c0263f2843ac4144b8e8d6f6b9d768c6\",\"comm_id\":\"927179d83eb94337b6ae4d86e7e017a0\",\"plot_id\":\"1002\"},\"id\":\"1008\",\"type\":\"panel.models.comm_manager.CommManager\"},{\"attributes\":{\"end\":150,\"margin\":[5,10,5,10],\"start\":-50,\"title\":\"window\",\"value\":50},\"id\":\"1004\",\"type\":\"Slider\"},{\"attributes\":{\"end\":30,\"margin\":[5,10,5,10],\"start\":-10,\"title\":\"sigma\",\"value\":10},\"id\":\"1005\",\"type\":\"Slider\"}],\"root_ids\":[\"1002\",\"1008\",\"1009\"]},\"title\":\"Bokeh Application\",\"version\":\"2.4.2\"}};\n",
       "    var render_items = [{\"docid\":\"6b28e5dd-de90-4d0e-8862-652295df360c\",\"root_ids\":[\"1002\"],\"roots\":{\"1002\":\"d91d8658-eb7e-43e7-a47f-625046b9c5e2\"}}];\n",
       "    root.Bokeh.embed.embed_items_notebook(docs_json, render_items);\n",
       "  }\n",
       "  if (root.Bokeh !== undefined && root.Bokeh.Panel !== undefined) {\n",
       "    embed_document(root);\n",
       "  } else {\n",
       "    var attempts = 0;\n",
       "    var timer = setInterval(function(root) {\n",
       "      if (root.Bokeh !== undefined && root.Bokeh.Panel !== undefined) {\n",
       "        clearInterval(timer);\n",
       "        embed_document(root);\n",
       "      } else if (document.readyState == \"complete\") {\n",
       "        attempts++;\n",
       "        if (attempts > 200) {\n",
       "          clearInterval(timer);\n",
       "          console.log(\"Bokeh: ERROR: Unable to run BokehJS code because BokehJS library is missing\");\n",
       "        }\n",
       "      }\n",
       "    }, 25, root)\n",
       "  }\n",
       "})(window);</script>"
      ],
      "text/plain": [
       "Column\n",
       "    [0] Column\n",
       "        [0] IntSlider(end=150, name='window', start=-50, value=50)\n",
       "        [1] IntSlider(end=30, name='sigma', start=-10, value=10)\n",
       "    [1] Row\n",
       "        [0] Matplotlib(Figure, name='interactive00101')"
      ]
     },
     "execution_count": 10,
     "metadata": {
      "application/vnd.holoviews_exec.v0+json": {
       "id": "1002"
      }
     },
     "output_type": "execute_result"
    }
   ],
   "source": [
    "import panel as pn\n",
    "pn.extension()\n",
    "\n",
    "pn.interact(find_outliers)"
   ]
  },
  {
   "cell_type": "code",
   "execution_count": 11,
   "metadata": {},
   "outputs": [
    {
     "name": "stdout",
     "output_type": "stream",
     "text": [
      "Column\n",
      "    [0] Column\n",
      "        [0] Select(name='variable', options=['created_at', ...], value='favourite_count')\n",
      "        [1] IntSlider(end=60, name='window', start=1, value=50)\n",
      "        [2] IntSlider(end=20, name='sigma', start=1, value=10)\n",
      "    [1] Row\n",
      "        [0] Matplotlib(Figure, name='interactive00114')\n"
     ]
    }
   ],
   "source": [
    "kw = dict(window=(1, 60), variable=sorted(list(data.columns)), sigma=(1, 20))\n",
    "i = pn.interact(find_outliers, **kw)\n",
    "i.pprint()"
   ]
  },
  {
   "cell_type": "code",
   "execution_count": 12,
   "metadata": {},
   "outputs": [
    {
     "name": "stdout",
     "output_type": "stream",
     "text": [
      "Column\n",
      "    [0] Column\n",
      "        [0] Select(name='variable', options=['created_at', ...], value='favourite_count')\n",
      "        [1] IntSlider(end=60, name='window', start=1, value=50)\n",
      "        [2] IntSlider(end=20, name='sigma', start=1, value=10)\n",
      "    [1] Row\n",
      "        [0] Matplotlib(Figure, name='interactive00124')\n"
     ]
    }
   ],
   "source": [
    "kw = dict(window=(1, 60), variable=sorted(list(data.columns)), sigma=(1, 20))\n",
    "i = pn.interact(find_outliers, **kw)\n",
    "i.pprint()"
   ]
  },
  {
   "cell_type": "code",
   "execution_count": 13,
   "metadata": {},
   "outputs": [
    {
     "data": {
      "text/html": [
       "\n",
       "<pre>Traceback (most recent call last):\n",
       "  File &quot;C:\\Users\\eddie\\anaconda3\\lib\\site-packages\\pandas\\core\\window\\rolling.py&quot;, line 455, in _apply\n",
       "    values = self._prep_values(b.values)\n",
       "  File &quot;C:\\Users\\eddie\\anaconda3\\lib\\site-packages\\pandas\\core\\window\\rolling.py&quot;, line 266, in _prep_values\n",
       "    raise NotImplementedError(\n",
       "NotImplementedError: ops for Rolling for this dtype datetime64[ns] are not implemented\n",
       "\n",
       "During handling of the above exception, another exception occurred:\n",
       "\n",
       "Traceback (most recent call last):\n",
       "  File &quot;C:\\Users\\eddie\\anaconda3\\lib\\site-packages\\pyviz_comms\\__init__.py&quot;, line 325, in _handle_msg\n",
       "    self._on_msg(msg)\n",
       "  File &quot;C:\\Users\\eddie\\anaconda3\\lib\\site-packages\\panel\\viewable.py&quot;, line 273, in _on_msg\n",
       "    doc.unhold()\n",
       "  File &quot;C:\\Users\\eddie\\anaconda3\\lib\\site-packages\\bokeh\\document\\document.py&quot;, line 799, in unhold\n",
       "    self.callbacks.unhold()\n",
       "  File &quot;C:\\Users\\eddie\\anaconda3\\lib\\site-packages\\bokeh\\document\\callbacks.py&quot;, line 396, in unhold\n",
       "    self.trigger_on_change(event)\n",
       "  File &quot;C:\\Users\\eddie\\anaconda3\\lib\\site-packages\\bokeh\\document\\callbacks.py&quot;, line 373, in trigger_on_change\n",
       "    invoke_with_curdoc(doc, event.callback_invoker)\n",
       "  File &quot;C:\\Users\\eddie\\anaconda3\\lib\\site-packages\\bokeh\\document\\callbacks.py&quot;, line 408, in invoke_with_curdoc\n",
       "    return f()\n",
       "  File &quot;C:\\Users\\eddie\\anaconda3\\lib\\site-packages\\bokeh\\util\\callback_manager.py&quot;, line 191, in invoke\n",
       "    callback(attr, old, new)\n",
       "  File &quot;C:\\Users\\eddie\\anaconda3\\lib\\site-packages\\panel\\reactive.py&quot;, line 302, in _comm_change\n",
       "    self._process_events({attr: new})\n",
       "  File &quot;C:\\Users\\eddie\\anaconda3\\lib\\site-packages\\panel\\reactive.py&quot;, line 263, in _process_events\n",
       "    self.param.set_param(**self_events)\n",
       "  File &quot;C:\\Users\\eddie\\anaconda3\\lib\\site-packages\\param\\parameterized.py&quot;, line 1904, in set_param\n",
       "    return self_.update(kwargs)\n",
       "  File &quot;C:\\Users\\eddie\\anaconda3\\lib\\site-packages\\param\\parameterized.py&quot;, line 1877, in update\n",
       "    self_._batch_call_watchers()\n",
       "  File &quot;C:\\Users\\eddie\\anaconda3\\lib\\site-packages\\param\\parameterized.py&quot;, line 2038, in _batch_call_watchers\n",
       "    self_._execute_watcher(watcher, events)\n",
       "  File &quot;C:\\Users\\eddie\\anaconda3\\lib\\site-packages\\param\\parameterized.py&quot;, line 2000, in _execute_watcher\n",
       "    watcher.fn(*args, **kwargs)\n",
       "  File &quot;C:\\Users\\eddie\\anaconda3\\lib\\site-packages\\panel\\interact.py&quot;, line 190, in update_pane\n",
       "    new_object = self.object(**self.kwargs)\n",
       "  File &quot;&lt;ipython-input-8-ce88169763e9&gt;&quot;, line 4, in find_outliers\n",
       "    avg = data[variable].rolling(window=window).mean()\n",
       "  File &quot;C:\\Users\\eddie\\anaconda3\\lib\\site-packages\\pandas\\core\\window\\rolling.py&quot;, line 2019, in mean\n",
       "    return super().mean(*args, **kwargs)\n",
       "  File &quot;C:\\Users\\eddie\\anaconda3\\lib\\site-packages\\pandas\\core\\window\\rolling.py&quot;, line 1399, in mean\n",
       "    return self._apply(window_func, center=self.center, name=&quot;mean&quot;, **kwargs)\n",
       "  File &quot;C:\\Users\\eddie\\anaconda3\\lib\\site-packages\\pandas\\core\\window\\rolling.py&quot;, line 463, in _apply\n",
       "    raise DataError(&quot;No numeric types to aggregate&quot;)\n",
       "pandas.core.base.DataError: No numeric types to aggregate\n",
       "</pre>\n"
      ]
     },
     "metadata": {},
     "output_type": "display_data"
    },
    {
     "data": {
      "application/vnd.holoviews_exec.v0+json": "",
      "text/html": [
       "<div id='1010'>\n",
       "\n",
       "\n",
       "\n",
       "\n",
       "\n",
       "  <div class=\"bk-root\" id=\"01217127-8147-477c-a72f-94d5b3bbef60\" data-root-id=\"1010\"></div>\n",
       "</div>\n",
       "<script type=\"application/javascript\">(function(root) {\n",
       "  function embed_document(root) {\n",
       "    var docs_json = {\"74770c31-6e31-4351-98de-bba53111d4be\":{\"defs\":[{\"extends\":null,\"module\":null,\"name\":\"ReactiveHTML1\",\"overrides\":[],\"properties\":[]},{\"extends\":null,\"module\":null,\"name\":\"FlexBox1\",\"overrides\":[],\"properties\":[{\"default\":\"flex-start\",\"kind\":null,\"name\":\"align_content\"},{\"default\":\"flex-start\",\"kind\":null,\"name\":\"align_items\"},{\"default\":\"row\",\"kind\":null,\"name\":\"flex_direction\"},{\"default\":\"wrap\",\"kind\":null,\"name\":\"flex_wrap\"},{\"default\":\"flex-start\",\"kind\":null,\"name\":\"justify_content\"}]},{\"extends\":null,\"module\":null,\"name\":\"TemplateActions1\",\"overrides\":[],\"properties\":[{\"default\":0,\"kind\":null,\"name\":\"open_modal\"},{\"default\":0,\"kind\":null,\"name\":\"close_modal\"}]},{\"extends\":null,\"module\":null,\"name\":\"MaterialTemplateActions1\",\"overrides\":[],\"properties\":[{\"default\":0,\"kind\":null,\"name\":\"open_modal\"},{\"default\":0,\"kind\":null,\"name\":\"close_modal\"}]}],\"roots\":{\"references\":[{\"attributes\":{\"children\":[{\"id\":\"1011\"},{\"id\":\"1012\"}],\"margin\":[0,0,0,0],\"name\":\"Row00137\"},\"id\":\"1010\",\"type\":\"Row\"},{\"attributes\":{\"client_comm_id\":\"e61af60e1fa2473085709e4aace4056a\",\"comm_id\":\"a6141897b4934698a2c585c01d770640\",\"plot_id\":\"1010\"},\"id\":\"1016\",\"type\":\"panel.models.comm_manager.CommManager\"},{\"attributes\":{\"css_classes\":[\"markdown\"],\"margin\":[5,5,5,5],\"name\":\"Markdown00134\",\"text\":\"&lt;p&gt;&lt;br&gt;&lt;/p&gt;\\n&lt;h1&gt;Microsoft Tweets Analysis&lt;/h1&gt;\\n&lt;p&gt;Select the variable, and the time window for smoothing&lt;/p&gt;\"},\"id\":\"1013\",\"type\":\"panel.models.markup.HTML\"},{\"attributes\":{\"children\":[{\"id\":\"1013\"},{\"id\":\"1014\"},{\"id\":\"1015\"}],\"margin\":[0,0,0,0],\"name\":\"Column00136\"},\"id\":\"1012\",\"type\":\"Column\"},{\"attributes\":{\"margin\":[5,10,5,10],\"options\":[\"created_at\",\"favourite_count\",\"retweet_count\",\"sentiment_blob\",\"sentiment_flair\",\"sentiment_nltk\",\"sentiment_vader\",\"text_len\"],\"title\":\"variable\",\"value\":\"favourite_count\"},\"id\":\"1014\",\"type\":\"Select\"},{\"attributes\":{\"end\":60,\"margin\":[5,10,5,10],\"start\":1,\"title\":\"window\",\"value\":50},\"id\":\"1015\",\"type\":\"Slider\"},{\"attributes\":{\"height\":576,\"margin\":[5,5,5,5],\"name\":\"interactive00124\",\"text\":\"&lt;img src=&quot;data:image/png;base64,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&quot; width=&quot;864px&quot; height=&quot;576px&quot; alt=&quot;&quot;&gt;&lt;/img&gt;\",\"width\":864},\"id\":\"1011\",\"type\":\"panel.models.markup.HTML\"}],\"root_ids\":[\"1010\",\"1016\"]},\"title\":\"Bokeh Application\",\"version\":\"2.4.2\"}};\n",
       "    var render_items = [{\"docid\":\"74770c31-6e31-4351-98de-bba53111d4be\",\"root_ids\":[\"1010\"],\"roots\":{\"1010\":\"01217127-8147-477c-a72f-94d5b3bbef60\"}}];\n",
       "    root.Bokeh.embed.embed_items_notebook(docs_json, render_items);\n",
       "  }\n",
       "  if (root.Bokeh !== undefined && root.Bokeh.Panel !== undefined) {\n",
       "    embed_document(root);\n",
       "  } else {\n",
       "    var attempts = 0;\n",
       "    var timer = setInterval(function(root) {\n",
       "      if (root.Bokeh !== undefined && root.Bokeh.Panel !== undefined) {\n",
       "        clearInterval(timer);\n",
       "        embed_document(root);\n",
       "      } else if (document.readyState == \"complete\") {\n",
       "        attempts++;\n",
       "        if (attempts > 200) {\n",
       "          clearInterval(timer);\n",
       "          console.log(\"Bokeh: ERROR: Unable to run BokehJS code because BokehJS library is missing\");\n",
       "        }\n",
       "      }\n",
       "    }, 25, root)\n",
       "  }\n",
       "})(window);</script>"
      ],
      "text/plain": [
       "Row\n",
       "    [0] Matplotlib(Figure, name='interactive00124')\n",
       "    [1] Column\n",
       "        [0] Markdown(str)\n",
       "        [1] Select(name='variable', options=['created_at', ...], value='favourite_count')\n",
       "        [2] IntSlider(end=60, name='window', start=1, value=50)"
      ]
     },
     "execution_count": 13,
     "metadata": {
      "application/vnd.holoviews_exec.v0+json": {
       "id": "1010"
      }
     },
     "output_type": "execute_result"
    }
   ],
   "source": [
    "text = \"<br>\\n# Microsoft Tweets Analysis\\nSelect the variable, and the time window for smoothing\"\n",
    "\n",
    "p = pn.Row(i[1][0], pn.Column(text, i[0][0], i[0][1]))\n",
    "p"
   ]
  },
  {
   "cell_type": "code",
   "execution_count": null,
   "metadata": {},
   "outputs": [],
   "source": [
    "#!pip install mitoinstaller"
   ]
  },
  {
   "cell_type": "code",
   "execution_count": 1,
   "metadata": {},
   "outputs": [
    {
     "data": {
      "application/vnd.jupyter.widget-view+json": {
       "model_id": "b246a94c162146e2827159e06979e79e",
       "version_major": 2,
       "version_minor": 0
      },
      "text/plain": [
       "MitoWidget(analysis_data_json='{\"analysisName\": \"UUID-5b0fb200-4492-4c3b-a01c-592b2fae4402\", \"code\": {\"imports…"
      ]
     },
     "metadata": {},
     "output_type": "display_data"
    }
   ],
   "source": [
    "import mitosheet\n",
    "mitosheet.sheet()"
   ]
  },
  {
   "cell_type": "code",
   "execution_count": null,
   "metadata": {},
   "outputs": [],
   "source": [
    "from mitosheet import *; register_analysis('UUID-27ad2213-28eb-4be6-928d-aebf48d8aee2')\n",
    "    \n",
    "# Imported Microsoft_Twitter_Cleaned_Num_Sentiment.csv\n",
    "import pandas as pd\n",
    "Microsoft_Twitter_Cleaned_Num_Sentiment = pd.read_csv(r'Microsoft_Twitter_Cleaned_Num_Sentiment.csv')\n",
    "\n",
    "# Deleted column Unnamed: 0 from Microsoft_Twitter_Cleaned_Num_Sentiment\n",
    "Microsoft_Twitter_Cleaned_Num_Sentiment.drop(['Unnamed: 0'], axis=1, inplace=True)\n",
    "\n",
    "# Changed created_at from object to datetime\n",
    "import pandas as pd\n",
    "Microsoft_Twitter_Cleaned_Num_Sentiment['created_at'] = pd.to_datetime(Microsoft_Twitter_Cleaned_Num_Sentiment['created_at'], infer_datetime_format=True, errors='coerce')\n",
    "\n",
    "# Sorted created_at in Microsoft_Twitter_Cleaned_Num_Sentiment in ascending order\n",
    "Microsoft_Twitter_Cleaned_Num_Sentiment = Microsoft_Twitter_Cleaned_Num_Sentiment.sort_values(by='created_at', ascending=True, na_position='first')\n",
    "\n",
    "\n",
    "# Imported Microsoft_Twitter_Cleaned_Num_Sentiment.csv\n",
    "import pandas as pd\n",
    "Microsoft_Twitter_Cleaned_Num_Sentiment_1 = pd.read_csv(r'Microsoft_Twitter_Cleaned_Num_Sentiment.csv')\n",
    "\n",
    "\n",
    "# Drop duplicates in Microsoft_Twitter_Cleaned_Num_Sentiment\n",
    "Microsoft_Twitter_Cleaned_Num_Sentiment = Microsoft_Twitter_Cleaned_Num_Sentiment.drop_duplicates(keep='first')\n"
   ]
  },
  {
   "cell_type": "code",
   "execution_count": null,
   "metadata": {},
   "outputs": [],
   "source": [
    "import plotly.express as px\n",
    "\n",
    "# Filter the dataframe so that it does not crash the browser\n",
    "Microsoft_Twitter_Cleaned_Num_Sentiment_filtered = Microsoft_Twitter_Cleaned_Num_Sentiment.head(1000)\n",
    "\n",
    "# Construct the graph and style it. Further customize your graph by editing this code.\n",
    "# See Plotly Documentation for help: https://plotly.com/python/plotly-express/\n",
    "fig = px.histogram(Microsoft_Twitter_Cleaned_Num_Sentiment_filtered, x='text_len')\n",
    "fig.update_layout(\n",
    "    title='text_len (first 1000 rows) histogram',\n",
    "    barmode='group',\n",
    "    xaxis=dict(\n",
    "        rangeslider=dict(\n",
    "            visible=True,\n",
    "            thickness=.05\n",
    "        )\n",
    "    )\n",
    ")\n",
    "fig.show(renderer=\"iframe\")"
   ]
  },
  {
   "cell_type": "code",
   "execution_count": null,
   "metadata": {},
   "outputs": [],
   "source": [
    "import plotly.express as px\n",
    "\n",
    "# Filter the dataframe so that it does not crash the browser\n",
    "Microsoft_Twitter_Cleaned_Num_Sentiment_filtered = Microsoft_Twitter_Cleaned_Num_Sentiment.head(1000)\n",
    "\n",
    "# Construct the graph and style it. Further customize your graph by editing this code.\n",
    "# See Plotly Documentation for help: https://plotly.com/python/plotly-express/\n",
    "fig = px.bar(Microsoft_Twitter_Cleaned_Num_Sentiment_filtered, x=['sentiment_vader', 'sentiment_nltk', 'sentiment_flair'], y='text_len')\n",
    "fig.update_layout(\n",
    "    title='sentiment_vader, sentiment_nltk, sentiment_flair, text_len (first 1000 rows) bar chart',\n",
    "    barmode='group',\n",
    "    xaxis=dict(\n",
    "        rangeslider=dict(\n",
    "            visible=True,\n",
    "            thickness=.05\n",
    "        )\n",
    "    )\n",
    ")\n",
    "fig.show(renderer=\"iframe\")"
   ]
  }
 ],
 "metadata": {
  "interpreter": {
   "hash": "b4ae3f830fabd9f6d0be2bfdf736c723070752cf5dc82cce9d3e82472cb111d1"
  },
  "kernelspec": {
   "display_name": "Python 3",
   "language": "python",
   "name": "python3"
  },
  "language_info": {
   "codemirror_mode": {
    "name": "ipython",
    "version": 3
   },
   "file_extension": ".py",
   "mimetype": "text/x-python",
   "name": "python",
   "nbconvert_exporter": "python",
   "pygments_lexer": "ipython3",
   "version": "3.8.8"
  }
 },
 "nbformat": 4,
 "nbformat_minor": 4
}
